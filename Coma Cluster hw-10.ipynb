{
 "cells": [
  {
   "cell_type": "code",
   "execution_count": 35,
   "metadata": {},
   "outputs": [],
   "source": [
    "import numpy as np\n",
    "import matplotlib.pyplot as plt\n",
    "import csv"
   ]
  },
  {
   "cell_type": "markdown",
   "metadata": {},
   "source": [
    "Make an x,y plot of the galaxy distribution. (make sure the axes on your plot have a square aspect ratio) See – it’s a cluster!"
   ]
  },
  {
   "cell_type": "code",
   "execution_count": 36,
   "metadata": {
    "scrolled": false
   },
   "outputs": [
    {
     "data": {
      "image/png": "[encoded data removed]",
      "text/plain": [
       "<Figure size 648x648 with 1 Axes>"
      ]
     },
     "metadata": {
      "needs_background": "light"
     },
     "output_type": "display_data"
    }
   ],
   "source": [
    "plt.figure(figsize = (9,9))\n",
    "\n",
    "data = np.loadtxt('coma.txt')\n",
    "\n",
    "plt.plot(data[:,1], data[:,2], '.', c = 'darkslateblue')\n",
    "plt.title('galaxy position in Coma cluster')\n",
    "plt.xlabel('x, arcminutes ')\n",
    "plt.ylabel('y, arcminutes ')\n",
    "plt.show()"
   ]
  },
  {
   "cell_type": "code",
   "execution_count": 37,
   "metadata": {},
   "outputs": [
    {
     "data": {
      "application/vnd.plotly.v1+json": {
       "config": {
        "plotlyServerURL": "https://plot.ly"
       },
       "data": [
        {
         "hovertemplate": "x=%{x}<br>y=%{y}<extra></extra>",
         "legendgroup": "",
         "marker": {
          "color": "#636efa",
          "symbol": "circle"
         },
         "mode": "markers",
         "name": "",
         "orientation": "v",
         "showlegend": false,
         "type": "scatter",
         "x": [
          -286.8,
          -271.1,
          -270,
          -270.2,
          -278.1,
          -270.7,
          -276.6,
          -277.1,
          -278.7,
          -275.4,
          -272.6,
          -275.5,
          -263.9,
          -275.3,
          -277.9,
          -267.9,
          -254.9,
          -267.6,
          -260.9,
          -256.7,
          -257.2,
          -249.8,
          -253.1,
          -252.4,
          -249.3,
          -242.9,
          -238.4,
          -250.6,
          -250.2,
          -248.7,
          -234.3,
          -251,
          -242.5,
          -228.1,
          -226.8,
          -231.3,
          -231.6,
          -232.1,
          -225.6,
          -214.2,
          -216.1,
          -216.6,
          -216.7,
          -203.9,
          -208.2,
          -210.2,
          -200.2,
          -208.7,
          -203.5,
          -206.8,
          -203.3,
          -190.1,
          -197.5,
          -188.3,
          -193.7,
          -191.4,
          -187.3,
          -179.5,
          -179,
          -178.8,
          -173.5,
          -176.6,
          -171.5,
          -172.7,
          -164.4,
          -167.8,
          -165.5,
          -159.7,
          -162.2,
          -160.8,
          -156.3,
          -149.4,
          -152.9,
          -147.5,
          -147.7,
          -141.5,
          -145.6,
          -142.5,
          -134.4,
          -140.6,
          -138.8,
          -130.4,
          -134.1,
          -135.8,
          -132,
          -129.9,
          -130.6,
          -129.2,
          -127.9,
          -122.8,
          -125.9,
          -121.7,
          -118.7,
          -120.1,
          -119.2,
          -117.3,
          -117.2,
          -112.1,
          -115.1,
          -107.8,
          -111.9,
          -110.6,
          -112.1,
          -108.8,
          -106.2,
          -106.4,
          -105.5,
          -105.5,
          -103.8,
          -104,
          -100.2,
          -99.45,
          -98.69,
          -96.72,
          -94.76,
          -88.91,
          -93.88,
          -90.97,
          -85.78,
          -85.52,
          -81.56,
          -81.48,
          -79.42,
          -81.92,
          -78.54,
          -79.99,
          -79.88,
          -78.17,
          -77.47,
          -76.99,
          -72.89,
          -73.38,
          -73.11,
          -70.74,
          -67.97,
          -68.28,
          -68.69,
          -63.77,
          -65.51,
          -63.69,
          -61.89,
          -61.8,
          -61.29,
          -61.09,
          -58.55,
          -52.79,
          -51.85,
          -51.41,
          -50.74,
          -48.86,
          -49.72,
          -48.17,
          -48.34,
          -48.04,
          -48.08,
          -47.38,
          -47.37,
          -46.65,
          -44.48,
          -44.76,
          -42.85,
          -43.43,
          -43.2,
          -42.32,
          -43.12,
          -41.16,
          -39.4,
          -39.86,
          -39.87,
          -38.87,
          -37.7,
          -35.56,
          -35.2,
          -34.36,
          -34.02,
          -34.42,
          -33.45,
          -33.62,
          -33.03,
          -33,
          -30.31,
          -31.64,
          -30.28,
          -30.15,
          -29.9,
          -29.08,
          -27.93,
          -26.35,
          -27.3,
          -27.32,
          -27.13,
          -26.75,
          -26.15,
          -26.38,
          -25.17,
          -23.91,
          -25.18,
          -24.98,
          -24.22,
          -24.36,
          -24.11,
          -23.1,
          -22.63,
          -22.66,
          -21.05,
          -20.8,
          -19.89,
          -19.81,
          -19.69,
          -19.41,
          -19.47,
          -17.7,
          -17.08,
          -16.09,
          -16.8,
          -16.76,
          -16.01,
          -15.14,
          -14,
          -14.06,
          -13.78,
          -13.74,
          -13.33,
          -13.12,
          -12.89,
          -12.61,
          -12.5,
          -12.46,
          -11.33,
          -11.28,
          -11.32,
          -11.13,
          -10.54,
          -10.86,
          -9.823,
          -9.44,
          -9.076,
          -7.86,
          -7.762,
          -7.593,
          -7.433,
          -7.101,
          -7.266,
          -6.988,
          -6.697,
          -6.326,
          -5.858,
          -5.466,
          -5.326,
          -5.266,
          -4.43,
          -3.898,
          -3.7,
          -3.853,
          -2.361,
          -1.854,
          -1.456,
          -1.409,
          -0.305,
          0,
          0.7906,
          0.7924,
          2.167,
          2.265,
          2.925,
          2.963,
          2.984,
          3.907,
          4.706,
          5.402,
          5.822,
          6.447,
          7.383,
          7.567,
          7.786,
          7.759,
          8.029,
          8.453,
          8.784,
          9.757,
          9.799,
          10.05,
          10.38,
          10.4,
          10.51,
          11.05,
          11.41,
          12.1,
          12.82,
          16.15,
          17.28,
          17.57,
          17.74,
          17.73,
          18.03,
          19.3,
          19.56,
          21.71,
          22.63,
          23.37,
          23.8,
          24.17,
          24.96,
          25.56,
          26.22,
          27.3,
          27.35,
          28.29,
          30.21,
          30.65,
          33.96,
          34.43,
          35.29,
          37.18,
          37.95,
          38.93,
          40.48,
          40.72,
          42.33,
          42.62,
          40.8,
          45.65,
          48.64,
          50.13,
          49.7,
          49.96,
          54.13,
          54.76,
          55.49,
          56.66,
          56.71,
          58.1,
          58.18,
          60.05,
          58.82,
          64.29,
          68.2,
          69.86,
          69.88,
          65.99,
          67.29,
          70.05,
          71.98,
          75.93,
          77.56,
          79.3,
          83.46,
          81.55,
          82.21,
          86.93,
          86.61,
          86.26,
          86.27,
          90.19,
          94.59,
          98.78,
          100.4,
          95.71,
          103.7,
          105.8,
          103.3,
          103.9,
          106.8,
          106.4,
          108.5,
          110.7,
          114.9,
          109.4,
          116.8,
          116.1,
          116.9,
          117.8,
          120.3,
          127.7,
          132.8,
          129.3,
          128.9,
          128.9,
          130.2,
          131.7,
          146.8,
          139.8,
          142.9,
          143,
          147.8,
          164.5,
          160.6,
          162.9,
          161.8,
          162.3,
          172.4,
          165.6,
          171.7,
          172.1,
          177.2,
          177.5,
          175.3,
          185.7,
          185.3,
          186.8,
          189.8,
          197.9,
          204.1,
          206.3,
          195.1,
          206.7,
          202.2,
          200.5,
          214.3,
          207.8,
          219.4,
          210,
          210.1,
          210.9,
          227.3,
          213.2,
          214.5,
          214.7,
          221.2,
          222.3,
          224.2,
          235,
          238.5,
          235.2,
          235,
          236.7,
          239,
          238,
          248.3,
          244.1,
          251.2,
          260.8,
          244.5,
          251.3,
          253.9,
          250.2,
          254.3,
          257.9,
          262.9,
          260.2,
          254.1,
          259.7,
          260,
          259.7,
          279,
          263,
          261.7,
          260.3,
          266.6,
          264.6
         ],
         "xaxis": "x",
         "y": [
          57.29,
          233.9,
          246.6,
          240.2,
          19.96,
          145.5,
          1.398,
          -14.33,
          -78.25,
          -4.41,
          55.32,
          -12.52,
          240.5,
          -52.78,
          -138.3,
          -53.55,
          191.7,
          -184.7,
          -87.37,
          -25.06,
          -75.26,
          88.99,
          -0.0583,
          -74.8,
          -7.763,
          128.3,
          210,
          -113.6,
          -116.4,
          -114.6,
          240.6,
          -268.3,
          -60.71,
          275.5,
          273.4,
          -51.92,
          -80.59,
          -211.9,
          -16.12,
          270.5,
          186.1,
          89.02,
          -67.19,
          251.4,
          116,
          55.07,
          257.9,
          -47.43,
          29.33,
          -93.82,
          -5.517,
          187.2,
          -51.5,
          158.5,
          -55.36,
          8.168,
          86.99,
          200.8,
          165,
          164.3,
          105.1,
          -85.17,
          -11.45,
          -76.24,
          108.2,
          -31.57,
          -60.15,
          125.6,
          -45.71,
          -80.3,
          -67.58,
          134.6,
          -94.01,
          -48.34,
          -65.47,
          176.5,
          -36.94,
          -150.9,
          171.7,
          -132.7,
          -65.56,
          245.8,
          -9.735,
          -177.8,
          -72.51,
          -39.65,
          -149,
          -76.55,
          -33.01,
          171.7,
          -33.61,
          -8.58,
          56.6,
          -36.91,
          -10.8,
          48.21,
          -52.74,
          184.5,
          -33.83,
          202.1,
          -21.23,
          -1.347,
          -132.4,
          -109.6,
          -23.34,
          -57.56,
          -30.49,
          -66.67,
          -27.14,
          -54,
          -74.13,
          -97.19,
          -90.9,
          -35.01,
          23.14,
          247.3,
          -162.4,
          -53.46,
          -22.25,
          -12.09,
          96.17,
          59.63,
          187.3,
          -92.51,
          97.07,
          -55.03,
          -50.2,
          6.387,
          -40.93,
          -55.07,
          23.46,
          -21.19,
          -63.07,
          57.17,
          153.6,
          25.85,
          -34.39,
          151.6,
          -14.07,
          95.53,
          28.91,
          -11.31,
          -19.81,
          -27.89,
          -44.14,
          -18.52,
          -8.538,
          -14.47,
          -97.65,
          109.3,
          -14.12,
          -9.348,
          -59.94,
          -41.72,
          -61.78,
          -2.8,
          -55.86,
          -26.86,
          2.032,
          -48.47,
          163.9,
          -53.57,
          -65.27,
          56.59,
          -89.95,
          38.21,
          267.7,
          163.8,
          64.56,
          -31.22,
          63.51,
          -29.34,
          -26.44,
          11.37,
          12.08,
          -88.49,
          29.4,
          -22.59,
          29.72,
          -29.61,
          274.1,
          -68.08,
          197.3,
          -6.225,
          11.61,
          100.1,
          4.462,
          191.2,
          -29.84,
          -67.65,
          -64.26,
          -10.29,
          15.36,
          -218.3,
          43.29,
          241.8,
          -95.42,
          -93.61,
          57.68,
          11.74,
          8.33,
          68.51,
          9.7,
          -1.158,
          97.53,
          1.663,
          -43.35,
          -23.45,
          -52.97,
          7.597,
          -48.66,
          55.39,
          -18.76,
          252.3,
          -10.57,
          -10.61,
          -12.15,
          -9.227,
          196.2,
          -70.3,
          14.29,
          7.705,
          8.187,
          -20.58,
          0.5651,
          -13.17,
          -7.945,
          -12.19,
          -0.635,
          -12.77,
          -35.09,
          5.353,
          186.1,
          -1.002,
          5.822,
          122.2,
          -4.55,
          3.187,
          -8.237,
          -1.868,
          -6.195,
          200.9,
          3.53,
          -0.23,
          -2.433,
          -1.622,
          -4.797,
          54.5,
          56.35,
          38.63,
          -4.495,
          -0.8167,
          243.5,
          -16.63,
          201.9,
          2.836,
          15.56,
          -47.29,
          -65.37,
          0,
          -0.6583,
          5.458,
          50.45,
          3.217,
          -36.02,
          -1.925,
          12.9,
          3.558,
          52.81,
          -78.74,
          21.52,
          -20.98,
          4.193,
          1.61,
          -3.817,
          61.91,
          0.5349,
          -0.9834,
          20.97,
          6.178,
          10.24,
          -34.9,
          3.333,
          3.283,
          22.69,
          1.187,
          -11.83,
          -5.275,
          74.92,
          -10.72,
          12.5,
          79.21,
          41.36,
          79.52,
          -6.108,
          -8.425,
          68.56,
          63.4,
          6.417,
          -5.66,
          59.85,
          -21.81,
          1.075,
          -12.32,
          75.93,
          -20.38,
          23.94,
          13.61,
          14.56,
          60.15,
          7.565,
          22.98,
          3.427,
          -7.305,
          4.952,
          2.64,
          -87.43,
          35.71,
          2.518,
          -39.34,
          284,
          -86.3,
          5.738,
          -113.9,
          11.83,
          -0.0116,
          15.54,
          12.29,
          62.47,
          49.32,
          51.61,
          -41.05,
          -41.06,
          -264.8,
          -79.01,
          67.98,
          -25.16,
          -121.8,
          -121.9,
          240.6,
          207.2,
          78.45,
          68.54,
          -15.31,
          77.37,
          36.21,
          -151.7,
          64.42,
          100.1,
          -49.26,
          -6.993,
          51.48,
          51.53,
          33.5,
          3.433,
          -76.01,
          -29.43,
          287.1,
          -190.8,
          -262.2,
          -39.27,
          43.22,
          -112.2,
          -73.48,
          -28.44,
          19.82,
          -197.4,
          165.5,
          11.61,
          63.02,
          44.59,
          3.847,
          82.61,
          54.93,
          -204.8,
          23.52,
          122.9,
          123,
          269.5,
          207.2,
          -274.7,
          103.1,
          98.73,
          95.23,
          211,
          -233.8,
          -39.67,
          32.76,
          229.1,
          229.3,
          -51.04,
          196,
          154,
          139.7,
          -13.73,
          -11.38,
          122.4,
          -180.6,
          149.5,
          162.8,
          120.3,
          -59.07,
          -202.4,
          -262.2,
          144.7,
          -224.4,
          101,
          231.2,
          -153.2,
          177.4,
          -155.3,
          136.3,
          161.1,
          182.3,
          -215,
          202.4,
          218.2,
          215.3,
          153,
          183.9,
          185.9,
          -25.44,
          45.46,
          208.5,
          227,
          200.6,
          172.3,
          212.9,
          -15.7,
          167.2,
          -6.148,
          -262.1,
          189.2,
          30.76,
          135.7,
          246.2,
          169.9,
          127.5,
          15.14,
          85.96,
          239.2,
          179.6,
          174.3,
          211.2,
          -247.8,
          156.5,
          201.4,
          240.5,
          202.3,
          251.7
         ],
         "yaxis": "y"
        }
       ],
       "layout": {
        "autosize": false,
        "height": 500,
        "legend": {
         "tracegroupgap": 0
        },
        "margin": {
         "t": 60
        },
        "template": {
         "data": {
          "bar": [
           {
            "error_x": {
             "color": "#2a3f5f"
            },
            "error_y": {
             "color": "#2a3f5f"
            },
            "marker": {
             "line": {
              "color": "#E5ECF6",
              "width": 0.5
             }
            },
            "type": "bar"
           }
          ],
          "barpolar": [
           {
            "marker": {
             "line": {
              "color": "#E5ECF6",
              "width": 0.5
             }
            },
            "type": "barpolar"
           }
          ],
          "carpet": [
           {
            "aaxis": {
             "endlinecolor": "#2a3f5f",
             "gridcolor": "white",
             "linecolor": "white",
             "minorgridcolor": "white",
             "startlinecolor": "#2a3f5f"
            },
            "baxis": {
             "endlinecolor": "#2a3f5f",
             "gridcolor": "white",
             "linecolor": "white",
             "minorgridcolor": "white",
             "startlinecolor": "#2a3f5f"
            },
            "type": "carpet"
           }
          ],
          "choropleth": [
           {
            "colorbar": {
             "outlinewidth": 0,
             "ticks": ""
            },
            "type": "choropleth"
           }
          ],
          "contour": [
           {
            "colorbar": {
             "outlinewidth": 0,
             "ticks": ""
            },
            "colorscale": [
             [
              0,
              "#0d0887"
             ],
             [
              0.1111111111111111,
              "#46039f"
             ],
             [
              0.2222222222222222,
              "#7201a8"
             ],
             [
              0.3333333333333333,
              "#9c179e"
             ],
             [
              0.4444444444444444,
              "#bd3786"
             ],
             [
              0.5555555555555556,
              "#d8576b"
             ],
             [
              0.6666666666666666,
              "#ed7953"
             ],
             [
              0.7777777777777778,
              "#fb9f3a"
             ],
             [
              0.8888888888888888,
              "#fdca26"
             ],
             [
              1,
              "#f0f921"
             ]
            ],
            "type": "contour"
           }
          ],
          "contourcarpet": [
           {
            "colorbar": {
             "outlinewidth": 0,
             "ticks": ""
            },
            "type": "contourcarpet"
           }
          ],
          "heatmap": [
           {
            "colorbar": {
             "outlinewidth": 0,
             "ticks": ""
            },
            "colorscale": [
             [
              0,
              "#0d0887"
             ],
             [
              0.1111111111111111,
              "#46039f"
             ],
             [
              0.2222222222222222,
              "#7201a8"
             ],
             [
              0.3333333333333333,
              "#9c179e"
             ],
             [
              0.4444444444444444,
              "#bd3786"
             ],
             [
              0.5555555555555556,
              "#d8576b"
             ],
             [
              0.6666666666666666,
              "#ed7953"
             ],
             [
              0.7777777777777778,
              "#fb9f3a"
             ],
             [
              0.8888888888888888,
              "#fdca26"
             ],
             [
              1,
              "#f0f921"
             ]
            ],
            "type": "heatmap"
           }
          ],
          "heatmapgl": [
           {
            "colorbar": {
             "outlinewidth": 0,
             "ticks": ""
            },
            "colorscale": [
             [
              0,
              "#0d0887"
             ],
             [
              0.1111111111111111,
              "#46039f"
             ],
             [
              0.2222222222222222,
              "#7201a8"
             ],
             [
              0.3333333333333333,
              "#9c179e"
             ],
             [
              0.4444444444444444,
              "#bd3786"
             ],
             [
              0.5555555555555556,
              "#d8576b"
             ],
             [
              0.6666666666666666,
              "#ed7953"
             ],
             [
              0.7777777777777778,
              "#fb9f3a"
             ],
             [
              0.8888888888888888,
              "#fdca26"
             ],
             [
              1,
              "#f0f921"
             ]
            ],
            "type": "heatmapgl"
           }
          ],
          "histogram": [
           {
            "marker": {
             "colorbar": {
              "outlinewidth": 0,
              "ticks": ""
             }
            },
            "type": "histogram"
           }
          ],
          "histogram2d": [
           {
            "colorbar": {
             "outlinewidth": 0,
             "ticks": ""
            },
            "colorscale": [
             [
              0,
              "#0d0887"
             ],
             [
              0.1111111111111111,
              "#46039f"
             ],
             [
              0.2222222222222222,
              "#7201a8"
             ],
             [
              0.3333333333333333,
              "#9c179e"
             ],
             [
              0.4444444444444444,
              "#bd3786"
             ],
             [
              0.5555555555555556,
              "#d8576b"
             ],
             [
              0.6666666666666666,
              "#ed7953"
             ],
             [
              0.7777777777777778,
              "#fb9f3a"
             ],
             [
              0.8888888888888888,
              "#fdca26"
             ],
             [
              1,
              "#f0f921"
             ]
            ],
            "type": "histogram2d"
           }
          ],
          "histogram2dcontour": [
           {
            "colorbar": {
             "outlinewidth": 0,
             "ticks": ""
            },
            "colorscale": [
             [
              0,
              "#0d0887"
             ],
             [
              0.1111111111111111,
              "#46039f"
             ],
             [
              0.2222222222222222,
              "#7201a8"
             ],
             [
              0.3333333333333333,
              "#9c179e"
             ],
             [
              0.4444444444444444,
              "#bd3786"
             ],
             [
              0.5555555555555556,
              "#d8576b"
             ],
             [
              0.6666666666666666,
              "#ed7953"
             ],
             [
              0.7777777777777778,
              "#fb9f3a"
             ],
             [
              0.8888888888888888,
              "#fdca26"
             ],
             [
              1,
              "#f0f921"
             ]
            ],
            "type": "histogram2dcontour"
           }
          ],
          "mesh3d": [
           {
            "colorbar": {
             "outlinewidth": 0,
             "ticks": ""
            },
            "type": "mesh3d"
           }
          ],
          "parcoords": [
           {
            "line": {
             "colorbar": {
              "outlinewidth": 0,
              "ticks": ""
             }
            },
            "type": "parcoords"
           }
          ],
          "pie": [
           {
            "automargin": true,
            "type": "pie"
           }
          ],
          "scatter": [
           {
            "marker": {
             "colorbar": {
              "outlinewidth": 0,
              "ticks": ""
             }
            },
            "type": "scatter"
           }
          ],
          "scatter3d": [
           {
            "line": {
             "colorbar": {
              "outlinewidth": 0,
              "ticks": ""
             }
            },
            "marker": {
             "colorbar": {
              "outlinewidth": 0,
              "ticks": ""
             }
            },
            "type": "scatter3d"
           }
          ],
          "scattercarpet": [
           {
            "marker": {
             "colorbar": {
              "outlinewidth": 0,
              "ticks": ""
             }
            },
            "type": "scattercarpet"
           }
          ],
          "scattergeo": [
           {
            "marker": {
             "colorbar": {
              "outlinewidth": 0,
              "ticks": ""
             }
            },
            "type": "scattergeo"
           }
          ],
          "scattergl": [
           {
            "marker": {
             "colorbar": {
              "outlinewidth": 0,
              "ticks": ""
             }
            },
            "type": "scattergl"
           }
          ],
          "scattermapbox": [
           {
            "marker": {
             "colorbar": {
              "outlinewidth": 0,
              "ticks": ""
             }
            },
            "type": "scattermapbox"
           }
          ],
          "scatterpolar": [
           {
            "marker": {
             "colorbar": {
              "outlinewidth": 0,
              "ticks": ""
             }
            },
            "type": "scatterpolar"
           }
          ],
          "scatterpolargl": [
           {
            "marker": {
             "colorbar": {
              "outlinewidth": 0,
              "ticks": ""
             }
            },
            "type": "scatterpolargl"
           }
          ],
          "scatterternary": [
           {
            "marker": {
             "colorbar": {
              "outlinewidth": 0,
              "ticks": ""
             }
            },
            "type": "scatterternary"
           }
          ],
          "surface": [
           {
            "colorbar": {
             "outlinewidth": 0,
             "ticks": ""
            },
            "colorscale": [
             [
              0,
              "#0d0887"
             ],
             [
              0.1111111111111111,
              "#46039f"
             ],
             [
              0.2222222222222222,
              "#7201a8"
             ],
             [
              0.3333333333333333,
              "#9c179e"
             ],
             [
              0.4444444444444444,
              "#bd3786"
             ],
             [
              0.5555555555555556,
              "#d8576b"
             ],
             [
              0.6666666666666666,
              "#ed7953"
             ],
             [
              0.7777777777777778,
              "#fb9f3a"
             ],
             [
              0.8888888888888888,
              "#fdca26"
             ],
             [
              1,
              "#f0f921"
             ]
            ],
            "type": "surface"
           }
          ],
          "table": [
           {
            "cells": {
             "fill": {
              "color": "#EBF0F8"
             },
             "line": {
              "color": "white"
             }
            },
            "header": {
             "fill": {
              "color": "#C8D4E3"
             },
             "line": {
              "color": "white"
             }
            },
            "type": "table"
           }
          ]
         },
         "layout": {
          "annotationdefaults": {
           "arrowcolor": "#2a3f5f",
           "arrowhead": 0,
           "arrowwidth": 1
          },
          "autotypenumbers": "strict",
          "coloraxis": {
           "colorbar": {
            "outlinewidth": 0,
            "ticks": ""
           }
          },
          "colorscale": {
           "diverging": [
            [
             0,
             "#8e0152"
            ],
            [
             0.1,
             "#c51b7d"
            ],
            [
             0.2,
             "#de77ae"
            ],
            [
             0.3,
             "#f1b6da"
            ],
            [
             0.4,
             "#fde0ef"
            ],
            [
             0.5,
             "#f7f7f7"
            ],
            [
             0.6,
             "#e6f5d0"
            ],
            [
             0.7,
             "#b8e186"
            ],
            [
             0.8,
             "#7fbc41"
            ],
            [
             0.9,
             "#4d9221"
            ],
            [
             1,
             "#276419"
            ]
           ],
           "sequential": [
            [
             0,
             "#0d0887"
            ],
            [
             0.1111111111111111,
             "#46039f"
            ],
            [
             0.2222222222222222,
             "#7201a8"
            ],
            [
             0.3333333333333333,
             "#9c179e"
            ],
            [
             0.4444444444444444,
             "#bd3786"
            ],
            [
             0.5555555555555556,
             "#d8576b"
            ],
            [
             0.6666666666666666,
             "#ed7953"
            ],
            [
             0.7777777777777778,
             "#fb9f3a"
            ],
            [
             0.8888888888888888,
             "#fdca26"
            ],
            [
             1,
             "#f0f921"
            ]
           ],
           "sequentialminus": [
            [
             0,
             "#0d0887"
            ],
            [
             0.1111111111111111,
             "#46039f"
            ],
            [
             0.2222222222222222,
             "#7201a8"
            ],
            [
             0.3333333333333333,
             "#9c179e"
            ],
            [
             0.4444444444444444,
             "#bd3786"
            ],
            [
             0.5555555555555556,
             "#d8576b"
            ],
            [
             0.6666666666666666,
             "#ed7953"
            ],
            [
             0.7777777777777778,
             "#fb9f3a"
            ],
            [
             0.8888888888888888,
             "#fdca26"
            ],
            [
             1,
             "#f0f921"
            ]
           ]
          },
          "colorway": [
           "#636efa",
           "#EF553B",
           "#00cc96",
           "#ab63fa",
           "#FFA15A",
           "#19d3f3",
           "#FF6692",
           "#B6E880",
           "#FF97FF",
           "#FECB52"
          ],
          "font": {
           "color": "#2a3f5f"
          },
          "geo": {
           "bgcolor": "white",
           "lakecolor": "white",
           "landcolor": "#E5ECF6",
           "showlakes": true,
           "showland": true,
           "subunitcolor": "white"
          },
          "hoverlabel": {
           "align": "left"
          },
          "hovermode": "closest",
          "mapbox": {
           "style": "light"
          },
          "paper_bgcolor": "white",
          "plot_bgcolor": "#E5ECF6",
          "polar": {
           "angularaxis": {
            "gridcolor": "white",
            "linecolor": "white",
            "ticks": ""
           },
           "bgcolor": "#E5ECF6",
           "radialaxis": {
            "gridcolor": "white",
            "linecolor": "white",
            "ticks": ""
           }
          },
          "scene": {
           "xaxis": {
            "backgroundcolor": "#E5ECF6",
            "gridcolor": "white",
            "gridwidth": 2,
            "linecolor": "white",
            "showbackground": true,
            "ticks": "",
            "zerolinecolor": "white"
           },
           "yaxis": {
            "backgroundcolor": "#E5ECF6",
            "gridcolor": "white",
            "gridwidth": 2,
            "linecolor": "white",
            "showbackground": true,
            "ticks": "",
            "zerolinecolor": "white"
           },
           "zaxis": {
            "backgroundcolor": "#E5ECF6",
            "gridcolor": "white",
            "gridwidth": 2,
            "linecolor": "white",
            "showbackground": true,
            "ticks": "",
            "zerolinecolor": "white"
           }
          },
          "shapedefaults": {
           "line": {
            "color": "#2a3f5f"
           }
          },
          "ternary": {
           "aaxis": {
            "gridcolor": "white",
            "linecolor": "white",
            "ticks": ""
           },
           "baxis": {
            "gridcolor": "white",
            "linecolor": "white",
            "ticks": ""
           },
           "bgcolor": "#E5ECF6",
           "caxis": {
            "gridcolor": "white",
            "linecolor": "white",
            "ticks": ""
           }
          },
          "title": {
           "x": 0.05
          },
          "xaxis": {
           "automargin": true,
           "gridcolor": "white",
           "linecolor": "white",
           "ticks": "",
           "title": {
            "standoff": 15
           },
           "zerolinecolor": "white",
           "zerolinewidth": 2
          },
          "yaxis": {
           "automargin": true,
           "gridcolor": "white",
           "linecolor": "white",
           "ticks": "",
           "title": {
            "standoff": 15
           },
           "zerolinecolor": "white",
           "zerolinewidth": 2
          }
         }
        },
        "width": 500,
        "xaxis": {
         "anchor": "y",
         "domain": [
          0,
          1
         ],
         "range": [
          -300,
          300
         ],
         "title": {
          "text": "x"
         }
        },
        "yaxis": {
         "anchor": "x",
         "domain": [
          0,
          1
         ],
         "range": [
          -300,
          300
         ],
         "title": {
          "text": "y"
         }
        }
       }
      },
      "text/html": [
       "<div>                            <div id=\"343821f8-db5c-4ccd-ae16-3757fc3312b9\" class=\"plotly-graph-div\" style=\"height:500px; width:500px;\"></div>            <script type=\"text/javascript\">                require([\"plotly\"], function(Plotly) {                    window.PLOTLYENV=window.PLOTLYENV || {};                                    if (document.getElementById(\"343821f8-db5c-4ccd-ae16-3757fc3312b9\")) {                    Plotly.newPlot(                        \"343821f8-db5c-4ccd-ae16-3757fc3312b9\",                        [{\"hovertemplate\": \"x=%{x}<br>y=%{y}<extra></extra>\", \"legendgroup\": \"\", \"marker\": {\"color\": \"#636efa\", \"symbol\": \"circle\"}, \"mode\": \"markers\", \"name\": \"\", \"orientation\": \"v\", \"showlegend\": false, \"type\": \"scatter\", \"x\": [-286.8, -271.1, -270.0, -270.2, -278.1, -270.7, -276.6, -277.1, -278.7, -275.4, -272.6, -275.5, -263.9, -275.3, -277.9, -267.9, -254.9, -267.6, -260.9, -256.7, -257.2, -249.8, -253.1, -252.4, -249.3, -242.9, -238.4, -250.6, -250.2, -248.7, -234.3, -251.0, -242.5, -228.1, -226.8, -231.3, -231.6, -232.1, -225.6, -214.2, -216.1, -216.6, -216.7, -203.9, -208.2, -210.2, -200.2, -208.7, -203.5, -206.8, -203.3, -190.1, -197.5, -188.3, -193.7, -191.4, -187.3, -179.5, -179.0, -178.8, -173.5, -176.6, -171.5, -172.7, -164.4, -167.8, -165.5, -159.7, -162.2, -160.8, -156.3, -149.4, -152.9, -147.5, -147.7, -141.5, -145.6, -142.5, -134.4, -140.6, -138.8, -130.4, -134.1, -135.8, -132.0, -129.9, -130.6, -129.2, -127.9, -122.8, -125.9, -121.7, -118.7, -120.1, -119.2, -117.3, -117.2, -112.1, -115.1, -107.8, -111.9, -110.6, -112.1, -108.8, -106.2, -106.4, -105.5, -105.5, -103.8, -104.0, -100.2, -99.45, -98.69, -96.72, -94.76, -88.91, -93.88, -90.97, -85.78, -85.52, -81.56, -81.48, -79.42, -81.92, -78.54, -79.99, -79.88, -78.17, -77.47, -76.99, -72.89, -73.38, -73.11, -70.74, -67.97, -68.28, -68.69, -63.77, -65.51, -63.69, -61.89, -61.8, -61.29, -61.09, -58.55, -52.79, -51.85, -51.41, -50.74, -48.86, -49.72, -48.17, -48.34, -48.04, -48.08, -47.38, -47.37, -46.65, -44.48, -44.76, -42.85, -43.43, -43.2, -42.32, -43.12, -41.16, -39.4, -39.86, -39.87, -38.87, -37.7, -35.56, -35.2, -34.36, -34.02, -34.42, -33.45, -33.62, -33.03, -33.0, -30.31, -31.64, -30.28, -30.15, -29.9, -29.08, -27.93, -26.35, -27.3, -27.32, -27.13, -26.75, -26.15, -26.38, -25.17, -23.91, -25.18, -24.98, -24.22, -24.36, -24.11, -23.1, -22.63, -22.66, -21.05, -20.8, -19.89, -19.81, -19.69, -19.41, -19.47, -17.7, -17.08, -16.09, -16.8, -16.76, -16.01, -15.14, -14.0, -14.06, -13.78, -13.74, -13.33, -13.12, -12.89, -12.61, -12.5, -12.46, -11.33, -11.28, -11.32, -11.13, -10.54, -10.86, -9.823, -9.44, -9.076, -7.86, -7.762, -7.593, -7.433, -7.101, -7.266, -6.988, -6.697, -6.326, -5.858, -5.466, -5.326, -5.266, -4.43, -3.898, -3.7, -3.853, -2.361, -1.854, -1.456, -1.409, -0.305, 0.0, 0.7906, 0.7924, 2.167, 2.265, 2.925, 2.963, 2.984, 3.907, 4.706, 5.402, 5.822, 6.447, 7.383, 7.567, 7.786, 7.759, 8.029, 8.453, 8.784, 9.757, 9.799, 10.05, 10.38, 10.4, 10.51, 11.05, 11.41, 12.1, 12.82, 16.15, 17.28, 17.57, 17.74, 17.73, 18.03, 19.3, 19.56, 21.71, 22.63, 23.37, 23.8, 24.17, 24.96, 25.56, 26.22, 27.3, 27.35, 28.29, 30.21, 30.65, 33.96, 34.43, 35.29, 37.18, 37.95, 38.93, 40.48, 40.72, 42.33, 42.62, 40.8, 45.65, 48.64, 50.13, 49.7, 49.96, 54.13, 54.76, 55.49, 56.66, 56.71, 58.1, 58.18, 60.05, 58.82, 64.29, 68.2, 69.86, 69.88, 65.99, 67.29, 70.05, 71.98, 75.93, 77.56, 79.3, 83.46, 81.55, 82.21, 86.93, 86.61, 86.26, 86.27, 90.19, 94.59, 98.78, 100.4, 95.71, 103.7, 105.8, 103.3, 103.9, 106.8, 106.4, 108.5, 110.7, 114.9, 109.4, 116.8, 116.1, 116.9, 117.8, 120.3, 127.7, 132.8, 129.3, 128.9, 128.9, 130.2, 131.7, 146.8, 139.8, 142.9, 143.0, 147.8, 164.5, 160.6, 162.9, 161.8, 162.3, 172.4, 165.6, 171.7, 172.1, 177.2, 177.5, 175.3, 185.7, 185.3, 186.8, 189.8, 197.9, 204.1, 206.3, 195.1, 206.7, 202.2, 200.5, 214.3, 207.8, 219.4, 210.0, 210.1, 210.9, 227.3, 213.2, 214.5, 214.7, 221.2, 222.3, 224.2, 235.0, 238.5, 235.2, 235.0, 236.7, 239.0, 238.0, 248.3, 244.1, 251.2, 260.8, 244.5, 251.3, 253.9, 250.2, 254.3, 257.9, 262.9, 260.2, 254.1, 259.7, 260.0, 259.7, 279.0, 263.0, 261.7, 260.3, 266.6, 264.6], \"xaxis\": \"x\", \"y\": [57.29, 233.9, 246.6, 240.2, 19.96, 145.5, 1.398, -14.33, -78.25, -4.41, 55.32, -12.52, 240.5, -52.78, -138.3, -53.55, 191.7, -184.7, -87.37, -25.06, -75.26, 88.99, -0.0583, -74.8, -7.763, 128.3, 210.0, -113.6, -116.4, -114.6, 240.6, -268.3, -60.71, 275.5, 273.4, -51.92, -80.59, -211.9, -16.12, 270.5, 186.1, 89.02, -67.19, 251.4, 116.0, 55.07, 257.9, -47.43, 29.33, -93.82, -5.517, 187.2, -51.5, 158.5, -55.36, 8.168, 86.99, 200.8, 165.0, 164.3, 105.1, -85.17, -11.45, -76.24, 108.2, -31.57, -60.15, 125.6, -45.71, -80.3, -67.58, 134.6, -94.01, -48.34, -65.47, 176.5, -36.94, -150.9, 171.7, -132.7, -65.56, 245.8, -9.735, -177.8, -72.51, -39.65, -149.0, -76.55, -33.01, 171.7, -33.61, -8.58, 56.6, -36.91, -10.8, 48.21, -52.74, 184.5, -33.83, 202.1, -21.23, -1.347, -132.4, -109.6, -23.34, -57.56, -30.49, -66.67, -27.14, -54.0, -74.13, -97.19, -90.9, -35.01, 23.14, 247.3, -162.4, -53.46, -22.25, -12.09, 96.17, 59.63, 187.3, -92.51, 97.07, -55.03, -50.2, 6.387, -40.93, -55.07, 23.46, -21.19, -63.07, 57.17, 153.6, 25.85, -34.39, 151.6, -14.07, 95.53, 28.91, -11.31, -19.81, -27.89, -44.14, -18.52, -8.538, -14.47, -97.65, 109.3, -14.12, -9.348, -59.94, -41.72, -61.78, -2.8, -55.86, -26.86, 2.032, -48.47, 163.9, -53.57, -65.27, 56.59, -89.95, 38.21, 267.7, 163.8, 64.56, -31.22, 63.51, -29.34, -26.44, 11.37, 12.08, -88.49, 29.4, -22.59, 29.72, -29.61, 274.1, -68.08, 197.3, -6.225, 11.61, 100.1, 4.462, 191.2, -29.84, -67.65, -64.26, -10.29, 15.36, -218.3, 43.29, 241.8, -95.42, -93.61, 57.68, 11.74, 8.33, 68.51, 9.7, -1.158, 97.53, 1.663, -43.35, -23.45, -52.97, 7.597, -48.66, 55.39, -18.76, 252.3, -10.57, -10.61, -12.15, -9.227, 196.2, -70.3, 14.29, 7.705, 8.187, -20.58, 0.5651, -13.17, -7.945, -12.19, -0.635, -12.77, -35.09, 5.353, 186.1, -1.002, 5.822, 122.2, -4.55, 3.187, -8.237, -1.868, -6.195, 200.9, 3.53, -0.23, -2.433, -1.622, -4.797, 54.5, 56.35, 38.63, -4.495, -0.8167, 243.5, -16.63, 201.9, 2.836, 15.56, -47.29, -65.37, 0.0, -0.6583, 5.458, 50.45, 3.217, -36.02, -1.925, 12.9, 3.558, 52.81, -78.74, 21.52, -20.98, 4.193, 1.61, -3.817, 61.91, 0.5349, -0.9834, 20.97, 6.178, 10.24, -34.9, 3.333, 3.283, 22.69, 1.187, -11.83, -5.275, 74.92, -10.72, 12.5, 79.21, 41.36, 79.52, -6.108, -8.425, 68.56, 63.4, 6.417, -5.66, 59.85, -21.81, 1.075, -12.32, 75.93, -20.38, 23.94, 13.61, 14.56, 60.15, 7.565, 22.98, 3.427, -7.305, 4.952, 2.64, -87.43, 35.71, 2.518, -39.34, 284.0, -86.3, 5.738, -113.9, 11.83, -0.0116, 15.54, 12.29, 62.47, 49.32, 51.61, -41.05, -41.06, -264.8, -79.01, 67.98, -25.16, -121.8, -121.9, 240.6, 207.2, 78.45, 68.54, -15.31, 77.37, 36.21, -151.7, 64.42, 100.1, -49.26, -6.993, 51.48, 51.53, 33.5, 3.433, -76.01, -29.43, 287.1, -190.8, -262.2, -39.27, 43.22, -112.2, -73.48, -28.44, 19.82, -197.4, 165.5, 11.61, 63.02, 44.59, 3.847, 82.61, 54.93, -204.8, 23.52, 122.9, 123.0, 269.5, 207.2, -274.7, 103.1, 98.73, 95.23, 211.0, -233.8, -39.67, 32.76, 229.1, 229.3, -51.04, 196.0, 154.0, 139.7, -13.73, -11.38, 122.4, -180.6, 149.5, 162.8, 120.3, -59.07, -202.4, -262.2, 144.7, -224.4, 101.0, 231.2, -153.2, 177.4, -155.3, 136.3, 161.1, 182.3, -215.0, 202.4, 218.2, 215.3, 153.0, 183.9, 185.9, -25.44, 45.46, 208.5, 227.0, 200.6, 172.3, 212.9, -15.7, 167.2, -6.148, -262.1, 189.2, 30.76, 135.7, 246.2, 169.9, 127.5, 15.14, 85.96, 239.2, 179.6, 174.3, 211.2, -247.8, 156.5, 201.4, 240.5, 202.3, 251.7], \"yaxis\": \"y\"}],                        {\"autosize\": false, \"height\": 500, \"legend\": {\"tracegroupgap\": 0}, \"margin\": {\"t\": 60}, \"template\": {\"data\": {\"bar\": [{\"error_x\": {\"color\": \"#2a3f5f\"}, \"error_y\": {\"color\": \"#2a3f5f\"}, \"marker\": {\"line\": {\"color\": \"#E5ECF6\", \"width\": 0.5}}, \"type\": \"bar\"}], \"barpolar\": [{\"marker\": {\"line\": {\"color\": \"#E5ECF6\", \"width\": 0.5}}, \"type\": \"barpolar\"}], \"carpet\": [{\"aaxis\": {\"endlinecolor\": \"#2a3f5f\", \"gridcolor\": \"white\", \"linecolor\": \"white\", \"minorgridcolor\": \"white\", \"startlinecolor\": \"#2a3f5f\"}, \"baxis\": {\"endlinecolor\": \"#2a3f5f\", \"gridcolor\": \"white\", \"linecolor\": \"white\", \"minorgridcolor\": \"white\", \"startlinecolor\": \"#2a3f5f\"}, \"type\": \"carpet\"}], \"choropleth\": [{\"colorbar\": {\"outlinewidth\": 0, \"ticks\": \"\"}, \"type\": \"choropleth\"}], \"contour\": [{\"colorbar\": {\"outlinewidth\": 0, \"ticks\": \"\"}, \"colorscale\": [[0.0, \"#0d0887\"], [0.1111111111111111, \"#46039f\"], [0.2222222222222222, \"#7201a8\"], [0.3333333333333333, \"#9c179e\"], [0.4444444444444444, \"#bd3786\"], [0.5555555555555556, \"#d8576b\"], [0.6666666666666666, \"#ed7953\"], [0.7777777777777778, \"#fb9f3a\"], [0.8888888888888888, \"#fdca26\"], [1.0, \"#f0f921\"]], \"type\": \"contour\"}], \"contourcarpet\": [{\"colorbar\": {\"outlinewidth\": 0, \"ticks\": \"\"}, \"type\": \"contourcarpet\"}], \"heatmap\": [{\"colorbar\": {\"outlinewidth\": 0, \"ticks\": \"\"}, \"colorscale\": [[0.0, \"#0d0887\"], [0.1111111111111111, \"#46039f\"], [0.2222222222222222, \"#7201a8\"], [0.3333333333333333, \"#9c179e\"], [0.4444444444444444, \"#bd3786\"], [0.5555555555555556, \"#d8576b\"], [0.6666666666666666, \"#ed7953\"], [0.7777777777777778, \"#fb9f3a\"], [0.8888888888888888, \"#fdca26\"], [1.0, \"#f0f921\"]], \"type\": \"heatmap\"}], \"heatmapgl\": [{\"colorbar\": {\"outlinewidth\": 0, \"ticks\": \"\"}, \"colorscale\": [[0.0, \"#0d0887\"], [0.1111111111111111, \"#46039f\"], [0.2222222222222222, \"#7201a8\"], [0.3333333333333333, \"#9c179e\"], [0.4444444444444444, \"#bd3786\"], [0.5555555555555556, \"#d8576b\"], [0.6666666666666666, \"#ed7953\"], [0.7777777777777778, \"#fb9f3a\"], [0.8888888888888888, \"#fdca26\"], [1.0, \"#f0f921\"]], \"type\": \"heatmapgl\"}], \"histogram\": [{\"marker\": {\"colorbar\": {\"outlinewidth\": 0, \"ticks\": \"\"}}, \"type\": \"histogram\"}], \"histogram2d\": [{\"colorbar\": {\"outlinewidth\": 0, \"ticks\": \"\"}, \"colorscale\": [[0.0, \"#0d0887\"], [0.1111111111111111, \"#46039f\"], [0.2222222222222222, \"#7201a8\"], [0.3333333333333333, \"#9c179e\"], [0.4444444444444444, \"#bd3786\"], [0.5555555555555556, \"#d8576b\"], [0.6666666666666666, \"#ed7953\"], [0.7777777777777778, \"#fb9f3a\"], [0.8888888888888888, \"#fdca26\"], [1.0, \"#f0f921\"]], \"type\": \"histogram2d\"}], \"histogram2dcontour\": [{\"colorbar\": {\"outlinewidth\": 0, \"ticks\": \"\"}, \"colorscale\": [[0.0, \"#0d0887\"], [0.1111111111111111, \"#46039f\"], [0.2222222222222222, \"#7201a8\"], [0.3333333333333333, \"#9c179e\"], [0.4444444444444444, \"#bd3786\"], [0.5555555555555556, \"#d8576b\"], [0.6666666666666666, \"#ed7953\"], [0.7777777777777778, \"#fb9f3a\"], [0.8888888888888888, \"#fdca26\"], [1.0, \"#f0f921\"]], \"type\": \"histogram2dcontour\"}], \"mesh3d\": [{\"colorbar\": {\"outlinewidth\": 0, \"ticks\": \"\"}, \"type\": \"mesh3d\"}], \"parcoords\": [{\"line\": {\"colorbar\": {\"outlinewidth\": 0, \"ticks\": \"\"}}, \"type\": \"parcoords\"}], \"pie\": [{\"automargin\": true, \"type\": \"pie\"}], \"scatter\": [{\"marker\": {\"colorbar\": {\"outlinewidth\": 0, \"ticks\": \"\"}}, \"type\": \"scatter\"}], \"scatter3d\": [{\"line\": {\"colorbar\": {\"outlinewidth\": 0, \"ticks\": \"\"}}, \"marker\": {\"colorbar\": {\"outlinewidth\": 0, \"ticks\": \"\"}}, \"type\": \"scatter3d\"}], \"scattercarpet\": [{\"marker\": {\"colorbar\": {\"outlinewidth\": 0, \"ticks\": \"\"}}, \"type\": \"scattercarpet\"}], \"scattergeo\": [{\"marker\": {\"colorbar\": {\"outlinewidth\": 0, \"ticks\": \"\"}}, \"type\": \"scattergeo\"}], \"scattergl\": [{\"marker\": {\"colorbar\": {\"outlinewidth\": 0, \"ticks\": \"\"}}, \"type\": \"scattergl\"}], \"scattermapbox\": [{\"marker\": {\"colorbar\": {\"outlinewidth\": 0, \"ticks\": \"\"}}, \"type\": \"scattermapbox\"}], \"scatterpolar\": [{\"marker\": {\"colorbar\": {\"outlinewidth\": 0, \"ticks\": \"\"}}, \"type\": \"scatterpolar\"}], \"scatterpolargl\": [{\"marker\": {\"colorbar\": {\"outlinewidth\": 0, \"ticks\": \"\"}}, \"type\": \"scatterpolargl\"}], \"scatterternary\": [{\"marker\": {\"colorbar\": {\"outlinewidth\": 0, \"ticks\": \"\"}}, \"type\": \"scatterternary\"}], \"surface\": [{\"colorbar\": {\"outlinewidth\": 0, \"ticks\": \"\"}, \"colorscale\": [[0.0, \"#0d0887\"], [0.1111111111111111, \"#46039f\"], [0.2222222222222222, \"#7201a8\"], [0.3333333333333333, \"#9c179e\"], [0.4444444444444444, \"#bd3786\"], [0.5555555555555556, \"#d8576b\"], [0.6666666666666666, \"#ed7953\"], [0.7777777777777778, \"#fb9f3a\"], [0.8888888888888888, \"#fdca26\"], [1.0, \"#f0f921\"]], \"type\": \"surface\"}], \"table\": [{\"cells\": {\"fill\": {\"color\": \"#EBF0F8\"}, \"line\": {\"color\": \"white\"}}, \"header\": {\"fill\": {\"color\": \"#C8D4E3\"}, \"line\": {\"color\": \"white\"}}, \"type\": \"table\"}]}, \"layout\": {\"annotationdefaults\": {\"arrowcolor\": \"#2a3f5f\", \"arrowhead\": 0, \"arrowwidth\": 1}, \"autotypenumbers\": \"strict\", \"coloraxis\": {\"colorbar\": {\"outlinewidth\": 0, \"ticks\": \"\"}}, \"colorscale\": {\"diverging\": [[0, \"#8e0152\"], [0.1, \"#c51b7d\"], [0.2, \"#de77ae\"], [0.3, \"#f1b6da\"], [0.4, \"#fde0ef\"], [0.5, \"#f7f7f7\"], [0.6, \"#e6f5d0\"], [0.7, \"#b8e186\"], [0.8, \"#7fbc41\"], [0.9, \"#4d9221\"], [1, \"#276419\"]], \"sequential\": [[0.0, \"#0d0887\"], [0.1111111111111111, \"#46039f\"], [0.2222222222222222, \"#7201a8\"], [0.3333333333333333, \"#9c179e\"], [0.4444444444444444, \"#bd3786\"], [0.5555555555555556, \"#d8576b\"], [0.6666666666666666, \"#ed7953\"], [0.7777777777777778, \"#fb9f3a\"], [0.8888888888888888, \"#fdca26\"], [1.0, \"#f0f921\"]], \"sequentialminus\": [[0.0, \"#0d0887\"], [0.1111111111111111, \"#46039f\"], [0.2222222222222222, \"#7201a8\"], [0.3333333333333333, \"#9c179e\"], [0.4444444444444444, \"#bd3786\"], [0.5555555555555556, \"#d8576b\"], [0.6666666666666666, \"#ed7953\"], [0.7777777777777778, \"#fb9f3a\"], [0.8888888888888888, \"#fdca26\"], [1.0, \"#f0f921\"]]}, \"colorway\": [\"#636efa\", \"#EF553B\", \"#00cc96\", \"#ab63fa\", \"#FFA15A\", \"#19d3f3\", \"#FF6692\", \"#B6E880\", \"#FF97FF\", \"#FECB52\"], \"font\": {\"color\": \"#2a3f5f\"}, \"geo\": {\"bgcolor\": \"white\", \"lakecolor\": \"white\", \"landcolor\": \"#E5ECF6\", \"showlakes\": true, \"showland\": true, \"subunitcolor\": \"white\"}, \"hoverlabel\": {\"align\": \"left\"}, \"hovermode\": \"closest\", \"mapbox\": {\"style\": \"light\"}, \"paper_bgcolor\": \"white\", \"plot_bgcolor\": \"#E5ECF6\", \"polar\": {\"angularaxis\": {\"gridcolor\": \"white\", \"linecolor\": \"white\", \"ticks\": \"\"}, \"bgcolor\": \"#E5ECF6\", \"radialaxis\": {\"gridcolor\": \"white\", \"linecolor\": \"white\", \"ticks\": \"\"}}, \"scene\": {\"xaxis\": {\"backgroundcolor\": \"#E5ECF6\", \"gridcolor\": \"white\", \"gridwidth\": 2, \"linecolor\": \"white\", \"showbackground\": true, \"ticks\": \"\", \"zerolinecolor\": \"white\"}, \"yaxis\": {\"backgroundcolor\": \"#E5ECF6\", \"gridcolor\": \"white\", \"gridwidth\": 2, \"linecolor\": \"white\", \"showbackground\": true, \"ticks\": \"\", \"zerolinecolor\": \"white\"}, \"zaxis\": {\"backgroundcolor\": \"#E5ECF6\", \"gridcolor\": \"white\", \"gridwidth\": 2, \"linecolor\": \"white\", \"showbackground\": true, \"ticks\": \"\", \"zerolinecolor\": \"white\"}}, \"shapedefaults\": {\"line\": {\"color\": \"#2a3f5f\"}}, \"ternary\": {\"aaxis\": {\"gridcolor\": \"white\", \"linecolor\": \"white\", \"ticks\": \"\"}, \"baxis\": {\"gridcolor\": \"white\", \"linecolor\": \"white\", \"ticks\": \"\"}, \"bgcolor\": \"#E5ECF6\", \"caxis\": {\"gridcolor\": \"white\", \"linecolor\": \"white\", \"ticks\": \"\"}}, \"title\": {\"x\": 0.05}, \"xaxis\": {\"automargin\": true, \"gridcolor\": \"white\", \"linecolor\": \"white\", \"ticks\": \"\", \"title\": {\"standoff\": 15}, \"zerolinecolor\": \"white\", \"zerolinewidth\": 2}, \"yaxis\": {\"automargin\": true, \"gridcolor\": \"white\", \"linecolor\": \"white\", \"ticks\": \"\", \"title\": {\"standoff\": 15}, \"zerolinecolor\": \"white\", \"zerolinewidth\": 2}}}, \"width\": 500, \"xaxis\": {\"anchor\": \"y\", \"domain\": [0.0, 1.0], \"range\": [-300, 300], \"title\": {\"text\": \"x\"}}, \"yaxis\": {\"anchor\": \"x\", \"domain\": [0.0, 1.0], \"range\": [-300, 300], \"title\": {\"text\": \"y\"}}},                        {\"responsive\": true}                    ).then(function(){\n",
       "                            \n",
       "var gd = document.getElementById('343821f8-db5c-4ccd-ae16-3757fc3312b9');\n",
       "var x = new MutationObserver(function (mutations, observer) {{\n",
       "        var display = window.getComputedStyle(gd).display;\n",
       "        if (!display || display === 'none') {{\n",
       "            console.log([gd, 'removed!']);\n",
       "            Plotly.purge(gd);\n",
       "            observer.disconnect();\n",
       "        }}\n",
       "}});\n",
       "\n",
       "// Listen for the removal of the full notebook cells\n",
       "var notebookContainer = gd.closest('#notebook-container');\n",
       "if (notebookContainer) {{\n",
       "    x.observe(notebookContainer, {childList: true});\n",
       "}}\n",
       "\n",
       "// Listen for the clearing of the current output cell\n",
       "var outputEl = gd.closest('.output');\n",
       "if (outputEl) {{\n",
       "    x.observe(outputEl, {childList: true});\n",
       "}}\n",
       "\n",
       "                        })                };                });            </script>        </div>"
      ]
     },
     "metadata": {},
     "output_type": "display_data"
    }
   ],
   "source": [
    "import plotly.express as px\n",
    "\n",
    "\n",
    "fig = px.scatter(x = data[:,1], y = data[:,2])\n",
    "fig.update_yaxes(range=[-300, 300])\n",
    "fig.update_xaxes(range=[-300, 300])\n",
    "fig.update_layout(autosize=False, width=500, height=500)"
   ]
  },
  {
   "cell_type": "markdown",
   "metadata": {},
   "source": []
  },
  {
   "cell_type": "markdown",
   "metadata": {},
   "source": [
    "Make a histogram of the radial velocity of all the galaxies (use bins with width of 250 km/s, and don’t include galaxies without velocity measurements when making your histogram!). How would this help you decide which galaxies actually were part of the Coma cluster?"
   ]
  },
  {
   "cell_type": "code",
   "execution_count": 38,
   "metadata": {},
   "outputs": [
    {
     "data": {
      "application/vnd.plotly.v1+json": {
       "config": {
        "plotlyServerURL": "https://plot.ly"
       },
       "data": [
        {
         "alignmentgroup": "True",
         "bingroup": "x",
         "hovertemplate": "variable=0<br>value=%{x}<br>count=%{y}<extra></extra>",
         "legendgroup": "0",
         "marker": {
          "color": "#636efa"
         },
         "name": "0",
         "nbinsx": 156,
         "offsetgroup": "0",
         "orientation": "v",
         "showlegend": true,
         "type": "histogram",
         "x": [
          7019,
          8041,
          6536,
          6574,
          7321,
          6699,
          6987,
          6559,
          4732,
          9374,
          7885,
          4485,
          7737,
          8184,
          4979,
          4801,
          4716,
          828,
          6528,
          6805,
          7492,
          7101,
          9303,
          7552,
          7265,
          951,
          4544,
          6375,
          1051,
          6938,
          6924,
          6651,
          6517,
          4675,
          808,
          7459,
          6761,
          6739,
          6610,
          7150,
          8018,
          7098,
          8071,
          4379,
          8159,
          7429,
          9604,
          6922,
          1221,
          7858,
          1206,
          6509,
          9186,
          7468,
          6459,
          8354,
          4765,
          5445,
          6937,
          7181,
          6187,
          6984,
          8186,
          6477,
          7981,
          6366,
          7835,
          7036,
          6997,
          1231,
          6150,
          13740,
          7976,
          8944,
          7005,
          6297,
          7635,
          374,
          6459,
          8354,
          7125,
          6202,
          6235,
          7495,
          7838,
          7177,
          7437,
          7087,
          6941,
          7171,
          4968,
          6948,
          6292,
          7096,
          6665,
          6404,
          7487,
          6974,
          6750,
          6134,
          7619,
          7843,
          6849,
          6304,
          8019,
          7774,
          7264,
          7516,
          7336,
          7460,
          7335,
          5517,
          7069,
          7222,
          6784,
          6059,
          6266,
          7512,
          6511,
          7350,
          5304,
          8142,
          15670,
          7410,
          7976,
          7198,
          7227,
          7612,
          8001,
          5885,
          7560,
          7405,
          7837,
          7785,
          6086,
          7242,
          7368,
          7652,
          7867,
          6818,
          7664,
          8077,
          6101,
          7526,
          7055,
          9386,
          7862,
          5458,
          7715,
          6709,
          6350,
          6760,
          6675,
          5627,
          7799,
          4818,
          4660,
          6703,
          5504,
          6950,
          6837,
          4745,
          6871,
          5662,
          7145,
          7176,
          7834,
          6217,
          5901,
          5327,
          6654,
          9371,
          6818,
          8211,
          7961,
          6691,
          5898,
          6218,
          6497,
          7228,
          7386,
          5712,
          6848,
          8446,
          8153,
          6774,
          7208,
          5823,
          7476,
          7633,
          7020,
          7505,
          7275,
          7114,
          8043,
          7997,
          6855,
          5807,
          6925,
          7680,
          4964,
          7973,
          6907,
          7110,
          8909,
          5475,
          5458,
          7500,
          7099,
          5917,
          7616,
          7751,
          7583,
          7203,
          7412,
          7177,
          7613,
          8311,
          5721,
          7443,
          7441,
          6342,
          8170,
          7893,
          5849,
          5965,
          6917,
          6092,
          6677,
          5739,
          11200,
          7111,
          6330,
          5971,
          8050,
          5523,
          10810,
          5919,
          6876,
          6521,
          15530,
          10850,
          7158,
          2533,
          7981,
          7994,
          7279,
          7135,
          7851,
          4837,
          6399,
          11510,
          6655,
          6331,
          7712,
          10340,
          7372,
          6631,
          7127,
          5996,
          9410,
          6258,
          5615,
          7192,
          7092,
          10460,
          7846,
          6364,
          7141,
          7262,
          7002,
          2613,
          6127,
          6918,
          6346,
          6863,
          6073,
          4868,
          6253,
          6325,
          7163,
          6022,
          7507,
          6960,
          3878,
          6936,
          6746,
          5600,
          3781,
          14810,
          5661,
          5823,
          9506,
          5581,
          5568,
          4543,
          13880,
          2458,
          6630,
          2119,
          7021,
          9438,
          7158
         ],
         "xaxis": "x",
         "yaxis": "y"
        }
       ],
       "layout": {
        "autosize": false,
        "barmode": "relative",
        "height": 500,
        "legend": {
         "title": {
          "text": "variable"
         },
         "tracegroupgap": 0
        },
        "margin": {
         "t": 60
        },
        "template": {
         "data": {
          "bar": [
           {
            "error_x": {
             "color": "#2a3f5f"
            },
            "error_y": {
             "color": "#2a3f5f"
            },
            "marker": {
             "line": {
              "color": "#E5ECF6",
              "width": 0.5
             }
            },
            "type": "bar"
           }
          ],
          "barpolar": [
           {
            "marker": {
             "line": {
              "color": "#E5ECF6",
              "width": 0.5
             }
            },
            "type": "barpolar"
           }
          ],
          "carpet": [
           {
            "aaxis": {
             "endlinecolor": "#2a3f5f",
             "gridcolor": "white",
             "linecolor": "white",
             "minorgridcolor": "white",
             "startlinecolor": "#2a3f5f"
            },
            "baxis": {
             "endlinecolor": "#2a3f5f",
             "gridcolor": "white",
             "linecolor": "white",
             "minorgridcolor": "white",
             "startlinecolor": "#2a3f5f"
            },
            "type": "carpet"
           }
          ],
          "choropleth": [
           {
            "colorbar": {
             "outlinewidth": 0,
             "ticks": ""
            },
            "type": "choropleth"
           }
          ],
          "contour": [
           {
            "colorbar": {
             "outlinewidth": 0,
             "ticks": ""
            },
            "colorscale": [
             [
              0,
              "#0d0887"
             ],
             [
              0.1111111111111111,
              "#46039f"
             ],
             [
              0.2222222222222222,
              "#7201a8"
             ],
             [
              0.3333333333333333,
              "#9c179e"
             ],
             [
              0.4444444444444444,
              "#bd3786"
             ],
             [
              0.5555555555555556,
              "#d8576b"
             ],
             [
              0.6666666666666666,
              "#ed7953"
             ],
             [
              0.7777777777777778,
              "#fb9f3a"
             ],
             [
              0.8888888888888888,
              "#fdca26"
             ],
             [
              1,
              "#f0f921"
             ]
            ],
            "type": "contour"
           }
          ],
          "contourcarpet": [
           {
            "colorbar": {
             "outlinewidth": 0,
             "ticks": ""
            },
            "type": "contourcarpet"
           }
          ],
          "heatmap": [
           {
            "colorbar": {
             "outlinewidth": 0,
             "ticks": ""
            },
            "colorscale": [
             [
              0,
              "#0d0887"
             ],
             [
              0.1111111111111111,
              "#46039f"
             ],
             [
              0.2222222222222222,
              "#7201a8"
             ],
             [
              0.3333333333333333,
              "#9c179e"
             ],
             [
              0.4444444444444444,
              "#bd3786"
             ],
             [
              0.5555555555555556,
              "#d8576b"
             ],
             [
              0.6666666666666666,
              "#ed7953"
             ],
             [
              0.7777777777777778,
              "#fb9f3a"
             ],
             [
              0.8888888888888888,
              "#fdca26"
             ],
             [
              1,
              "#f0f921"
             ]
            ],
            "type": "heatmap"
           }
          ],
          "heatmapgl": [
           {
            "colorbar": {
             "outlinewidth": 0,
             "ticks": ""
            },
            "colorscale": [
             [
              0,
              "#0d0887"
             ],
             [
              0.1111111111111111,
              "#46039f"
             ],
             [
              0.2222222222222222,
              "#7201a8"
             ],
             [
              0.3333333333333333,
              "#9c179e"
             ],
             [
              0.4444444444444444,
              "#bd3786"
             ],
             [
              0.5555555555555556,
              "#d8576b"
             ],
             [
              0.6666666666666666,
              "#ed7953"
             ],
             [
              0.7777777777777778,
              "#fb9f3a"
             ],
             [
              0.8888888888888888,
              "#fdca26"
             ],
             [
              1,
              "#f0f921"
             ]
            ],
            "type": "heatmapgl"
           }
          ],
          "histogram": [
           {
            "marker": {
             "colorbar": {
              "outlinewidth": 0,
              "ticks": ""
             }
            },
            "type": "histogram"
           }
          ],
          "histogram2d": [
           {
            "colorbar": {
             "outlinewidth": 0,
             "ticks": ""
            },
            "colorscale": [
             [
              0,
              "#0d0887"
             ],
             [
              0.1111111111111111,
              "#46039f"
             ],
             [
              0.2222222222222222,
              "#7201a8"
             ],
             [
              0.3333333333333333,
              "#9c179e"
             ],
             [
              0.4444444444444444,
              "#bd3786"
             ],
             [
              0.5555555555555556,
              "#d8576b"
             ],
             [
              0.6666666666666666,
              "#ed7953"
             ],
             [
              0.7777777777777778,
              "#fb9f3a"
             ],
             [
              0.8888888888888888,
              "#fdca26"
             ],
             [
              1,
              "#f0f921"
             ]
            ],
            "type": "histogram2d"
           }
          ],
          "histogram2dcontour": [
           {
            "colorbar": {
             "outlinewidth": 0,
             "ticks": ""
            },
            "colorscale": [
             [
              0,
              "#0d0887"
             ],
             [
              0.1111111111111111,
              "#46039f"
             ],
             [
              0.2222222222222222,
              "#7201a8"
             ],
             [
              0.3333333333333333,
              "#9c179e"
             ],
             [
              0.4444444444444444,
              "#bd3786"
             ],
             [
              0.5555555555555556,
              "#d8576b"
             ],
             [
              0.6666666666666666,
              "#ed7953"
             ],
             [
              0.7777777777777778,
              "#fb9f3a"
             ],
             [
              0.8888888888888888,
              "#fdca26"
             ],
             [
              1,
              "#f0f921"
             ]
            ],
            "type": "histogram2dcontour"
           }
          ],
          "mesh3d": [
           {
            "colorbar": {
             "outlinewidth": 0,
             "ticks": ""
            },
            "type": "mesh3d"
           }
          ],
          "parcoords": [
           {
            "line": {
             "colorbar": {
              "outlinewidth": 0,
              "ticks": ""
             }
            },
            "type": "parcoords"
           }
          ],
          "pie": [
           {
            "automargin": true,
            "type": "pie"
           }
          ],
          "scatter": [
           {
            "marker": {
             "colorbar": {
              "outlinewidth": 0,
              "ticks": ""
             }
            },
            "type": "scatter"
           }
          ],
          "scatter3d": [
           {
            "line": {
             "colorbar": {
              "outlinewidth": 0,
              "ticks": ""
             }
            },
            "marker": {
             "colorbar": {
              "outlinewidth": 0,
              "ticks": ""
             }
            },
            "type": "scatter3d"
           }
          ],
          "scattercarpet": [
           {
            "marker": {
             "colorbar": {
              "outlinewidth": 0,
              "ticks": ""
             }
            },
            "type": "scattercarpet"
           }
          ],
          "scattergeo": [
           {
            "marker": {
             "colorbar": {
              "outlinewidth": 0,
              "ticks": ""
             }
            },
            "type": "scattergeo"
           }
          ],
          "scattergl": [
           {
            "marker": {
             "colorbar": {
              "outlinewidth": 0,
              "ticks": ""
             }
            },
            "type": "scattergl"
           }
          ],
          "scattermapbox": [
           {
            "marker": {
             "colorbar": {
              "outlinewidth": 0,
              "ticks": ""
             }
            },
            "type": "scattermapbox"
           }
          ],
          "scatterpolar": [
           {
            "marker": {
             "colorbar": {
              "outlinewidth": 0,
              "ticks": ""
             }
            },
            "type": "scatterpolar"
           }
          ],
          "scatterpolargl": [
           {
            "marker": {
             "colorbar": {
              "outlinewidth": 0,
              "ticks": ""
             }
            },
            "type": "scatterpolargl"
           }
          ],
          "scatterternary": [
           {
            "marker": {
             "colorbar": {
              "outlinewidth": 0,
              "ticks": ""
             }
            },
            "type": "scatterternary"
           }
          ],
          "surface": [
           {
            "colorbar": {
             "outlinewidth": 0,
             "ticks": ""
            },
            "colorscale": [
             [
              0,
              "#0d0887"
             ],
             [
              0.1111111111111111,
              "#46039f"
             ],
             [
              0.2222222222222222,
              "#7201a8"
             ],
             [
              0.3333333333333333,
              "#9c179e"
             ],
             [
              0.4444444444444444,
              "#bd3786"
             ],
             [
              0.5555555555555556,
              "#d8576b"
             ],
             [
              0.6666666666666666,
              "#ed7953"
             ],
             [
              0.7777777777777778,
              "#fb9f3a"
             ],
             [
              0.8888888888888888,
              "#fdca26"
             ],
             [
              1,
              "#f0f921"
             ]
            ],
            "type": "surface"
           }
          ],
          "table": [
           {
            "cells": {
             "fill": {
              "color": "#EBF0F8"
             },
             "line": {
              "color": "white"
             }
            },
            "header": {
             "fill": {
              "color": "#C8D4E3"
             },
             "line": {
              "color": "white"
             }
            },
            "type": "table"
           }
          ]
         },
         "layout": {
          "annotationdefaults": {
           "arrowcolor": "#2a3f5f",
           "arrowhead": 0,
           "arrowwidth": 1
          },
          "autotypenumbers": "strict",
          "coloraxis": {
           "colorbar": {
            "outlinewidth": 0,
            "ticks": ""
           }
          },
          "colorscale": {
           "diverging": [
            [
             0,
             "#8e0152"
            ],
            [
             0.1,
             "#c51b7d"
            ],
            [
             0.2,
             "#de77ae"
            ],
            [
             0.3,
             "#f1b6da"
            ],
            [
             0.4,
             "#fde0ef"
            ],
            [
             0.5,
             "#f7f7f7"
            ],
            [
             0.6,
             "#e6f5d0"
            ],
            [
             0.7,
             "#b8e186"
            ],
            [
             0.8,
             "#7fbc41"
            ],
            [
             0.9,
             "#4d9221"
            ],
            [
             1,
             "#276419"
            ]
           ],
           "sequential": [
            [
             0,
             "#0d0887"
            ],
            [
             0.1111111111111111,
             "#46039f"
            ],
            [
             0.2222222222222222,
             "#7201a8"
            ],
            [
             0.3333333333333333,
             "#9c179e"
            ],
            [
             0.4444444444444444,
             "#bd3786"
            ],
            [
             0.5555555555555556,
             "#d8576b"
            ],
            [
             0.6666666666666666,
             "#ed7953"
            ],
            [
             0.7777777777777778,
             "#fb9f3a"
            ],
            [
             0.8888888888888888,
             "#fdca26"
            ],
            [
             1,
             "#f0f921"
            ]
           ],
           "sequentialminus": [
            [
             0,
             "#0d0887"
            ],
            [
             0.1111111111111111,
             "#46039f"
            ],
            [
             0.2222222222222222,
             "#7201a8"
            ],
            [
             0.3333333333333333,
             "#9c179e"
            ],
            [
             0.4444444444444444,
             "#bd3786"
            ],
            [
             0.5555555555555556,
             "#d8576b"
            ],
            [
             0.6666666666666666,
             "#ed7953"
            ],
            [
             0.7777777777777778,
             "#fb9f3a"
            ],
            [
             0.8888888888888888,
             "#fdca26"
            ],
            [
             1,
             "#f0f921"
            ]
           ]
          },
          "colorway": [
           "#636efa",
           "#EF553B",
           "#00cc96",
           "#ab63fa",
           "#FFA15A",
           "#19d3f3",
           "#FF6692",
           "#B6E880",
           "#FF97FF",
           "#FECB52"
          ],
          "font": {
           "color": "#2a3f5f"
          },
          "geo": {
           "bgcolor": "white",
           "lakecolor": "white",
           "landcolor": "#E5ECF6",
           "showlakes": true,
           "showland": true,
           "subunitcolor": "white"
          },
          "hoverlabel": {
           "align": "left"
          },
          "hovermode": "closest",
          "mapbox": {
           "style": "light"
          },
          "paper_bgcolor": "white",
          "plot_bgcolor": "#E5ECF6",
          "polar": {
           "angularaxis": {
            "gridcolor": "white",
            "linecolor": "white",
            "ticks": ""
           },
           "bgcolor": "#E5ECF6",
           "radialaxis": {
            "gridcolor": "white",
            "linecolor": "white",
            "ticks": ""
           }
          },
          "scene": {
           "xaxis": {
            "backgroundcolor": "#E5ECF6",
            "gridcolor": "white",
            "gridwidth": 2,
            "linecolor": "white",
            "showbackground": true,
            "ticks": "",
            "zerolinecolor": "white"
           },
           "yaxis": {
            "backgroundcolor": "#E5ECF6",
            "gridcolor": "white",
            "gridwidth": 2,
            "linecolor": "white",
            "showbackground": true,
            "ticks": "",
            "zerolinecolor": "white"
           },
           "zaxis": {
            "backgroundcolor": "#E5ECF6",
            "gridcolor": "white",
            "gridwidth": 2,
            "linecolor": "white",
            "showbackground": true,
            "ticks": "",
            "zerolinecolor": "white"
           }
          },
          "shapedefaults": {
           "line": {
            "color": "#2a3f5f"
           }
          },
          "ternary": {
           "aaxis": {
            "gridcolor": "white",
            "linecolor": "white",
            "ticks": ""
           },
           "baxis": {
            "gridcolor": "white",
            "linecolor": "white",
            "ticks": ""
           },
           "bgcolor": "#E5ECF6",
           "caxis": {
            "gridcolor": "white",
            "linecolor": "white",
            "ticks": ""
           }
          },
          "title": {
           "x": 0.05
          },
          "xaxis": {
           "automargin": true,
           "gridcolor": "white",
           "linecolor": "white",
           "ticks": "",
           "title": {
            "standoff": 15
           },
           "zerolinecolor": "white",
           "zerolinewidth": 2
          },
          "yaxis": {
           "automargin": true,
           "gridcolor": "white",
           "linecolor": "white",
           "ticks": "",
           "title": {
            "standoff": 15
           },
           "zerolinecolor": "white",
           "zerolinewidth": 2
          }
         }
        },
        "width": 1000,
        "xaxis": {
         "anchor": "y",
         "domain": [
          0,
          1
         ],
         "title": {
          "text": "value"
         }
        },
        "yaxis": {
         "anchor": "x",
         "domain": [
          0,
          1
         ],
         "title": {
          "text": "count"
         }
        }
       }
      },
      "text/html": [
       "<div>                            <div id=\"464b37ca-f9ed-4009-8cbd-ffae77c1b7ac\" class=\"plotly-graph-div\" style=\"height:500px; width:1000px;\"></div>            <script type=\"text/javascript\">                require([\"plotly\"], function(Plotly) {                    window.PLOTLYENV=window.PLOTLYENV || {};                                    if (document.getElementById(\"464b37ca-f9ed-4009-8cbd-ffae77c1b7ac\")) {                    Plotly.newPlot(                        \"464b37ca-f9ed-4009-8cbd-ffae77c1b7ac\",                        [{\"alignmentgroup\": \"True\", \"bingroup\": \"x\", \"hovertemplate\": \"variable=0<br>value=%{x}<br>count=%{y}<extra></extra>\", \"legendgroup\": \"0\", \"marker\": {\"color\": \"#636efa\"}, \"name\": \"0\", \"nbinsx\": 156, \"offsetgroup\": \"0\", \"orientation\": \"v\", \"showlegend\": true, \"type\": \"histogram\", \"x\": [7019.0, 8041.0, 6536.0, 6574.0, 7321.0, 6699.0, 6987.0, 6559.0, 4732.0, 9374.0, 7885.0, 4485.0, 7737.0, 8184.0, 4979.0, 4801.0, 4716.0, 828.0, 6528.0, 6805.0, 7492.0, 7101.0, 9303.0, 7552.0, 7265.0, 951.0, 4544.0, 6375.0, 1051.0, 6938.0, 6924.0, 6651.0, 6517.0, 4675.0, 808.0, 7459.0, 6761.0, 6739.0, 6610.0, 7150.0, 8018.0, 7098.0, 8071.0, 4379.0, 8159.0, 7429.0, 9604.0, 6922.0, 1221.0, 7858.0, 1206.0, 6509.0, 9186.0, 7468.0, 6459.0, 8354.0, 4765.0, 5445.0, 6937.0, 7181.0, 6187.0, 6984.0, 8186.0, 6477.0, 7981.0, 6366.0, 7835.0, 7036.0, 6997.0, 1231.0, 6150.0, 13740.0, 7976.0, 8944.0, 7005.0, 6297.0, 7635.0, 374.0, 6459.0, 8354.0, 7125.0, 6202.0, 6235.0, 7495.0, 7838.0, 7177.0, 7437.0, 7087.0, 6941.0, 7171.0, 4968.0, 6948.0, 6292.0, 7096.0, 6665.0, 6404.0, 7487.0, 6974.0, 6750.0, 6134.0, 7619.0, 7843.0, 6849.0, 6304.0, 8019.0, 7774.0, 7264.0, 7516.0, 7336.0, 7460.0, 7335.0, 5517.0, 7069.0, 7222.0, 6784.0, 6059.0, 6266.0, 7512.0, 6511.0, 7350.0, 5304.0, 8142.0, 15670.0, 7410.0, 7976.0, 7198.0, 7227.0, 7612.0, 8001.0, 5885.0, 7560.0, 7405.0, 7837.0, 7785.0, 6086.0, 7242.0, 7368.0, 7652.0, 7867.0, 6818.0, 7664.0, 8077.0, 6101.0, 7526.0, 7055.0, 9386.0, 7862.0, 5458.0, 7715.0, 6709.0, 6350.0, 6760.0, 6675.0, 5627.0, 7799.0, 4818.0, 4660.0, 6703.0, 5504.0, 6950.0, 6837.0, 4745.0, 6871.0, 5662.0, 7145.0, 7176.0, 7834.0, 6217.0, 5901.0, 5327.0, 6654.0, 9371.0, 6818.0, 8211.0, 7961.0, 6691.0, 5898.0, 6218.0, 6497.0, 7228.0, 7386.0, 5712.0, 6848.0, 8446.0, 8153.0, 6774.0, 7208.0, 5823.0, 7476.0, 7633.0, 7020.0, 7505.0, 7275.0, 7114.0, 8043.0, 7997.0, 6855.0, 5807.0, 6925.0, 7680.0, 4964.0, 7973.0, 6907.0, 7110.0, 8909.0, 5475.0, 5458.0, 7500.0, 7099.0, 5917.0, 7616.0, 7751.0, 7583.0, 7203.0, 7412.0, 7177.0, 7613.0, 8311.0, 5721.0, 7443.0, 7441.0, 6342.0, 8170.0, 7893.0, 5849.0, 5965.0, 6917.0, 6092.0, 6677.0, 5739.0, 11200.0, 7111.0, 6330.0, 5971.0, 8050.0, 5523.0, 10810.0, 5919.0, 6876.0, 6521.0, 15530.0, 10850.0, 7158.0, 2533.0, 7981.0, 7994.0, 7279.0, 7135.0, 7851.0, 4837.0, 6399.0, 11510.0, 6655.0, 6331.0, 7712.0, 10340.0, 7372.0, 6631.0, 7127.0, 5996.0, 9410.0, 6258.0, 5615.0, 7192.0, 7092.0, 10460.0, 7846.0, 6364.0, 7141.0, 7262.0, 7002.0, 2613.0, 6127.0, 6918.0, 6346.0, 6863.0, 6073.0, 4868.0, 6253.0, 6325.0, 7163.0, 6022.0, 7507.0, 6960.0, 3878.0, 6936.0, 6746.0, 5600.0, 3781.0, 14810.0, 5661.0, 5823.0, 9506.0, 5581.0, 5568.0, 4543.0, 13880.0, 2458.0, 6630.0, 2119.0, 7021.0, 9438.0, 7158.0], \"xaxis\": \"x\", \"yaxis\": \"y\"}],                        {\"autosize\": false, \"barmode\": \"relative\", \"height\": 500, \"legend\": {\"title\": {\"text\": \"variable\"}, \"tracegroupgap\": 0}, \"margin\": {\"t\": 60}, \"template\": {\"data\": {\"bar\": [{\"error_x\": {\"color\": \"#2a3f5f\"}, \"error_y\": {\"color\": \"#2a3f5f\"}, \"marker\": {\"line\": {\"color\": \"#E5ECF6\", \"width\": 0.5}}, \"type\": \"bar\"}], \"barpolar\": [{\"marker\": {\"line\": {\"color\": \"#E5ECF6\", \"width\": 0.5}}, \"type\": \"barpolar\"}], \"carpet\": [{\"aaxis\": {\"endlinecolor\": \"#2a3f5f\", \"gridcolor\": \"white\", \"linecolor\": \"white\", \"minorgridcolor\": \"white\", \"startlinecolor\": \"#2a3f5f\"}, \"baxis\": {\"endlinecolor\": \"#2a3f5f\", \"gridcolor\": \"white\", \"linecolor\": \"white\", \"minorgridcolor\": \"white\", \"startlinecolor\": \"#2a3f5f\"}, \"type\": \"carpet\"}], \"choropleth\": [{\"colorbar\": {\"outlinewidth\": 0, \"ticks\": \"\"}, \"type\": \"choropleth\"}], \"contour\": [{\"colorbar\": {\"outlinewidth\": 0, \"ticks\": \"\"}, \"colorscale\": [[0.0, \"#0d0887\"], [0.1111111111111111, \"#46039f\"], [0.2222222222222222, \"#7201a8\"], [0.3333333333333333, \"#9c179e\"], [0.4444444444444444, \"#bd3786\"], [0.5555555555555556, \"#d8576b\"], [0.6666666666666666, \"#ed7953\"], [0.7777777777777778, \"#fb9f3a\"], [0.8888888888888888, \"#fdca26\"], [1.0, \"#f0f921\"]], \"type\": \"contour\"}], \"contourcarpet\": [{\"colorbar\": {\"outlinewidth\": 0, \"ticks\": \"\"}, \"type\": \"contourcarpet\"}], \"heatmap\": [{\"colorbar\": {\"outlinewidth\": 0, \"ticks\": \"\"}, \"colorscale\": [[0.0, \"#0d0887\"], [0.1111111111111111, \"#46039f\"], [0.2222222222222222, \"#7201a8\"], [0.3333333333333333, \"#9c179e\"], [0.4444444444444444, \"#bd3786\"], [0.5555555555555556, \"#d8576b\"], [0.6666666666666666, \"#ed7953\"], [0.7777777777777778, \"#fb9f3a\"], [0.8888888888888888, \"#fdca26\"], [1.0, \"#f0f921\"]], \"type\": \"heatmap\"}], \"heatmapgl\": [{\"colorbar\": {\"outlinewidth\": 0, \"ticks\": \"\"}, \"colorscale\": [[0.0, \"#0d0887\"], [0.1111111111111111, \"#46039f\"], [0.2222222222222222, \"#7201a8\"], [0.3333333333333333, \"#9c179e\"], [0.4444444444444444, \"#bd3786\"], [0.5555555555555556, \"#d8576b\"], [0.6666666666666666, \"#ed7953\"], [0.7777777777777778, \"#fb9f3a\"], [0.8888888888888888, \"#fdca26\"], [1.0, \"#f0f921\"]], \"type\": \"heatmapgl\"}], \"histogram\": [{\"marker\": {\"colorbar\": {\"outlinewidth\": 0, \"ticks\": \"\"}}, \"type\": \"histogram\"}], \"histogram2d\": [{\"colorbar\": {\"outlinewidth\": 0, \"ticks\": \"\"}, \"colorscale\": [[0.0, \"#0d0887\"], [0.1111111111111111, \"#46039f\"], [0.2222222222222222, \"#7201a8\"], [0.3333333333333333, \"#9c179e\"], [0.4444444444444444, \"#bd3786\"], [0.5555555555555556, \"#d8576b\"], [0.6666666666666666, \"#ed7953\"], [0.7777777777777778, \"#fb9f3a\"], [0.8888888888888888, \"#fdca26\"], [1.0, \"#f0f921\"]], \"type\": \"histogram2d\"}], \"histogram2dcontour\": [{\"colorbar\": {\"outlinewidth\": 0, \"ticks\": \"\"}, \"colorscale\": [[0.0, \"#0d0887\"], [0.1111111111111111, \"#46039f\"], [0.2222222222222222, \"#7201a8\"], [0.3333333333333333, \"#9c179e\"], [0.4444444444444444, \"#bd3786\"], [0.5555555555555556, \"#d8576b\"], [0.6666666666666666, \"#ed7953\"], [0.7777777777777778, \"#fb9f3a\"], [0.8888888888888888, \"#fdca26\"], [1.0, \"#f0f921\"]], \"type\": \"histogram2dcontour\"}], \"mesh3d\": [{\"colorbar\": {\"outlinewidth\": 0, \"ticks\": \"\"}, \"type\": \"mesh3d\"}], \"parcoords\": [{\"line\": {\"colorbar\": {\"outlinewidth\": 0, \"ticks\": \"\"}}, \"type\": \"parcoords\"}], \"pie\": [{\"automargin\": true, \"type\": \"pie\"}], \"scatter\": [{\"marker\": {\"colorbar\": {\"outlinewidth\": 0, \"ticks\": \"\"}}, \"type\": \"scatter\"}], \"scatter3d\": [{\"line\": {\"colorbar\": {\"outlinewidth\": 0, \"ticks\": \"\"}}, \"marker\": {\"colorbar\": {\"outlinewidth\": 0, \"ticks\": \"\"}}, \"type\": \"scatter3d\"}], \"scattercarpet\": [{\"marker\": {\"colorbar\": {\"outlinewidth\": 0, \"ticks\": \"\"}}, \"type\": \"scattercarpet\"}], \"scattergeo\": [{\"marker\": {\"colorbar\": {\"outlinewidth\": 0, \"ticks\": \"\"}}, \"type\": \"scattergeo\"}], \"scattergl\": [{\"marker\": {\"colorbar\": {\"outlinewidth\": 0, \"ticks\": \"\"}}, \"type\": \"scattergl\"}], \"scattermapbox\": [{\"marker\": {\"colorbar\": {\"outlinewidth\": 0, \"ticks\": \"\"}}, \"type\": \"scattermapbox\"}], \"scatterpolar\": [{\"marker\": {\"colorbar\": {\"outlinewidth\": 0, \"ticks\": \"\"}}, \"type\": \"scatterpolar\"}], \"scatterpolargl\": [{\"marker\": {\"colorbar\": {\"outlinewidth\": 0, \"ticks\": \"\"}}, \"type\": \"scatterpolargl\"}], \"scatterternary\": [{\"marker\": {\"colorbar\": {\"outlinewidth\": 0, \"ticks\": \"\"}}, \"type\": \"scatterternary\"}], \"surface\": [{\"colorbar\": {\"outlinewidth\": 0, \"ticks\": \"\"}, \"colorscale\": [[0.0, \"#0d0887\"], [0.1111111111111111, \"#46039f\"], [0.2222222222222222, \"#7201a8\"], [0.3333333333333333, \"#9c179e\"], [0.4444444444444444, \"#bd3786\"], [0.5555555555555556, \"#d8576b\"], [0.6666666666666666, \"#ed7953\"], [0.7777777777777778, \"#fb9f3a\"], [0.8888888888888888, \"#fdca26\"], [1.0, \"#f0f921\"]], \"type\": \"surface\"}], \"table\": [{\"cells\": {\"fill\": {\"color\": \"#EBF0F8\"}, \"line\": {\"color\": \"white\"}}, \"header\": {\"fill\": {\"color\": \"#C8D4E3\"}, \"line\": {\"color\": \"white\"}}, \"type\": \"table\"}]}, \"layout\": {\"annotationdefaults\": {\"arrowcolor\": \"#2a3f5f\", \"arrowhead\": 0, \"arrowwidth\": 1}, \"autotypenumbers\": \"strict\", \"coloraxis\": {\"colorbar\": {\"outlinewidth\": 0, \"ticks\": \"\"}}, \"colorscale\": {\"diverging\": [[0, \"#8e0152\"], [0.1, \"#c51b7d\"], [0.2, \"#de77ae\"], [0.3, \"#f1b6da\"], [0.4, \"#fde0ef\"], [0.5, \"#f7f7f7\"], [0.6, \"#e6f5d0\"], [0.7, \"#b8e186\"], [0.8, \"#7fbc41\"], [0.9, \"#4d9221\"], [1, \"#276419\"]], \"sequential\": [[0.0, \"#0d0887\"], [0.1111111111111111, \"#46039f\"], [0.2222222222222222, \"#7201a8\"], [0.3333333333333333, \"#9c179e\"], [0.4444444444444444, \"#bd3786\"], [0.5555555555555556, \"#d8576b\"], [0.6666666666666666, \"#ed7953\"], [0.7777777777777778, \"#fb9f3a\"], [0.8888888888888888, \"#fdca26\"], [1.0, \"#f0f921\"]], \"sequentialminus\": [[0.0, \"#0d0887\"], [0.1111111111111111, \"#46039f\"], [0.2222222222222222, \"#7201a8\"], [0.3333333333333333, \"#9c179e\"], [0.4444444444444444, \"#bd3786\"], [0.5555555555555556, \"#d8576b\"], [0.6666666666666666, \"#ed7953\"], [0.7777777777777778, \"#fb9f3a\"], [0.8888888888888888, \"#fdca26\"], [1.0, \"#f0f921\"]]}, \"colorway\": [\"#636efa\", \"#EF553B\", \"#00cc96\", \"#ab63fa\", \"#FFA15A\", \"#19d3f3\", \"#FF6692\", \"#B6E880\", \"#FF97FF\", \"#FECB52\"], \"font\": {\"color\": \"#2a3f5f\"}, \"geo\": {\"bgcolor\": \"white\", \"lakecolor\": \"white\", \"landcolor\": \"#E5ECF6\", \"showlakes\": true, \"showland\": true, \"subunitcolor\": \"white\"}, \"hoverlabel\": {\"align\": \"left\"}, \"hovermode\": \"closest\", \"mapbox\": {\"style\": \"light\"}, \"paper_bgcolor\": \"white\", \"plot_bgcolor\": \"#E5ECF6\", \"polar\": {\"angularaxis\": {\"gridcolor\": \"white\", \"linecolor\": \"white\", \"ticks\": \"\"}, \"bgcolor\": \"#E5ECF6\", \"radialaxis\": {\"gridcolor\": \"white\", \"linecolor\": \"white\", \"ticks\": \"\"}}, \"scene\": {\"xaxis\": {\"backgroundcolor\": \"#E5ECF6\", \"gridcolor\": \"white\", \"gridwidth\": 2, \"linecolor\": \"white\", \"showbackground\": true, \"ticks\": \"\", \"zerolinecolor\": \"white\"}, \"yaxis\": {\"backgroundcolor\": \"#E5ECF6\", \"gridcolor\": \"white\", \"gridwidth\": 2, \"linecolor\": \"white\", \"showbackground\": true, \"ticks\": \"\", \"zerolinecolor\": \"white\"}, \"zaxis\": {\"backgroundcolor\": \"#E5ECF6\", \"gridcolor\": \"white\", \"gridwidth\": 2, \"linecolor\": \"white\", \"showbackground\": true, \"ticks\": \"\", \"zerolinecolor\": \"white\"}}, \"shapedefaults\": {\"line\": {\"color\": \"#2a3f5f\"}}, \"ternary\": {\"aaxis\": {\"gridcolor\": \"white\", \"linecolor\": \"white\", \"ticks\": \"\"}, \"baxis\": {\"gridcolor\": \"white\", \"linecolor\": \"white\", \"ticks\": \"\"}, \"bgcolor\": \"#E5ECF6\", \"caxis\": {\"gridcolor\": \"white\", \"linecolor\": \"white\", \"ticks\": \"\"}}, \"title\": {\"x\": 0.05}, \"xaxis\": {\"automargin\": true, \"gridcolor\": \"white\", \"linecolor\": \"white\", \"ticks\": \"\", \"title\": {\"standoff\": 15}, \"zerolinecolor\": \"white\", \"zerolinewidth\": 2}, \"yaxis\": {\"automargin\": true, \"gridcolor\": \"white\", \"linecolor\": \"white\", \"ticks\": \"\", \"title\": {\"standoff\": 15}, \"zerolinecolor\": \"white\", \"zerolinewidth\": 2}}}, \"width\": 1000, \"xaxis\": {\"anchor\": \"y\", \"domain\": [0.0, 1.0], \"title\": {\"text\": \"value\"}}, \"yaxis\": {\"anchor\": \"x\", \"domain\": [0.0, 1.0], \"title\": {\"text\": \"count\"}}},                        {\"responsive\": true}                    ).then(function(){\n",
       "                            \n",
       "var gd = document.getElementById('464b37ca-f9ed-4009-8cbd-ffae77c1b7ac');\n",
       "var x = new MutationObserver(function (mutations, observer) {{\n",
       "        var display = window.getComputedStyle(gd).display;\n",
       "        if (!display || display === 'none') {{\n",
       "            console.log([gd, 'removed!']);\n",
       "            Plotly.purge(gd);\n",
       "            observer.disconnect();\n",
       "        }}\n",
       "}});\n",
       "\n",
       "// Listen for the removal of the full notebook cells\n",
       "var notebookContainer = gd.closest('#notebook-container');\n",
       "if (notebookContainer) {{\n",
       "    x.observe(notebookContainer, {childList: true});\n",
       "}}\n",
       "\n",
       "// Listen for the clearing of the current output cell\n",
       "var outputEl = gd.closest('.output');\n",
       "if (outputEl) {{\n",
       "    x.observe(outputEl, {childList: true});\n",
       "}}\n",
       "\n",
       "                        })                };                });            </script>        </div>"
      ]
     },
     "metadata": {},
     "output_type": "display_data"
    },
    {
     "data": {
      "text/plain": [
       "<Figure size 432x288 with 0 Axes>"
      ]
     },
     "metadata": {},
     "output_type": "display_data"
    }
   ],
   "source": [
    "plt.figure()\n",
    "\n",
    "\n",
    "vel = []\n",
    "for v in data[:, 3]:\n",
    "    if v!=0:\n",
    "        vel.append(v)\n",
    "\n",
    "        \n",
    "m = max(vel)\n",
    "n = int(m / 100)\n",
    "binBoundaries = np.linspace(0, m, n)\n",
    "fig = px.histogram(vel, nbins=n)\n",
    "fig.update_layout(autosize=False, width=1000, height=500)\n",
    "fig.show()"
   ]
  },
  {
   "cell_type": "markdown",
   "metadata": {},
   "source": []
  },
  {
   "cell_type": "markdown",
   "metadata": {},
   "source": [
    "Looking only at galaxies with 4000 < cz < 10000 km/s (why?), calculate the mean velocity and velocity dispersion of the galaxy sample."
   ]
  },
  {
   "cell_type": "code",
   "execution_count": 39,
   "metadata": {},
   "outputs": [
    {
     "name": "stdout",
     "output_type": "stream",
     "text": [
      "mean velocity: 6925.482014388489 dispersion example -707.482014388489\n"
     ]
    }
   ],
   "source": [
    "cz = []\n",
    "for c in data[:, 3]:\n",
    "    if c>4000 and c<10000:\n",
    "        cz.append(c)\n",
    "                \n",
    "vel = []\n",
    "for v in cz:\n",
    "    vv = v\n",
    "    vel.append(vv)\n",
    "    \n",
    "v_mean = np.mean(vel)\n",
    "    \n",
    "disp_ar = []\n",
    "for v in vel:\n",
    "    vv = v - v_mean\n",
    "    disp_ar.append(vv)\n",
    "    \n",
    "disp_mean = np.mean(v)  \n",
    "\n",
    "print('mean velocity:', v_mean,  'dispersion example', vel[167]-v_mean)"
   ]
  },
  {
   "cell_type": "code",
   "execution_count": 40,
   "metadata": {},
   "outputs": [
    {
     "name": "stdout",
     "output_type": "stream",
     "text": [
      "[  12.68109184 7037.98685912  831.9755409 ]\n"
     ]
    },
    {
     "data": {
      "image/png": "[encoded data removed]",
      "text/plain": [
       "<Figure size 432x288 with 1 Axes>"
      ]
     },
     "metadata": {
      "needs_background": "light"
     },
     "output_type": "display_data"
    },
    {
     "name": "stdout",
     "output_type": "stream",
     "text": [
      "mean velocity: 7037.986859120244 \n",
      " dispersion 831.9755408963002\n"
     ]
    },
    {
     "data": {
      "text/plain": [
       "<Figure size 432x288 with 0 Axes>"
      ]
     },
     "metadata": {},
     "output_type": "display_data"
    }
   ],
   "source": [
    "from scipy.optimize import curve_fit\n",
    "\n",
    "def fit_function(x, B, mu, sigma):\n",
    "    return ( B * np.exp(-1.0 * (x - mu)**2 / (2 * sigma**2)))\n",
    "\n",
    "\n",
    "\n",
    "cz = []\n",
    "for c in data[:, 3]:\n",
    "    if c>4000 and c<10000:\n",
    "        cz.append(c)\n",
    "datt = cz\n",
    "bins = binBoundaries\n",
    "data_entries, bins = np.histogram(datt, bins=bins)\n",
    "binscenters = np.array([0.5 * (bins[i] + bins[i+1]) for i in range(len(bins)-1)])\n",
    "\n",
    "popt, pcov = curve_fit(fit_function, xdata=binscenters, ydata=data_entries, p0=[20, 6000, 700])\n",
    "print(popt)\n",
    "\n",
    "xspace = np.linspace(0, 16000, len(datt))\n",
    "\n",
    "plt.bar(binscenters, data_entries, width = bins[1] - bins[0], color='cornflowerblue', label='Histogram entries')\n",
    "plt.plot(xspace, fit_function(xspace, *popt), color='teal', linewidth=3, label=r'Fitted function')\n",
    "\n",
    "plt.ylim(0,25)\n",
    "plt.xlabel(r'velocity')\n",
    "plt.ylabel(r'Number of entries')\n",
    "plt.legend(loc='best')\n",
    "plt.show()\n",
    "plt.clf()\n",
    "\n",
    "print('mean velocity:', popt[1], '\\n', 'dispersion', popt[2])"
   ]
  },
  {
   "cell_type": "markdown",
   "metadata": {},
   "source": [
    "From your data, how far away is Coma?"
   ]
  },
  {
   "cell_type": "markdown",
   "metadata": {},
   "source": [
    "v = H_o*d, so:"
   ]
  },
  {
   "cell_type": "code",
   "execution_count": 41,
   "metadata": {},
   "outputs": [
    {
     "name": "stdout",
     "output_type": "stream",
     "text": [
      "96.18725019984012 Mpc\n",
      "313.72433525179855 million light years\n"
     ]
    }
   ],
   "source": [
    "d = v_mean / 72 \n",
    "print(d, 'Mpc')\n",
    "dist = d * 3.2616\n",
    "print(dist, 'million light years')"
   ]
  },
  {
   "cell_type": "markdown",
   "metadata": {},
   "source": [
    "Calculate the total blue luminosity (in solar luminosities) for the Coma cluster. Ignore galaxies with cz < 4000 and cz >10000, but include galaxies with unmeasured redshifts. For reference, the absolute blue magnitude of the Sun is MB = +5.48."
   ]
  },
  {
   "cell_type": "code",
   "execution_count": 42,
   "metadata": {},
   "outputs": [
    {
     "name": "stdout",
     "output_type": "stream",
     "text": [
      "15844672 million solar luminosities, roughly 1.6 * 10^13 solar luminosities\n",
      "15848352 million solar luminosities, roughly 1.6 * 10^13 solar luminosities\n"
     ]
    }
   ],
   "source": [
    "lum = []\n",
    "for i in range(len(data[:, 3])):\n",
    "    if data[i, 3] > 4000 and data[i, 3] <10000 or data[i, 3] == 0:\n",
    "        lumi = int(data[i, 4])\n",
    "        lumi = lumi - 5 * np.log10(d * 10**6) + 5\n",
    "        lum.append(lumi)\n",
    "        \n",
    "\n",
    "        \n",
    "sumi = []\n",
    "for l in lum:\n",
    "    lumm = 2.512 ** (5.48 - l)\n",
    "    sumi.append(lumm)\n",
    "    \n",
    "total_lum = sum(sumi)\n",
    "\n",
    "\n",
    "print(round(total_lum/10**6), 'million solar luminosities, roughly', round(total_lum / 10**13, 1), '* 10^13 solar luminosities')\n",
    "\n",
    "#now total magnitude first:\n",
    "magn = []\n",
    "for i in range(len(data[:, 3])):\n",
    "    if data[i, 3] > 4000 and data[i, 3] <10000 or data[i, 3] == 0:\n",
    "        mag = int(data[i, 4])\n",
    "        magn.append(mag)\n",
    "        \n",
    "        \n",
    "sumten = []\n",
    "for m in magn:\n",
    "    sumten.append(10**(-0.4 * m))\n",
    "    \n",
    "m_sum = -2.5 * np.log10(sum(sumten))\n",
    "\n",
    "M_sum = m_sum + 5 - 5*np.log10(d * 10**6)\n",
    "L_coma = 2.512 ** (5.48 - M_sum)\n",
    "\n",
    "print(round(L_coma/10**6), 'million solar luminosities, roughly', round(total_lum / 10**13, 1), '* 10^13 solar luminosities')\n",
    "##same, cool!"
   ]
  },
  {
   "cell_type": "markdown",
   "metadata": {},
   "source": [
    "Figure out the radius (in arcminutes) which contains roughly half the total blue luminosity (it doesn’t have to be an exact solution, but you should get it to +/- 20 arcminutes or so). This is called the half-light radius, which is our estimate of the size of the Coma cluster."
   ]
  },
  {
   "cell_type": "code",
   "execution_count": 43,
   "metadata": {},
   "outputs": [
    {
     "data": {
      "image/png": "[encoded data removed]",
      "text/plain": [
       "<Figure size 216x216 with 1 Axes>"
      ]
     },
     "metadata": {
      "needs_background": "light"
     },
     "output_type": "display_data"
    },
    {
     "data": {
      "image/png": "[encoded data removed]",
      "text/plain": [
       "<Figure size 432x288 with 1 Axes>"
      ]
     },
     "metadata": {
      "needs_background": "light"
     },
     "output_type": "display_data"
    },
    {
     "data": {
      "application/javascript": [
       "/* Put everything inside the global mpl namespace */\n",
       "/* global mpl */\n",
       "window.mpl = {};\n",
       "\n",
       "mpl.get_websocket_type = function () {\n",
       "    if (typeof WebSocket !== 'undefined') {\n",
       "        return WebSocket;\n",
       "    } else if (typeof MozWebSocket !== 'undefined') {\n",
       "        return MozWebSocket;\n",
       "    } else {\n",
       "        alert(\n",
       "            'Your browser does not have WebSocket support. ' +\n",
       "                'Please try Chrome, Safari or Firefox ≥ 6. ' +\n",
       "                'Firefox 4 and 5 are also supported but you ' +\n",
       "                'have to enable WebSockets in about:config.'\n",
       "        );\n",
       "    }\n",
       "};\n",
       "\n",
       "mpl.figure = function (figure_id, websocket, ondownload, parent_element) {\n",
       "    this.id = figure_id;\n",
       "\n",
       "    this.ws = websocket;\n",
       "\n",
       "    this.supports_binary = this.ws.binaryType !== undefined;\n",
       "\n",
       "    if (!this.supports_binary) {\n",
       "        var warnings = document.getElementById('mpl-warnings');\n",
       "        if (warnings) {\n",
       "            warnings.style.display = 'block';\n",
       "            warnings.textContent =\n",
       "                'This browser does not support binary websocket messages. ' +\n",
       "                'Performance may be slow.';\n",
       "        }\n",
       "    }\n",
       "\n",
       "    this.imageObj = new Image();\n",
       "\n",
       "    this.context = undefined;\n",
       "    this.message = undefined;\n",
       "    this.canvas = undefined;\n",
       "    this.rubberband_canvas = undefined;\n",
       "    this.rubberband_context = undefined;\n",
       "    this.format_dropdown = undefined;\n",
       "\n",
       "    this.image_mode = 'full';\n",
       "\n",
       "    this.root = document.createElement('div');\n",
       "    this.root.setAttribute('style', 'display: inline-block');\n",
       "    this._root_extra_style(this.root);\n",
       "\n",
       "    parent_element.appendChild(this.root);\n",
       "\n",
       "    this._init_header(this);\n",
       "    this._init_canvas(this);\n",
       "    this._init_toolbar(this);\n",
       "\n",
       "    var fig = this;\n",
       "\n",
       "    this.waiting = false;\n",
       "\n",
       "    this.ws.onopen = function () {\n",
       "        fig.send_message('supports_binary', { value: fig.supports_binary });\n",
       "        fig.send_message('send_image_mode', {});\n",
       "        if (fig.ratio !== 1) {\n",
       "            fig.send_message('set_dpi_ratio', { dpi_ratio: fig.ratio });\n",
       "        }\n",
       "        fig.send_message('refresh', {});\n",
       "    };\n",
       "\n",
       "    this.imageObj.onload = function () {\n",
       "        if (fig.image_mode === 'full') {\n",
       "            // Full images could contain transparency (where diff images\n",
       "            // almost always do), so we need to clear the canvas so that\n",
       "            // there is no ghosting.\n",
       "            fig.context.clearRect(0, 0, fig.canvas.width, fig.canvas.height);\n",
       "        }\n",
       "        fig.context.drawImage(fig.imageObj, 0, 0);\n",
       "    };\n",
       "\n",
       "    this.imageObj.onunload = function () {\n",
       "        fig.ws.close();\n",
       "    };\n",
       "\n",
       "    this.ws.onmessage = this._make_on_message_function(this);\n",
       "\n",
       "    this.ondownload = ondownload;\n",
       "};\n",
       "\n",
       "mpl.figure.prototype._init_header = function () {\n",
       "    var titlebar = document.createElement('div');\n",
       "    titlebar.classList =\n",
       "        'ui-dialog-titlebar ui-widget-header ui-corner-all ui-helper-clearfix';\n",
       "    var titletext = document.createElement('div');\n",
       "    titletext.classList = 'ui-dialog-title';\n",
       "    titletext.setAttribute(\n",
       "        'style',\n",
       "        'width: 100%; text-align: center; padding: 3px;'\n",
       "    );\n",
       "    titlebar.appendChild(titletext);\n",
       "    this.root.appendChild(titlebar);\n",
       "    this.header = titletext;\n",
       "};\n",
       "\n",
       "mpl.figure.prototype._canvas_extra_style = function (_canvas_div) {};\n",
       "\n",
       "mpl.figure.prototype._root_extra_style = function (_canvas_div) {};\n",
       "\n",
       "mpl.figure.prototype._init_canvas = function () {\n",
       "    var fig = this;\n",
       "\n",
       "    var canvas_div = (this.canvas_div = document.createElement('div'));\n",
       "    canvas_div.setAttribute(\n",
       "        'style',\n",
       "        'border: 1px solid #ddd;' +\n",
       "            'box-sizing: content-box;' +\n",
       "            'clear: both;' +\n",
       "            'min-height: 1px;' +\n",
       "            'min-width: 1px;' +\n",
       "            'outline: 0;' +\n",
       "            'overflow: hidden;' +\n",
       "            'position: relative;' +\n",
       "            'resize: both;'\n",
       "    );\n",
       "\n",
       "    function on_keyboard_event_closure(name) {\n",
       "        return function (event) {\n",
       "            return fig.key_event(event, name);\n",
       "        };\n",
       "    }\n",
       "\n",
       "    canvas_div.addEventListener(\n",
       "        'keydown',\n",
       "        on_keyboard_event_closure('key_press')\n",
       "    );\n",
       "    canvas_div.addEventListener(\n",
       "        'keyup',\n",
       "        on_keyboard_event_closure('key_release')\n",
       "    );\n",
       "\n",
       "    this._canvas_extra_style(canvas_div);\n",
       "    this.root.appendChild(canvas_div);\n",
       "\n",
       "    var canvas = (this.canvas = document.createElement('canvas'));\n",
       "    canvas.classList.add('mpl-canvas');\n",
       "    canvas.setAttribute('style', 'box-sizing: content-box;');\n",
       "\n",
       "    this.context = canvas.getContext('2d');\n",
       "\n",
       "    var backingStore =\n",
       "        this.context.backingStorePixelRatio ||\n",
       "        this.context.webkitBackingStorePixelRatio ||\n",
       "        this.context.mozBackingStorePixelRatio ||\n",
       "        this.context.msBackingStorePixelRatio ||\n",
       "        this.context.oBackingStorePixelRatio ||\n",
       "        this.context.backingStorePixelRatio ||\n",
       "        1;\n",
       "\n",
       "    this.ratio = (window.devicePixelRatio || 1) / backingStore;\n",
       "    if (this.ratio !== 1) {\n",
       "        fig.send_message('set_dpi_ratio', { dpi_ratio: this.ratio });\n",
       "    }\n",
       "\n",
       "    var rubberband_canvas = (this.rubberband_canvas = document.createElement(\n",
       "        'canvas'\n",
       "    ));\n",
       "    rubberband_canvas.setAttribute(\n",
       "        'style',\n",
       "        'box-sizing: content-box; position: absolute; left: 0; top: 0; z-index: 1;'\n",
       "    );\n",
       "\n",
       "    var resizeObserver = new ResizeObserver(function (entries) {\n",
       "        var nentries = entries.length;\n",
       "        for (var i = 0; i < nentries; i++) {\n",
       "            var entry = entries[i];\n",
       "            var width, height;\n",
       "            if (entry.contentBoxSize) {\n",
       "                if (entry.contentBoxSize instanceof Array) {\n",
       "                    // Chrome 84 implements new version of spec.\n",
       "                    width = entry.contentBoxSize[0].inlineSize;\n",
       "                    height = entry.contentBoxSize[0].blockSize;\n",
       "                } else {\n",
       "                    // Firefox implements old version of spec.\n",
       "                    width = entry.contentBoxSize.inlineSize;\n",
       "                    height = entry.contentBoxSize.blockSize;\n",
       "                }\n",
       "            } else {\n",
       "                // Chrome <84 implements even older version of spec.\n",
       "                width = entry.contentRect.width;\n",
       "                height = entry.contentRect.height;\n",
       "            }\n",
       "\n",
       "            // Keep the size of the canvas and rubber band canvas in sync with\n",
       "            // the canvas container.\n",
       "            if (entry.devicePixelContentBoxSize) {\n",
       "                // Chrome 84 implements new version of spec.\n",
       "                canvas.setAttribute(\n",
       "                    'width',\n",
       "                    entry.devicePixelContentBoxSize[0].inlineSize\n",
       "                );\n",
       "                canvas.setAttribute(\n",
       "                    'height',\n",
       "                    entry.devicePixelContentBoxSize[0].blockSize\n",
       "                );\n",
       "            } else {\n",
       "                canvas.setAttribute('width', width * fig.ratio);\n",
       "                canvas.setAttribute('height', height * fig.ratio);\n",
       "            }\n",
       "            canvas.setAttribute(\n",
       "                'style',\n",
       "                'width: ' + width + 'px; height: ' + height + 'px;'\n",
       "            );\n",
       "\n",
       "            rubberband_canvas.setAttribute('width', width);\n",
       "            rubberband_canvas.setAttribute('height', height);\n",
       "\n",
       "            // And update the size in Python. We ignore the initial 0/0 size\n",
       "            // that occurs as the element is placed into the DOM, which should\n",
       "            // otherwise not happen due to the minimum size styling.\n",
       "            if (width != 0 && height != 0) {\n",
       "                fig.request_resize(width, height);\n",
       "            }\n",
       "        }\n",
       "    });\n",
       "    resizeObserver.observe(canvas_div);\n",
       "\n",
       "    function on_mouse_event_closure(name) {\n",
       "        return function (event) {\n",
       "            return fig.mouse_event(event, name);\n",
       "        };\n",
       "    }\n",
       "\n",
       "    rubberband_canvas.addEventListener(\n",
       "        'mousedown',\n",
       "        on_mouse_event_closure('button_press')\n",
       "    );\n",
       "    rubberband_canvas.addEventListener(\n",
       "        'mouseup',\n",
       "        on_mouse_event_closure('button_release')\n",
       "    );\n",
       "    // Throttle sequential mouse events to 1 every 20ms.\n",
       "    rubberband_canvas.addEventListener(\n",
       "        'mousemove',\n",
       "        on_mouse_event_closure('motion_notify')\n",
       "    );\n",
       "\n",
       "    rubberband_canvas.addEventListener(\n",
       "        'mouseenter',\n",
       "        on_mouse_event_closure('figure_enter')\n",
       "    );\n",
       "    rubberband_canvas.addEventListener(\n",
       "        'mouseleave',\n",
       "        on_mouse_event_closure('figure_leave')\n",
       "    );\n",
       "\n",
       "    canvas_div.addEventListener('wheel', function (event) {\n",
       "        if (event.deltaY < 0) {\n",
       "            event.step = 1;\n",
       "        } else {\n",
       "            event.step = -1;\n",
       "        }\n",
       "        on_mouse_event_closure('scroll')(event);\n",
       "    });\n",
       "\n",
       "    canvas_div.appendChild(canvas);\n",
       "    canvas_div.appendChild(rubberband_canvas);\n",
       "\n",
       "    this.rubberband_context = rubberband_canvas.getContext('2d');\n",
       "    this.rubberband_context.strokeStyle = '#000000';\n",
       "\n",
       "    this._resize_canvas = function (width, height, forward) {\n",
       "        if (forward) {\n",
       "            canvas_div.style.width = width + 'px';\n",
       "            canvas_div.style.height = height + 'px';\n",
       "        }\n",
       "    };\n",
       "\n",
       "    // Disable right mouse context menu.\n",
       "    this.rubberband_canvas.addEventListener('contextmenu', function (_e) {\n",
       "        event.preventDefault();\n",
       "        return false;\n",
       "    });\n",
       "\n",
       "    function set_focus() {\n",
       "        canvas.focus();\n",
       "        canvas_div.focus();\n",
       "    }\n",
       "\n",
       "    window.setTimeout(set_focus, 100);\n",
       "};\n",
       "\n",
       "mpl.figure.prototype._init_toolbar = function () {\n",
       "    var fig = this;\n",
       "\n",
       "    var toolbar = document.createElement('div');\n",
       "    toolbar.classList = 'mpl-toolbar';\n",
       "    this.root.appendChild(toolbar);\n",
       "\n",
       "    function on_click_closure(name) {\n",
       "        return function (_event) {\n",
       "            return fig.toolbar_button_onclick(name);\n",
       "        };\n",
       "    }\n",
       "\n",
       "    function on_mouseover_closure(tooltip) {\n",
       "        return function (event) {\n",
       "            if (!event.currentTarget.disabled) {\n",
       "                return fig.toolbar_button_onmouseover(tooltip);\n",
       "            }\n",
       "        };\n",
       "    }\n",
       "\n",
       "    fig.buttons = {};\n",
       "    var buttonGroup = document.createElement('div');\n",
       "    buttonGroup.classList = 'mpl-button-group';\n",
       "    for (var toolbar_ind in mpl.toolbar_items) {\n",
       "        var name = mpl.toolbar_items[toolbar_ind][0];\n",
       "        var tooltip = mpl.toolbar_items[toolbar_ind][1];\n",
       "        var image = mpl.toolbar_items[toolbar_ind][2];\n",
       "        var method_name = mpl.toolbar_items[toolbar_ind][3];\n",
       "\n",
       "        if (!name) {\n",
       "            /* Instead of a spacer, we start a new button group. */\n",
       "            if (buttonGroup.hasChildNodes()) {\n",
       "                toolbar.appendChild(buttonGroup);\n",
       "            }\n",
       "            buttonGroup = document.createElement('div');\n",
       "            buttonGroup.classList = 'mpl-button-group';\n",
       "            continue;\n",
       "        }\n",
       "\n",
       "        var button = (fig.buttons[name] = document.createElement('button'));\n",
       "        button.classList = 'mpl-widget';\n",
       "        button.setAttribute('role', 'button');\n",
       "        button.setAttribute('aria-disabled', 'false');\n",
       "        button.addEventListener('click', on_click_closure(method_name));\n",
       "        button.addEventListener('mouseover', on_mouseover_closure(tooltip));\n",
       "\n",
       "        var icon_img = document.createElement('img');\n",
       "        icon_img.src = '_images/' + image + '.png';\n",
       "        icon_img.srcset = '_images/' + image + '_large.png 2x';\n",
       "        icon_img.alt = tooltip;\n",
       "        button.appendChild(icon_img);\n",
       "\n",
       "        buttonGroup.appendChild(button);\n",
       "    }\n",
       "\n",
       "    if (buttonGroup.hasChildNodes()) {\n",
       "        toolbar.appendChild(buttonGroup);\n",
       "    }\n",
       "\n",
       "    var fmt_picker = document.createElement('select');\n",
       "    fmt_picker.classList = 'mpl-widget';\n",
       "    toolbar.appendChild(fmt_picker);\n",
       "    this.format_dropdown = fmt_picker;\n",
       "\n",
       "    for (var ind in mpl.extensions) {\n",
       "        var fmt = mpl.extensions[ind];\n",
       "        var option = document.createElement('option');\n",
       "        option.selected = fmt === mpl.default_extension;\n",
       "        option.innerHTML = fmt;\n",
       "        fmt_picker.appendChild(option);\n",
       "    }\n",
       "\n",
       "    var status_bar = document.createElement('span');\n",
       "    status_bar.classList = 'mpl-message';\n",
       "    toolbar.appendChild(status_bar);\n",
       "    this.message = status_bar;\n",
       "};\n",
       "\n",
       "mpl.figure.prototype.request_resize = function (x_pixels, y_pixels) {\n",
       "    // Request matplotlib to resize the figure. Matplotlib will then trigger a resize in the client,\n",
       "    // which will in turn request a refresh of the image.\n",
       "    this.send_message('resize', { width: x_pixels, height: y_pixels });\n",
       "};\n",
       "\n",
       "mpl.figure.prototype.send_message = function (type, properties) {\n",
       "    properties['type'] = type;\n",
       "    properties['figure_id'] = this.id;\n",
       "    this.ws.send(JSON.stringify(properties));\n",
       "};\n",
       "\n",
       "mpl.figure.prototype.send_draw_message = function () {\n",
       "    if (!this.waiting) {\n",
       "        this.waiting = true;\n",
       "        this.ws.send(JSON.stringify({ type: 'draw', figure_id: this.id }));\n",
       "    }\n",
       "};\n",
       "\n",
       "mpl.figure.prototype.handle_save = function (fig, _msg) {\n",
       "    var format_dropdown = fig.format_dropdown;\n",
       "    var format = format_dropdown.options[format_dropdown.selectedIndex].value;\n",
       "    fig.ondownload(fig, format);\n",
       "};\n",
       "\n",
       "mpl.figure.prototype.handle_resize = function (fig, msg) {\n",
       "    var size = msg['size'];\n",
       "    if (size[0] !== fig.canvas.width || size[1] !== fig.canvas.height) {\n",
       "        fig._resize_canvas(size[0], size[1], msg['forward']);\n",
       "        fig.send_message('refresh', {});\n",
       "    }\n",
       "};\n",
       "\n",
       "mpl.figure.prototype.handle_rubberband = function (fig, msg) {\n",
       "    var x0 = msg['x0'] / fig.ratio;\n",
       "    var y0 = (fig.canvas.height - msg['y0']) / fig.ratio;\n",
       "    var x1 = msg['x1'] / fig.ratio;\n",
       "    var y1 = (fig.canvas.height - msg['y1']) / fig.ratio;\n",
       "    x0 = Math.floor(x0) + 0.5;\n",
       "    y0 = Math.floor(y0) + 0.5;\n",
       "    x1 = Math.floor(x1) + 0.5;\n",
       "    y1 = Math.floor(y1) + 0.5;\n",
       "    var min_x = Math.min(x0, x1);\n",
       "    var min_y = Math.min(y0, y1);\n",
       "    var width = Math.abs(x1 - x0);\n",
       "    var height = Math.abs(y1 - y0);\n",
       "\n",
       "    fig.rubberband_context.clearRect(\n",
       "        0,\n",
       "        0,\n",
       "        fig.canvas.width / fig.ratio,\n",
       "        fig.canvas.height / fig.ratio\n",
       "    );\n",
       "\n",
       "    fig.rubberband_context.strokeRect(min_x, min_y, width, height);\n",
       "};\n",
       "\n",
       "mpl.figure.prototype.handle_figure_label = function (fig, msg) {\n",
       "    // Updates the figure title.\n",
       "    fig.header.textContent = msg['label'];\n",
       "};\n",
       "\n",
       "mpl.figure.prototype.handle_cursor = function (fig, msg) {\n",
       "    var cursor = msg['cursor'];\n",
       "    switch (cursor) {\n",
       "        case 0:\n",
       "            cursor = 'pointer';\n",
       "            break;\n",
       "        case 1:\n",
       "            cursor = 'default';\n",
       "            break;\n",
       "        case 2:\n",
       "            cursor = 'crosshair';\n",
       "            break;\n",
       "        case 3:\n",
       "            cursor = 'move';\n",
       "            break;\n",
       "    }\n",
       "    fig.rubberband_canvas.style.cursor = cursor;\n",
       "};\n",
       "\n",
       "mpl.figure.prototype.handle_message = function (fig, msg) {\n",
       "    fig.message.textContent = msg['message'];\n",
       "};\n",
       "\n",
       "mpl.figure.prototype.handle_draw = function (fig, _msg) {\n",
       "    // Request the server to send over a new figure.\n",
       "    fig.send_draw_message();\n",
       "};\n",
       "\n",
       "mpl.figure.prototype.handle_image_mode = function (fig, msg) {\n",
       "    fig.image_mode = msg['mode'];\n",
       "};\n",
       "\n",
       "mpl.figure.prototype.handle_history_buttons = function (fig, msg) {\n",
       "    for (var key in msg) {\n",
       "        if (!(key in fig.buttons)) {\n",
       "            continue;\n",
       "        }\n",
       "        fig.buttons[key].disabled = !msg[key];\n",
       "        fig.buttons[key].setAttribute('aria-disabled', !msg[key]);\n",
       "    }\n",
       "};\n",
       "\n",
       "mpl.figure.prototype.handle_navigate_mode = function (fig, msg) {\n",
       "    if (msg['mode'] === 'PAN') {\n",
       "        fig.buttons['Pan'].classList.add('active');\n",
       "        fig.buttons['Zoom'].classList.remove('active');\n",
       "    } else if (msg['mode'] === 'ZOOM') {\n",
       "        fig.buttons['Pan'].classList.remove('active');\n",
       "        fig.buttons['Zoom'].classList.add('active');\n",
       "    } else {\n",
       "        fig.buttons['Pan'].classList.remove('active');\n",
       "        fig.buttons['Zoom'].classList.remove('active');\n",
       "    }\n",
       "};\n",
       "\n",
       "mpl.figure.prototype.updated_canvas_event = function () {\n",
       "    // Called whenever the canvas gets updated.\n",
       "    this.send_message('ack', {});\n",
       "};\n",
       "\n",
       "// A function to construct a web socket function for onmessage handling.\n",
       "// Called in the figure constructor.\n",
       "mpl.figure.prototype._make_on_message_function = function (fig) {\n",
       "    return function socket_on_message(evt) {\n",
       "        if (evt.data instanceof Blob) {\n",
       "            /* FIXME: We get \"Resource interpreted as Image but\n",
       "             * transferred with MIME type text/plain:\" errors on\n",
       "             * Chrome.  But how to set the MIME type?  It doesn't seem\n",
       "             * to be part of the websocket stream */\n",
       "            evt.data.type = 'image/png';\n",
       "\n",
       "            /* Free the memory for the previous frames */\n",
       "            if (fig.imageObj.src) {\n",
       "                (window.URL || window.webkitURL).revokeObjectURL(\n",
       "                    fig.imageObj.src\n",
       "                );\n",
       "            }\n",
       "\n",
       "            fig.imageObj.src = (window.URL || window.webkitURL).createObjectURL(\n",
       "                evt.data\n",
       "            );\n",
       "            fig.updated_canvas_event();\n",
       "            fig.waiting = false;\n",
       "            return;\n",
       "        } else if (\n",
       "            typeof evt.data === 'string' &&\n",
       "            evt.data.slice(0, 21) === 'data:image/png;base64'\n",
       "        ) {\n",
       "            fig.imageObj.src = evt.data;\n",
       "            fig.updated_canvas_event();\n",
       "            fig.waiting = false;\n",
       "            return;\n",
       "        }\n",
       "\n",
       "        var msg = JSON.parse(evt.data);\n",
       "        var msg_type = msg['type'];\n",
       "\n",
       "        // Call the  \"handle_{type}\" callback, which takes\n",
       "        // the figure and JSON message as its only arguments.\n",
       "        try {\n",
       "            var callback = fig['handle_' + msg_type];\n",
       "        } catch (e) {\n",
       "            console.log(\n",
       "                \"No handler for the '\" + msg_type + \"' message type: \",\n",
       "                msg\n",
       "            );\n",
       "            return;\n",
       "        }\n",
       "\n",
       "        if (callback) {\n",
       "            try {\n",
       "                // console.log(\"Handling '\" + msg_type + \"' message: \", msg);\n",
       "                callback(fig, msg);\n",
       "            } catch (e) {\n",
       "                console.log(\n",
       "                    \"Exception inside the 'handler_\" + msg_type + \"' callback:\",\n",
       "                    e,\n",
       "                    e.stack,\n",
       "                    msg\n",
       "                );\n",
       "            }\n",
       "        }\n",
       "    };\n",
       "};\n",
       "\n",
       "// from http://stackoverflow.com/questions/1114465/getting-mouse-location-in-canvas\n",
       "mpl.findpos = function (e) {\n",
       "    //this section is from http://www.quirksmode.org/js/events_properties.html\n",
       "    var targ;\n",
       "    if (!e) {\n",
       "        e = window.event;\n",
       "    }\n",
       "    if (e.target) {\n",
       "        targ = e.target;\n",
       "    } else if (e.srcElement) {\n",
       "        targ = e.srcElement;\n",
       "    }\n",
       "    if (targ.nodeType === 3) {\n",
       "        // defeat Safari bug\n",
       "        targ = targ.parentNode;\n",
       "    }\n",
       "\n",
       "    // pageX,Y are the mouse positions relative to the document\n",
       "    var boundingRect = targ.getBoundingClientRect();\n",
       "    var x = e.pageX - (boundingRect.left + document.body.scrollLeft);\n",
       "    var y = e.pageY - (boundingRect.top + document.body.scrollTop);\n",
       "\n",
       "    return { x: x, y: y };\n",
       "};\n",
       "\n",
       "/*\n",
       " * return a copy of an object with only non-object keys\n",
       " * we need this to avoid circular references\n",
       " * http://stackoverflow.com/a/24161582/3208463\n",
       " */\n",
       "function simpleKeys(original) {\n",
       "    return Object.keys(original).reduce(function (obj, key) {\n",
       "        if (typeof original[key] !== 'object') {\n",
       "            obj[key] = original[key];\n",
       "        }\n",
       "        return obj;\n",
       "    }, {});\n",
       "}\n",
       "\n",
       "mpl.figure.prototype.mouse_event = function (event, name) {\n",
       "    var canvas_pos = mpl.findpos(event);\n",
       "\n",
       "    if (name === 'button_press') {\n",
       "        this.canvas.focus();\n",
       "        this.canvas_div.focus();\n",
       "    }\n",
       "\n",
       "    var x = canvas_pos.x * this.ratio;\n",
       "    var y = canvas_pos.y * this.ratio;\n",
       "\n",
       "    this.send_message(name, {\n",
       "        x: x,\n",
       "        y: y,\n",
       "        button: event.button,\n",
       "        step: event.step,\n",
       "        guiEvent: simpleKeys(event),\n",
       "    });\n",
       "\n",
       "    /* This prevents the web browser from automatically changing to\n",
       "     * the text insertion cursor when the button is pressed.  We want\n",
       "     * to control all of the cursor setting manually through the\n",
       "     * 'cursor' event from matplotlib */\n",
       "    event.preventDefault();\n",
       "    return false;\n",
       "};\n",
       "\n",
       "mpl.figure.prototype._key_event_extra = function (_event, _name) {\n",
       "    // Handle any extra behaviour associated with a key event\n",
       "};\n",
       "\n",
       "mpl.figure.prototype.key_event = function (event, name) {\n",
       "    // Prevent repeat events\n",
       "    if (name === 'key_press') {\n",
       "        if (event.which === this._key) {\n",
       "            return;\n",
       "        } else {\n",
       "            this._key = event.which;\n",
       "        }\n",
       "    }\n",
       "    if (name === 'key_release') {\n",
       "        this._key = null;\n",
       "    }\n",
       "\n",
       "    var value = '';\n",
       "    if (event.ctrlKey && event.which !== 17) {\n",
       "        value += 'ctrl+';\n",
       "    }\n",
       "    if (event.altKey && event.which !== 18) {\n",
       "        value += 'alt+';\n",
       "    }\n",
       "    if (event.shiftKey && event.which !== 16) {\n",
       "        value += 'shift+';\n",
       "    }\n",
       "\n",
       "    value += 'k';\n",
       "    value += event.which.toString();\n",
       "\n",
       "    this._key_event_extra(event, name);\n",
       "\n",
       "    this.send_message(name, { key: value, guiEvent: simpleKeys(event) });\n",
       "    return false;\n",
       "};\n",
       "\n",
       "mpl.figure.prototype.toolbar_button_onclick = function (name) {\n",
       "    if (name === 'download') {\n",
       "        this.handle_save(this, null);\n",
       "    } else {\n",
       "        this.send_message('toolbar_button', { name: name });\n",
       "    }\n",
       "};\n",
       "\n",
       "mpl.figure.prototype.toolbar_button_onmouseover = function (tooltip) {\n",
       "    this.message.textContent = tooltip;\n",
       "};\n",
       "mpl.toolbar_items = [[\"Home\", \"Reset original view\", \"fa fa-home icon-home\", \"home\"], [\"Back\", \"Back to previous view\", \"fa fa-arrow-left icon-arrow-left\", \"back\"], [\"Forward\", \"Forward to next view\", \"fa fa-arrow-right icon-arrow-right\", \"forward\"], [\"\", \"\", \"\", \"\"], [\"Pan\", \"Left button pans, Right button zooms\\nx/y fixes axis, CTRL fixes aspect\", \"fa fa-arrows icon-move\", \"pan\"], [\"Zoom\", \"Zoom to rectangle\\nx/y fixes axis, CTRL fixes aspect\", \"fa fa-square-o icon-check-empty\", \"zoom\"], [\"\", \"\", \"\", \"\"], [\"Download\", \"Download plot\", \"fa fa-floppy-o icon-save\", \"download\"]];\n",
       "\n",
       "mpl.extensions = [\"eps\", \"jpeg\", \"pdf\", \"png\", \"ps\", \"raw\", \"svg\", \"tif\"];\n",
       "\n",
       "mpl.default_extension = \"png\";/* global mpl */\n",
       "\n",
       "var comm_websocket_adapter = function (comm) {\n",
       "    // Create a \"websocket\"-like object which calls the given IPython comm\n",
       "    // object with the appropriate methods. Currently this is a non binary\n",
       "    // socket, so there is still some room for performance tuning.\n",
       "    var ws = {};\n",
       "\n",
       "    ws.close = function () {\n",
       "        comm.close();\n",
       "    };\n",
       "    ws.send = function (m) {\n",
       "        //console.log('sending', m);\n",
       "        comm.send(m);\n",
       "    };\n",
       "    // Register the callback with on_msg.\n",
       "    comm.on_msg(function (msg) {\n",
       "        //console.log('receiving', msg['content']['data'], msg);\n",
       "        // Pass the mpl event to the overridden (by mpl) onmessage function.\n",
       "        ws.onmessage(msg['content']['data']);\n",
       "    });\n",
       "    return ws;\n",
       "};\n",
       "\n",
       "mpl.mpl_figure_comm = function (comm, msg) {\n",
       "    // This is the function which gets called when the mpl process\n",
       "    // starts-up an IPython Comm through the \"matplotlib\" channel.\n",
       "\n",
       "    var id = msg.content.data.id;\n",
       "    // Get hold of the div created by the display call when the Comm\n",
       "    // socket was opened in Python.\n",
       "    var element = document.getElementById(id);\n",
       "    var ws_proxy = comm_websocket_adapter(comm);\n",
       "\n",
       "    function ondownload(figure, _format) {\n",
       "        window.open(figure.canvas.toDataURL());\n",
       "    }\n",
       "\n",
       "    var fig = new mpl.figure(id, ws_proxy, ondownload, element);\n",
       "\n",
       "    // Call onopen now - mpl needs it, as it is assuming we've passed it a real\n",
       "    // web socket which is closed, not our websocket->open comm proxy.\n",
       "    ws_proxy.onopen();\n",
       "\n",
       "    fig.parent_element = element;\n",
       "    fig.cell_info = mpl.find_output_cell(\"<div id='\" + id + \"'></div>\");\n",
       "    if (!fig.cell_info) {\n",
       "        console.error('Failed to find cell for figure', id, fig);\n",
       "        return;\n",
       "    }\n",
       "    fig.cell_info[0].output_area.element.one(\n",
       "        'cleared',\n",
       "        { fig: fig },\n",
       "        fig._remove_fig_handler\n",
       "    );\n",
       "};\n",
       "\n",
       "mpl.figure.prototype.handle_close = function (fig, msg) {\n",
       "    var width = fig.canvas.width / fig.ratio;\n",
       "    fig.cell_info[0].output_area.element.off(\n",
       "        'cleared',\n",
       "        fig._remove_fig_handler\n",
       "    );\n",
       "\n",
       "    // Update the output cell to use the data from the current canvas.\n",
       "    fig.push_to_output();\n",
       "    var dataURL = fig.canvas.toDataURL();\n",
       "    // Re-enable the keyboard manager in IPython - without this line, in FF,\n",
       "    // the notebook keyboard shortcuts fail.\n",
       "    IPython.keyboard_manager.enable();\n",
       "    fig.parent_element.innerHTML =\n",
       "        '<img src=\"' + dataURL + '\" width=\"' + width + '\">';\n",
       "    fig.close_ws(fig, msg);\n",
       "};\n",
       "\n",
       "mpl.figure.prototype.close_ws = function (fig, msg) {\n",
       "    fig.send_message('closing', msg);\n",
       "    // fig.ws.close()\n",
       "};\n",
       "\n",
       "mpl.figure.prototype.push_to_output = function (_remove_interactive) {\n",
       "    // Turn the data on the canvas into data in the output cell.\n",
       "    var width = this.canvas.width / this.ratio;\n",
       "    var dataURL = this.canvas.toDataURL();\n",
       "    this.cell_info[1]['text/html'] =\n",
       "        '<img src=\"' + dataURL + '\" width=\"' + width + '\">';\n",
       "};\n",
       "\n",
       "mpl.figure.prototype.updated_canvas_event = function () {\n",
       "    // Tell IPython that the notebook contents must change.\n",
       "    IPython.notebook.set_dirty(true);\n",
       "    this.send_message('ack', {});\n",
       "    var fig = this;\n",
       "    // Wait a second, then push the new image to the DOM so\n",
       "    // that it is saved nicely (might be nice to debounce this).\n",
       "    setTimeout(function () {\n",
       "        fig.push_to_output();\n",
       "    }, 1000);\n",
       "};\n",
       "\n",
       "mpl.figure.prototype._init_toolbar = function () {\n",
       "    var fig = this;\n",
       "\n",
       "    var toolbar = document.createElement('div');\n",
       "    toolbar.classList = 'btn-toolbar';\n",
       "    this.root.appendChild(toolbar);\n",
       "\n",
       "    function on_click_closure(name) {\n",
       "        return function (_event) {\n",
       "            return fig.toolbar_button_onclick(name);\n",
       "        };\n",
       "    }\n",
       "\n",
       "    function on_mouseover_closure(tooltip) {\n",
       "        return function (event) {\n",
       "            if (!event.currentTarget.disabled) {\n",
       "                return fig.toolbar_button_onmouseover(tooltip);\n",
       "            }\n",
       "        };\n",
       "    }\n",
       "\n",
       "    fig.buttons = {};\n",
       "    var buttonGroup = document.createElement('div');\n",
       "    buttonGroup.classList = 'btn-group';\n",
       "    var button;\n",
       "    for (var toolbar_ind in mpl.toolbar_items) {\n",
       "        var name = mpl.toolbar_items[toolbar_ind][0];\n",
       "        var tooltip = mpl.toolbar_items[toolbar_ind][1];\n",
       "        var image = mpl.toolbar_items[toolbar_ind][2];\n",
       "        var method_name = mpl.toolbar_items[toolbar_ind][3];\n",
       "\n",
       "        if (!name) {\n",
       "            /* Instead of a spacer, we start a new button group. */\n",
       "            if (buttonGroup.hasChildNodes()) {\n",
       "                toolbar.appendChild(buttonGroup);\n",
       "            }\n",
       "            buttonGroup = document.createElement('div');\n",
       "            buttonGroup.classList = 'btn-group';\n",
       "            continue;\n",
       "        }\n",
       "\n",
       "        button = fig.buttons[name] = document.createElement('button');\n",
       "        button.classList = 'btn btn-default';\n",
       "        button.href = '#';\n",
       "        button.title = name;\n",
       "        button.innerHTML = '<i class=\"fa ' + image + ' fa-lg\"></i>';\n",
       "        button.addEventListener('click', on_click_closure(method_name));\n",
       "        button.addEventListener('mouseover', on_mouseover_closure(tooltip));\n",
       "        buttonGroup.appendChild(button);\n",
       "    }\n",
       "\n",
       "    if (buttonGroup.hasChildNodes()) {\n",
       "        toolbar.appendChild(buttonGroup);\n",
       "    }\n",
       "\n",
       "    // Add the status bar.\n",
       "    var status_bar = document.createElement('span');\n",
       "    status_bar.classList = 'mpl-message pull-right';\n",
       "    toolbar.appendChild(status_bar);\n",
       "    this.message = status_bar;\n",
       "\n",
       "    // Add the close button to the window.\n",
       "    var buttongrp = document.createElement('div');\n",
       "    buttongrp.classList = 'btn-group inline pull-right';\n",
       "    button = document.createElement('button');\n",
       "    button.classList = 'btn btn-mini btn-primary';\n",
       "    button.href = '#';\n",
       "    button.title = 'Stop Interaction';\n",
       "    button.innerHTML = '<i class=\"fa fa-power-off icon-remove icon-large\"></i>';\n",
       "    button.addEventListener('click', function (_evt) {\n",
       "        fig.handle_close(fig, {});\n",
       "    });\n",
       "    button.addEventListener(\n",
       "        'mouseover',\n",
       "        on_mouseover_closure('Stop Interaction')\n",
       "    );\n",
       "    buttongrp.appendChild(button);\n",
       "    var titlebar = this.root.querySelector('.ui-dialog-titlebar');\n",
       "    titlebar.insertBefore(buttongrp, titlebar.firstChild);\n",
       "};\n",
       "\n",
       "mpl.figure.prototype._remove_fig_handler = function (event) {\n",
       "    var fig = event.data.fig;\n",
       "    fig.close_ws(fig, {});\n",
       "};\n",
       "\n",
       "mpl.figure.prototype._root_extra_style = function (el) {\n",
       "    el.style.boxSizing = 'content-box'; // override notebook setting of border-box.\n",
       "};\n",
       "\n",
       "mpl.figure.prototype._canvas_extra_style = function (el) {\n",
       "    // this is important to make the div 'focusable\n",
       "    el.setAttribute('tabindex', 0);\n",
       "    // reach out to IPython and tell the keyboard manager to turn it's self\n",
       "    // off when our div gets focus\n",
       "\n",
       "    // location in version 3\n",
       "    if (IPython.notebook.keyboard_manager) {\n",
       "        IPython.notebook.keyboard_manager.register_events(el);\n",
       "    } else {\n",
       "        // location in version 2\n",
       "        IPython.keyboard_manager.register_events(el);\n",
       "    }\n",
       "};\n",
       "\n",
       "mpl.figure.prototype._key_event_extra = function (event, _name) {\n",
       "    var manager = IPython.notebook.keyboard_manager;\n",
       "    if (!manager) {\n",
       "        manager = IPython.keyboard_manager;\n",
       "    }\n",
       "\n",
       "    // Check for shift+enter\n",
       "    if (event.shiftKey && event.which === 13) {\n",
       "        this.canvas_div.blur();\n",
       "        // select the cell after this one\n",
       "        var index = IPython.notebook.find_cell_index(this.cell_info[0]);\n",
       "        IPython.notebook.select(index + 1);\n",
       "    }\n",
       "};\n",
       "\n",
       "mpl.figure.prototype.handle_save = function (fig, _msg) {\n",
       "    fig.ondownload(fig, null);\n",
       "};\n",
       "\n",
       "mpl.find_output_cell = function (html_output) {\n",
       "    // Return the cell and output element which can be found *uniquely* in the notebook.\n",
       "    // Note - this is a bit hacky, but it is done because the \"notebook_saving.Notebook\"\n",
       "    // IPython event is triggered only after the cells have been serialised, which for\n",
       "    // our purposes (turning an active figure into a static one), is too late.\n",
       "    var cells = IPython.notebook.get_cells();\n",
       "    var ncells = cells.length;\n",
       "    for (var i = 0; i < ncells; i++) {\n",
       "        var cell = cells[i];\n",
       "        if (cell.cell_type === 'code') {\n",
       "            for (var j = 0; j < cell.output_area.outputs.length; j++) {\n",
       "                var data = cell.output_area.outputs[j];\n",
       "                if (data.data) {\n",
       "                    // IPython >= 3 moved mimebundle to data attribute of output\n",
       "                    data = data.data;\n",
       "                }\n",
       "                if (data['text/html'] === html_output) {\n",
       "                    return [cell, data, j];\n",
       "                }\n",
       "            }\n",
       "        }\n",
       "    }\n",
       "};\n",
       "\n",
       "// Register the function which deals with the matplotlib target/channel.\n",
       "// The kernel may be null if the page has been refreshed.\n",
       "if (IPython.notebook.kernel !== null) {\n",
       "    IPython.notebook.kernel.comm_manager.register_target(\n",
       "        'matplotlib',\n",
       "        mpl.mpl_figure_comm\n",
       "    );\n",
       "}\n"
      ],
      "text/plain": [
       "<IPython.core.display.Javascript object>"
      ]
     },
     "metadata": {},
     "output_type": "display_data"
    },
    {
     "data": {
      "text/html": [
       "<img src=\"data:image/png;base64,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\" width=\"432\">"
      ],
      "text/plain": [
       "<IPython.core.display.HTML object>"
      ]
     },
     "metadata": {},
     "output_type": "display_data"
    },
    {
     "data": {
      "application/javascript": [
       "/* Put everything inside the global mpl namespace */\n",
       "/* global mpl */\n",
       "window.mpl = {};\n",
       "\n",
       "mpl.get_websocket_type = function () {\n",
       "    if (typeof WebSocket !== 'undefined') {\n",
       "        return WebSocket;\n",
       "    } else if (typeof MozWebSocket !== 'undefined') {\n",
       "        return MozWebSocket;\n",
       "    } else {\n",
       "        alert(\n",
       "            'Your browser does not have WebSocket support. ' +\n",
       "                'Please try Chrome, Safari or Firefox ≥ 6. ' +\n",
       "                'Firefox 4 and 5 are also supported but you ' +\n",
       "                'have to enable WebSockets in about:config.'\n",
       "        );\n",
       "    }\n",
       "};\n",
       "\n",
       "mpl.figure = function (figure_id, websocket, ondownload, parent_element) {\n",
       "    this.id = figure_id;\n",
       "\n",
       "    this.ws = websocket;\n",
       "\n",
       "    this.supports_binary = this.ws.binaryType !== undefined;\n",
       "\n",
       "    if (!this.supports_binary) {\n",
       "        var warnings = document.getElementById('mpl-warnings');\n",
       "        if (warnings) {\n",
       "            warnings.style.display = 'block';\n",
       "            warnings.textContent =\n",
       "                'This browser does not support binary websocket messages. ' +\n",
       "                'Performance may be slow.';\n",
       "        }\n",
       "    }\n",
       "\n",
       "    this.imageObj = new Image();\n",
       "\n",
       "    this.context = undefined;\n",
       "    this.message = undefined;\n",
       "    this.canvas = undefined;\n",
       "    this.rubberband_canvas = undefined;\n",
       "    this.rubberband_context = undefined;\n",
       "    this.format_dropdown = undefined;\n",
       "\n",
       "    this.image_mode = 'full';\n",
       "\n",
       "    this.root = document.createElement('div');\n",
       "    this.root.setAttribute('style', 'display: inline-block');\n",
       "    this._root_extra_style(this.root);\n",
       "\n",
       "    parent_element.appendChild(this.root);\n",
       "\n",
       "    this._init_header(this);\n",
       "    this._init_canvas(this);\n",
       "    this._init_toolbar(this);\n",
       "\n",
       "    var fig = this;\n",
       "\n",
       "    this.waiting = false;\n",
       "\n",
       "    this.ws.onopen = function () {\n",
       "        fig.send_message('supports_binary', { value: fig.supports_binary });\n",
       "        fig.send_message('send_image_mode', {});\n",
       "        if (fig.ratio !== 1) {\n",
       "            fig.send_message('set_dpi_ratio', { dpi_ratio: fig.ratio });\n",
       "        }\n",
       "        fig.send_message('refresh', {});\n",
       "    };\n",
       "\n",
       "    this.imageObj.onload = function () {\n",
       "        if (fig.image_mode === 'full') {\n",
       "            // Full images could contain transparency (where diff images\n",
       "            // almost always do), so we need to clear the canvas so that\n",
       "            // there is no ghosting.\n",
       "            fig.context.clearRect(0, 0, fig.canvas.width, fig.canvas.height);\n",
       "        }\n",
       "        fig.context.drawImage(fig.imageObj, 0, 0);\n",
       "    };\n",
       "\n",
       "    this.imageObj.onunload = function () {\n",
       "        fig.ws.close();\n",
       "    };\n",
       "\n",
       "    this.ws.onmessage = this._make_on_message_function(this);\n",
       "\n",
       "    this.ondownload = ondownload;\n",
       "};\n",
       "\n",
       "mpl.figure.prototype._init_header = function () {\n",
       "    var titlebar = document.createElement('div');\n",
       "    titlebar.classList =\n",
       "        'ui-dialog-titlebar ui-widget-header ui-corner-all ui-helper-clearfix';\n",
       "    var titletext = document.createElement('div');\n",
       "    titletext.classList = 'ui-dialog-title';\n",
       "    titletext.setAttribute(\n",
       "        'style',\n",
       "        'width: 100%; text-align: center; padding: 3px;'\n",
       "    );\n",
       "    titlebar.appendChild(titletext);\n",
       "    this.root.appendChild(titlebar);\n",
       "    this.header = titletext;\n",
       "};\n",
       "\n",
       "mpl.figure.prototype._canvas_extra_style = function (_canvas_div) {};\n",
       "\n",
       "mpl.figure.prototype._root_extra_style = function (_canvas_div) {};\n",
       "\n",
       "mpl.figure.prototype._init_canvas = function () {\n",
       "    var fig = this;\n",
       "\n",
       "    var canvas_div = (this.canvas_div = document.createElement('div'));\n",
       "    canvas_div.setAttribute(\n",
       "        'style',\n",
       "        'border: 1px solid #ddd;' +\n",
       "            'box-sizing: content-box;' +\n",
       "            'clear: both;' +\n",
       "            'min-height: 1px;' +\n",
       "            'min-width: 1px;' +\n",
       "            'outline: 0;' +\n",
       "            'overflow: hidden;' +\n",
       "            'position: relative;' +\n",
       "            'resize: both;'\n",
       "    );\n",
       "\n",
       "    function on_keyboard_event_closure(name) {\n",
       "        return function (event) {\n",
       "            return fig.key_event(event, name);\n",
       "        };\n",
       "    }\n",
       "\n",
       "    canvas_div.addEventListener(\n",
       "        'keydown',\n",
       "        on_keyboard_event_closure('key_press')\n",
       "    );\n",
       "    canvas_div.addEventListener(\n",
       "        'keyup',\n",
       "        on_keyboard_event_closure('key_release')\n",
       "    );\n",
       "\n",
       "    this._canvas_extra_style(canvas_div);\n",
       "    this.root.appendChild(canvas_div);\n",
       "\n",
       "    var canvas = (this.canvas = document.createElement('canvas'));\n",
       "    canvas.classList.add('mpl-canvas');\n",
       "    canvas.setAttribute('style', 'box-sizing: content-box;');\n",
       "\n",
       "    this.context = canvas.getContext('2d');\n",
       "\n",
       "    var backingStore =\n",
       "        this.context.backingStorePixelRatio ||\n",
       "        this.context.webkitBackingStorePixelRatio ||\n",
       "        this.context.mozBackingStorePixelRatio ||\n",
       "        this.context.msBackingStorePixelRatio ||\n",
       "        this.context.oBackingStorePixelRatio ||\n",
       "        this.context.backingStorePixelRatio ||\n",
       "        1;\n",
       "\n",
       "    this.ratio = (window.devicePixelRatio || 1) / backingStore;\n",
       "    if (this.ratio !== 1) {\n",
       "        fig.send_message('set_dpi_ratio', { dpi_ratio: this.ratio });\n",
       "    }\n",
       "\n",
       "    var rubberband_canvas = (this.rubberband_canvas = document.createElement(\n",
       "        'canvas'\n",
       "    ));\n",
       "    rubberband_canvas.setAttribute(\n",
       "        'style',\n",
       "        'box-sizing: content-box; position: absolute; left: 0; top: 0; z-index: 1;'\n",
       "    );\n",
       "\n",
       "    var resizeObserver = new ResizeObserver(function (entries) {\n",
       "        var nentries = entries.length;\n",
       "        for (var i = 0; i < nentries; i++) {\n",
       "            var entry = entries[i];\n",
       "            var width, height;\n",
       "            if (entry.contentBoxSize) {\n",
       "                if (entry.contentBoxSize instanceof Array) {\n",
       "                    // Chrome 84 implements new version of spec.\n",
       "                    width = entry.contentBoxSize[0].inlineSize;\n",
       "                    height = entry.contentBoxSize[0].blockSize;\n",
       "                } else {\n",
       "                    // Firefox implements old version of spec.\n",
       "                    width = entry.contentBoxSize.inlineSize;\n",
       "                    height = entry.contentBoxSize.blockSize;\n",
       "                }\n",
       "            } else {\n",
       "                // Chrome <84 implements even older version of spec.\n",
       "                width = entry.contentRect.width;\n",
       "                height = entry.contentRect.height;\n",
       "            }\n",
       "\n",
       "            // Keep the size of the canvas and rubber band canvas in sync with\n",
       "            // the canvas container.\n",
       "            if (entry.devicePixelContentBoxSize) {\n",
       "                // Chrome 84 implements new version of spec.\n",
       "                canvas.setAttribute(\n",
       "                    'width',\n",
       "                    entry.devicePixelContentBoxSize[0].inlineSize\n",
       "                );\n",
       "                canvas.setAttribute(\n",
       "                    'height',\n",
       "                    entry.devicePixelContentBoxSize[0].blockSize\n",
       "                );\n",
       "            } else {\n",
       "                canvas.setAttribute('width', width * fig.ratio);\n",
       "                canvas.setAttribute('height', height * fig.ratio);\n",
       "            }\n",
       "            canvas.setAttribute(\n",
       "                'style',\n",
       "                'width: ' + width + 'px; height: ' + height + 'px;'\n",
       "            );\n",
       "\n",
       "            rubberband_canvas.setAttribute('width', width);\n",
       "            rubberband_canvas.setAttribute('height', height);\n",
       "\n",
       "            // And update the size in Python. We ignore the initial 0/0 size\n",
       "            // that occurs as the element is placed into the DOM, which should\n",
       "            // otherwise not happen due to the minimum size styling.\n",
       "            if (width != 0 && height != 0) {\n",
       "                fig.request_resize(width, height);\n",
       "            }\n",
       "        }\n",
       "    });\n",
       "    resizeObserver.observe(canvas_div);\n",
       "\n",
       "    function on_mouse_event_closure(name) {\n",
       "        return function (event) {\n",
       "            return fig.mouse_event(event, name);\n",
       "        };\n",
       "    }\n",
       "\n",
       "    rubberband_canvas.addEventListener(\n",
       "        'mousedown',\n",
       "        on_mouse_event_closure('button_press')\n",
       "    );\n",
       "    rubberband_canvas.addEventListener(\n",
       "        'mouseup',\n",
       "        on_mouse_event_closure('button_release')\n",
       "    );\n",
       "    // Throttle sequential mouse events to 1 every 20ms.\n",
       "    rubberband_canvas.addEventListener(\n",
       "        'mousemove',\n",
       "        on_mouse_event_closure('motion_notify')\n",
       "    );\n",
       "\n",
       "    rubberband_canvas.addEventListener(\n",
       "        'mouseenter',\n",
       "        on_mouse_event_closure('figure_enter')\n",
       "    );\n",
       "    rubberband_canvas.addEventListener(\n",
       "        'mouseleave',\n",
       "        on_mouse_event_closure('figure_leave')\n",
       "    );\n",
       "\n",
       "    canvas_div.addEventListener('wheel', function (event) {\n",
       "        if (event.deltaY < 0) {\n",
       "            event.step = 1;\n",
       "        } else {\n",
       "            event.step = -1;\n",
       "        }\n",
       "        on_mouse_event_closure('scroll')(event);\n",
       "    });\n",
       "\n",
       "    canvas_div.appendChild(canvas);\n",
       "    canvas_div.appendChild(rubberband_canvas);\n",
       "\n",
       "    this.rubberband_context = rubberband_canvas.getContext('2d');\n",
       "    this.rubberband_context.strokeStyle = '#000000';\n",
       "\n",
       "    this._resize_canvas = function (width, height, forward) {\n",
       "        if (forward) {\n",
       "            canvas_div.style.width = width + 'px';\n",
       "            canvas_div.style.height = height + 'px';\n",
       "        }\n",
       "    };\n",
       "\n",
       "    // Disable right mouse context menu.\n",
       "    this.rubberband_canvas.addEventListener('contextmenu', function (_e) {\n",
       "        event.preventDefault();\n",
       "        return false;\n",
       "    });\n",
       "\n",
       "    function set_focus() {\n",
       "        canvas.focus();\n",
       "        canvas_div.focus();\n",
       "    }\n",
       "\n",
       "    window.setTimeout(set_focus, 100);\n",
       "};\n",
       "\n",
       "mpl.figure.prototype._init_toolbar = function () {\n",
       "    var fig = this;\n",
       "\n",
       "    var toolbar = document.createElement('div');\n",
       "    toolbar.classList = 'mpl-toolbar';\n",
       "    this.root.appendChild(toolbar);\n",
       "\n",
       "    function on_click_closure(name) {\n",
       "        return function (_event) {\n",
       "            return fig.toolbar_button_onclick(name);\n",
       "        };\n",
       "    }\n",
       "\n",
       "    function on_mouseover_closure(tooltip) {\n",
       "        return function (event) {\n",
       "            if (!event.currentTarget.disabled) {\n",
       "                return fig.toolbar_button_onmouseover(tooltip);\n",
       "            }\n",
       "        };\n",
       "    }\n",
       "\n",
       "    fig.buttons = {};\n",
       "    var buttonGroup = document.createElement('div');\n",
       "    buttonGroup.classList = 'mpl-button-group';\n",
       "    for (var toolbar_ind in mpl.toolbar_items) {\n",
       "        var name = mpl.toolbar_items[toolbar_ind][0];\n",
       "        var tooltip = mpl.toolbar_items[toolbar_ind][1];\n",
       "        var image = mpl.toolbar_items[toolbar_ind][2];\n",
       "        var method_name = mpl.toolbar_items[toolbar_ind][3];\n",
       "\n",
       "        if (!name) {\n",
       "            /* Instead of a spacer, we start a new button group. */\n",
       "            if (buttonGroup.hasChildNodes()) {\n",
       "                toolbar.appendChild(buttonGroup);\n",
       "            }\n",
       "            buttonGroup = document.createElement('div');\n",
       "            buttonGroup.classList = 'mpl-button-group';\n",
       "            continue;\n",
       "        }\n",
       "\n",
       "        var button = (fig.buttons[name] = document.createElement('button'));\n",
       "        button.classList = 'mpl-widget';\n",
       "        button.setAttribute('role', 'button');\n",
       "        button.setAttribute('aria-disabled', 'false');\n",
       "        button.addEventListener('click', on_click_closure(method_name));\n",
       "        button.addEventListener('mouseover', on_mouseover_closure(tooltip));\n",
       "\n",
       "        var icon_img = document.createElement('img');\n",
       "        icon_img.src = '_images/' + image + '.png';\n",
       "        icon_img.srcset = '_images/' + image + '_large.png 2x';\n",
       "        icon_img.alt = tooltip;\n",
       "        button.appendChild(icon_img);\n",
       "\n",
       "        buttonGroup.appendChild(button);\n",
       "    }\n",
       "\n",
       "    if (buttonGroup.hasChildNodes()) {\n",
       "        toolbar.appendChild(buttonGroup);\n",
       "    }\n",
       "\n",
       "    var fmt_picker = document.createElement('select');\n",
       "    fmt_picker.classList = 'mpl-widget';\n",
       "    toolbar.appendChild(fmt_picker);\n",
       "    this.format_dropdown = fmt_picker;\n",
       "\n",
       "    for (var ind in mpl.extensions) {\n",
       "        var fmt = mpl.extensions[ind];\n",
       "        var option = document.createElement('option');\n",
       "        option.selected = fmt === mpl.default_extension;\n",
       "        option.innerHTML = fmt;\n",
       "        fmt_picker.appendChild(option);\n",
       "    }\n",
       "\n",
       "    var status_bar = document.createElement('span');\n",
       "    status_bar.classList = 'mpl-message';\n",
       "    toolbar.appendChild(status_bar);\n",
       "    this.message = status_bar;\n",
       "};\n",
       "\n",
       "mpl.figure.prototype.request_resize = function (x_pixels, y_pixels) {\n",
       "    // Request matplotlib to resize the figure. Matplotlib will then trigger a resize in the client,\n",
       "    // which will in turn request a refresh of the image.\n",
       "    this.send_message('resize', { width: x_pixels, height: y_pixels });\n",
       "};\n",
       "\n",
       "mpl.figure.prototype.send_message = function (type, properties) {\n",
       "    properties['type'] = type;\n",
       "    properties['figure_id'] = this.id;\n",
       "    this.ws.send(JSON.stringify(properties));\n",
       "};\n",
       "\n",
       "mpl.figure.prototype.send_draw_message = function () {\n",
       "    if (!this.waiting) {\n",
       "        this.waiting = true;\n",
       "        this.ws.send(JSON.stringify({ type: 'draw', figure_id: this.id }));\n",
       "    }\n",
       "};\n",
       "\n",
       "mpl.figure.prototype.handle_save = function (fig, _msg) {\n",
       "    var format_dropdown = fig.format_dropdown;\n",
       "    var format = format_dropdown.options[format_dropdown.selectedIndex].value;\n",
       "    fig.ondownload(fig, format);\n",
       "};\n",
       "\n",
       "mpl.figure.prototype.handle_resize = function (fig, msg) {\n",
       "    var size = msg['size'];\n",
       "    if (size[0] !== fig.canvas.width || size[1] !== fig.canvas.height) {\n",
       "        fig._resize_canvas(size[0], size[1], msg['forward']);\n",
       "        fig.send_message('refresh', {});\n",
       "    }\n",
       "};\n",
       "\n",
       "mpl.figure.prototype.handle_rubberband = function (fig, msg) {\n",
       "    var x0 = msg['x0'] / fig.ratio;\n",
       "    var y0 = (fig.canvas.height - msg['y0']) / fig.ratio;\n",
       "    var x1 = msg['x1'] / fig.ratio;\n",
       "    var y1 = (fig.canvas.height - msg['y1']) / fig.ratio;\n",
       "    x0 = Math.floor(x0) + 0.5;\n",
       "    y0 = Math.floor(y0) + 0.5;\n",
       "    x1 = Math.floor(x1) + 0.5;\n",
       "    y1 = Math.floor(y1) + 0.5;\n",
       "    var min_x = Math.min(x0, x1);\n",
       "    var min_y = Math.min(y0, y1);\n",
       "    var width = Math.abs(x1 - x0);\n",
       "    var height = Math.abs(y1 - y0);\n",
       "\n",
       "    fig.rubberband_context.clearRect(\n",
       "        0,\n",
       "        0,\n",
       "        fig.canvas.width / fig.ratio,\n",
       "        fig.canvas.height / fig.ratio\n",
       "    );\n",
       "\n",
       "    fig.rubberband_context.strokeRect(min_x, min_y, width, height);\n",
       "};\n",
       "\n",
       "mpl.figure.prototype.handle_figure_label = function (fig, msg) {\n",
       "    // Updates the figure title.\n",
       "    fig.header.textContent = msg['label'];\n",
       "};\n",
       "\n",
       "mpl.figure.prototype.handle_cursor = function (fig, msg) {\n",
       "    var cursor = msg['cursor'];\n",
       "    switch (cursor) {\n",
       "        case 0:\n",
       "            cursor = 'pointer';\n",
       "            break;\n",
       "        case 1:\n",
       "            cursor = 'default';\n",
       "            break;\n",
       "        case 2:\n",
       "            cursor = 'crosshair';\n",
       "            break;\n",
       "        case 3:\n",
       "            cursor = 'move';\n",
       "            break;\n",
       "    }\n",
       "    fig.rubberband_canvas.style.cursor = cursor;\n",
       "};\n",
       "\n",
       "mpl.figure.prototype.handle_message = function (fig, msg) {\n",
       "    fig.message.textContent = msg['message'];\n",
       "};\n",
       "\n",
       "mpl.figure.prototype.handle_draw = function (fig, _msg) {\n",
       "    // Request the server to send over a new figure.\n",
       "    fig.send_draw_message();\n",
       "};\n",
       "\n",
       "mpl.figure.prototype.handle_image_mode = function (fig, msg) {\n",
       "    fig.image_mode = msg['mode'];\n",
       "};\n",
       "\n",
       "mpl.figure.prototype.handle_history_buttons = function (fig, msg) {\n",
       "    for (var key in msg) {\n",
       "        if (!(key in fig.buttons)) {\n",
       "            continue;\n",
       "        }\n",
       "        fig.buttons[key].disabled = !msg[key];\n",
       "        fig.buttons[key].setAttribute('aria-disabled', !msg[key]);\n",
       "    }\n",
       "};\n",
       "\n",
       "mpl.figure.prototype.handle_navigate_mode = function (fig, msg) {\n",
       "    if (msg['mode'] === 'PAN') {\n",
       "        fig.buttons['Pan'].classList.add('active');\n",
       "        fig.buttons['Zoom'].classList.remove('active');\n",
       "    } else if (msg['mode'] === 'ZOOM') {\n",
       "        fig.buttons['Pan'].classList.remove('active');\n",
       "        fig.buttons['Zoom'].classList.add('active');\n",
       "    } else {\n",
       "        fig.buttons['Pan'].classList.remove('active');\n",
       "        fig.buttons['Zoom'].classList.remove('active');\n",
       "    }\n",
       "};\n",
       "\n",
       "mpl.figure.prototype.updated_canvas_event = function () {\n",
       "    // Called whenever the canvas gets updated.\n",
       "    this.send_message('ack', {});\n",
       "};\n",
       "\n",
       "// A function to construct a web socket function for onmessage handling.\n",
       "// Called in the figure constructor.\n",
       "mpl.figure.prototype._make_on_message_function = function (fig) {\n",
       "    return function socket_on_message(evt) {\n",
       "        if (evt.data instanceof Blob) {\n",
       "            /* FIXME: We get \"Resource interpreted as Image but\n",
       "             * transferred with MIME type text/plain:\" errors on\n",
       "             * Chrome.  But how to set the MIME type?  It doesn't seem\n",
       "             * to be part of the websocket stream */\n",
       "            evt.data.type = 'image/png';\n",
       "\n",
       "            /* Free the memory for the previous frames */\n",
       "            if (fig.imageObj.src) {\n",
       "                (window.URL || window.webkitURL).revokeObjectURL(\n",
       "                    fig.imageObj.src\n",
       "                );\n",
       "            }\n",
       "\n",
       "            fig.imageObj.src = (window.URL || window.webkitURL).createObjectURL(\n",
       "                evt.data\n",
       "            );\n",
       "            fig.updated_canvas_event();\n",
       "            fig.waiting = false;\n",
       "            return;\n",
       "        } else if (\n",
       "            typeof evt.data === 'string' &&\n",
       "            evt.data.slice(0, 21) === 'data:image/png;base64'\n",
       "        ) {\n",
       "            fig.imageObj.src = evt.data;\n",
       "            fig.updated_canvas_event();\n",
       "            fig.waiting = false;\n",
       "            return;\n",
       "        }\n",
       "\n",
       "        var msg = JSON.parse(evt.data);\n",
       "        var msg_type = msg['type'];\n",
       "\n",
       "        // Call the  \"handle_{type}\" callback, which takes\n",
       "        // the figure and JSON message as its only arguments.\n",
       "        try {\n",
       "            var callback = fig['handle_' + msg_type];\n",
       "        } catch (e) {\n",
       "            console.log(\n",
       "                \"No handler for the '\" + msg_type + \"' message type: \",\n",
       "                msg\n",
       "            );\n",
       "            return;\n",
       "        }\n",
       "\n",
       "        if (callback) {\n",
       "            try {\n",
       "                // console.log(\"Handling '\" + msg_type + \"' message: \", msg);\n",
       "                callback(fig, msg);\n",
       "            } catch (e) {\n",
       "                console.log(\n",
       "                    \"Exception inside the 'handler_\" + msg_type + \"' callback:\",\n",
       "                    e,\n",
       "                    e.stack,\n",
       "                    msg\n",
       "                );\n",
       "            }\n",
       "        }\n",
       "    };\n",
       "};\n",
       "\n",
       "// from http://stackoverflow.com/questions/1114465/getting-mouse-location-in-canvas\n",
       "mpl.findpos = function (e) {\n",
       "    //this section is from http://www.quirksmode.org/js/events_properties.html\n",
       "    var targ;\n",
       "    if (!e) {\n",
       "        e = window.event;\n",
       "    }\n",
       "    if (e.target) {\n",
       "        targ = e.target;\n",
       "    } else if (e.srcElement) {\n",
       "        targ = e.srcElement;\n",
       "    }\n",
       "    if (targ.nodeType === 3) {\n",
       "        // defeat Safari bug\n",
       "        targ = targ.parentNode;\n",
       "    }\n",
       "\n",
       "    // pageX,Y are the mouse positions relative to the document\n",
       "    var boundingRect = targ.getBoundingClientRect();\n",
       "    var x = e.pageX - (boundingRect.left + document.body.scrollLeft);\n",
       "    var y = e.pageY - (boundingRect.top + document.body.scrollTop);\n",
       "\n",
       "    return { x: x, y: y };\n",
       "};\n",
       "\n",
       "/*\n",
       " * return a copy of an object with only non-object keys\n",
       " * we need this to avoid circular references\n",
       " * http://stackoverflow.com/a/24161582/3208463\n",
       " */\n",
       "function simpleKeys(original) {\n",
       "    return Object.keys(original).reduce(function (obj, key) {\n",
       "        if (typeof original[key] !== 'object') {\n",
       "            obj[key] = original[key];\n",
       "        }\n",
       "        return obj;\n",
       "    }, {});\n",
       "}\n",
       "\n",
       "mpl.figure.prototype.mouse_event = function (event, name) {\n",
       "    var canvas_pos = mpl.findpos(event);\n",
       "\n",
       "    if (name === 'button_press') {\n",
       "        this.canvas.focus();\n",
       "        this.canvas_div.focus();\n",
       "    }\n",
       "\n",
       "    var x = canvas_pos.x * this.ratio;\n",
       "    var y = canvas_pos.y * this.ratio;\n",
       "\n",
       "    this.send_message(name, {\n",
       "        x: x,\n",
       "        y: y,\n",
       "        button: event.button,\n",
       "        step: event.step,\n",
       "        guiEvent: simpleKeys(event),\n",
       "    });\n",
       "\n",
       "    /* This prevents the web browser from automatically changing to\n",
       "     * the text insertion cursor when the button is pressed.  We want\n",
       "     * to control all of the cursor setting manually through the\n",
       "     * 'cursor' event from matplotlib */\n",
       "    event.preventDefault();\n",
       "    return false;\n",
       "};\n",
       "\n",
       "mpl.figure.prototype._key_event_extra = function (_event, _name) {\n",
       "    // Handle any extra behaviour associated with a key event\n",
       "};\n",
       "\n",
       "mpl.figure.prototype.key_event = function (event, name) {\n",
       "    // Prevent repeat events\n",
       "    if (name === 'key_press') {\n",
       "        if (event.which === this._key) {\n",
       "            return;\n",
       "        } else {\n",
       "            this._key = event.which;\n",
       "        }\n",
       "    }\n",
       "    if (name === 'key_release') {\n",
       "        this._key = null;\n",
       "    }\n",
       "\n",
       "    var value = '';\n",
       "    if (event.ctrlKey && event.which !== 17) {\n",
       "        value += 'ctrl+';\n",
       "    }\n",
       "    if (event.altKey && event.which !== 18) {\n",
       "        value += 'alt+';\n",
       "    }\n",
       "    if (event.shiftKey && event.which !== 16) {\n",
       "        value += 'shift+';\n",
       "    }\n",
       "\n",
       "    value += 'k';\n",
       "    value += event.which.toString();\n",
       "\n",
       "    this._key_event_extra(event, name);\n",
       "\n",
       "    this.send_message(name, { key: value, guiEvent: simpleKeys(event) });\n",
       "    return false;\n",
       "};\n",
       "\n",
       "mpl.figure.prototype.toolbar_button_onclick = function (name) {\n",
       "    if (name === 'download') {\n",
       "        this.handle_save(this, null);\n",
       "    } else {\n",
       "        this.send_message('toolbar_button', { name: name });\n",
       "    }\n",
       "};\n",
       "\n",
       "mpl.figure.prototype.toolbar_button_onmouseover = function (tooltip) {\n",
       "    this.message.textContent = tooltip;\n",
       "};\n",
       "mpl.toolbar_items = [[\"Home\", \"Reset original view\", \"fa fa-home icon-home\", \"home\"], [\"Back\", \"Back to previous view\", \"fa fa-arrow-left icon-arrow-left\", \"back\"], [\"Forward\", \"Forward to next view\", \"fa fa-arrow-right icon-arrow-right\", \"forward\"], [\"\", \"\", \"\", \"\"], [\"Pan\", \"Left button pans, Right button zooms\\nx/y fixes axis, CTRL fixes aspect\", \"fa fa-arrows icon-move\", \"pan\"], [\"Zoom\", \"Zoom to rectangle\\nx/y fixes axis, CTRL fixes aspect\", \"fa fa-square-o icon-check-empty\", \"zoom\"], [\"\", \"\", \"\", \"\"], [\"Download\", \"Download plot\", \"fa fa-floppy-o icon-save\", \"download\"]];\n",
       "\n",
       "mpl.extensions = [\"eps\", \"jpeg\", \"pdf\", \"png\", \"ps\", \"raw\", \"svg\", \"tif\"];\n",
       "\n",
       "mpl.default_extension = \"png\";/* global mpl */\n",
       "\n",
       "var comm_websocket_adapter = function (comm) {\n",
       "    // Create a \"websocket\"-like object which calls the given IPython comm\n",
       "    // object with the appropriate methods. Currently this is a non binary\n",
       "    // socket, so there is still some room for performance tuning.\n",
       "    var ws = {};\n",
       "\n",
       "    ws.close = function () {\n",
       "        comm.close();\n",
       "    };\n",
       "    ws.send = function (m) {\n",
       "        //console.log('sending', m);\n",
       "        comm.send(m);\n",
       "    };\n",
       "    // Register the callback with on_msg.\n",
       "    comm.on_msg(function (msg) {\n",
       "        //console.log('receiving', msg['content']['data'], msg);\n",
       "        // Pass the mpl event to the overridden (by mpl) onmessage function.\n",
       "        ws.onmessage(msg['content']['data']);\n",
       "    });\n",
       "    return ws;\n",
       "};\n",
       "\n",
       "mpl.mpl_figure_comm = function (comm, msg) {\n",
       "    // This is the function which gets called when the mpl process\n",
       "    // starts-up an IPython Comm through the \"matplotlib\" channel.\n",
       "\n",
       "    var id = msg.content.data.id;\n",
       "    // Get hold of the div created by the display call when the Comm\n",
       "    // socket was opened in Python.\n",
       "    var element = document.getElementById(id);\n",
       "    var ws_proxy = comm_websocket_adapter(comm);\n",
       "\n",
       "    function ondownload(figure, _format) {\n",
       "        window.open(figure.canvas.toDataURL());\n",
       "    }\n",
       "\n",
       "    var fig = new mpl.figure(id, ws_proxy, ondownload, element);\n",
       "\n",
       "    // Call onopen now - mpl needs it, as it is assuming we've passed it a real\n",
       "    // web socket which is closed, not our websocket->open comm proxy.\n",
       "    ws_proxy.onopen();\n",
       "\n",
       "    fig.parent_element = element;\n",
       "    fig.cell_info = mpl.find_output_cell(\"<div id='\" + id + \"'></div>\");\n",
       "    if (!fig.cell_info) {\n",
       "        console.error('Failed to find cell for figure', id, fig);\n",
       "        return;\n",
       "    }\n",
       "    fig.cell_info[0].output_area.element.one(\n",
       "        'cleared',\n",
       "        { fig: fig },\n",
       "        fig._remove_fig_handler\n",
       "    );\n",
       "};\n",
       "\n",
       "mpl.figure.prototype.handle_close = function (fig, msg) {\n",
       "    var width = fig.canvas.width / fig.ratio;\n",
       "    fig.cell_info[0].output_area.element.off(\n",
       "        'cleared',\n",
       "        fig._remove_fig_handler\n",
       "    );\n",
       "\n",
       "    // Update the output cell to use the data from the current canvas.\n",
       "    fig.push_to_output();\n",
       "    var dataURL = fig.canvas.toDataURL();\n",
       "    // Re-enable the keyboard manager in IPython - without this line, in FF,\n",
       "    // the notebook keyboard shortcuts fail.\n",
       "    IPython.keyboard_manager.enable();\n",
       "    fig.parent_element.innerHTML =\n",
       "        '<img src=\"' + dataURL + '\" width=\"' + width + '\">';\n",
       "    fig.close_ws(fig, msg);\n",
       "};\n",
       "\n",
       "mpl.figure.prototype.close_ws = function (fig, msg) {\n",
       "    fig.send_message('closing', msg);\n",
       "    // fig.ws.close()\n",
       "};\n",
       "\n",
       "mpl.figure.prototype.push_to_output = function (_remove_interactive) {\n",
       "    // Turn the data on the canvas into data in the output cell.\n",
       "    var width = this.canvas.width / this.ratio;\n",
       "    var dataURL = this.canvas.toDataURL();\n",
       "    this.cell_info[1]['text/html'] =\n",
       "        '<img src=\"' + dataURL + '\" width=\"' + width + '\">';\n",
       "};\n",
       "\n",
       "mpl.figure.prototype.updated_canvas_event = function () {\n",
       "    // Tell IPython that the notebook contents must change.\n",
       "    IPython.notebook.set_dirty(true);\n",
       "    this.send_message('ack', {});\n",
       "    var fig = this;\n",
       "    // Wait a second, then push the new image to the DOM so\n",
       "    // that it is saved nicely (might be nice to debounce this).\n",
       "    setTimeout(function () {\n",
       "        fig.push_to_output();\n",
       "    }, 1000);\n",
       "};\n",
       "\n",
       "mpl.figure.prototype._init_toolbar = function () {\n",
       "    var fig = this;\n",
       "\n",
       "    var toolbar = document.createElement('div');\n",
       "    toolbar.classList = 'btn-toolbar';\n",
       "    this.root.appendChild(toolbar);\n",
       "\n",
       "    function on_click_closure(name) {\n",
       "        return function (_event) {\n",
       "            return fig.toolbar_button_onclick(name);\n",
       "        };\n",
       "    }\n",
       "\n",
       "    function on_mouseover_closure(tooltip) {\n",
       "        return function (event) {\n",
       "            if (!event.currentTarget.disabled) {\n",
       "                return fig.toolbar_button_onmouseover(tooltip);\n",
       "            }\n",
       "        };\n",
       "    }\n",
       "\n",
       "    fig.buttons = {};\n",
       "    var buttonGroup = document.createElement('div');\n",
       "    buttonGroup.classList = 'btn-group';\n",
       "    var button;\n",
       "    for (var toolbar_ind in mpl.toolbar_items) {\n",
       "        var name = mpl.toolbar_items[toolbar_ind][0];\n",
       "        var tooltip = mpl.toolbar_items[toolbar_ind][1];\n",
       "        var image = mpl.toolbar_items[toolbar_ind][2];\n",
       "        var method_name = mpl.toolbar_items[toolbar_ind][3];\n",
       "\n",
       "        if (!name) {\n",
       "            /* Instead of a spacer, we start a new button group. */\n",
       "            if (buttonGroup.hasChildNodes()) {\n",
       "                toolbar.appendChild(buttonGroup);\n",
       "            }\n",
       "            buttonGroup = document.createElement('div');\n",
       "            buttonGroup.classList = 'btn-group';\n",
       "            continue;\n",
       "        }\n",
       "\n",
       "        button = fig.buttons[name] = document.createElement('button');\n",
       "        button.classList = 'btn btn-default';\n",
       "        button.href = '#';\n",
       "        button.title = name;\n",
       "        button.innerHTML = '<i class=\"fa ' + image + ' fa-lg\"></i>';\n",
       "        button.addEventListener('click', on_click_closure(method_name));\n",
       "        button.addEventListener('mouseover', on_mouseover_closure(tooltip));\n",
       "        buttonGroup.appendChild(button);\n",
       "    }\n",
       "\n",
       "    if (buttonGroup.hasChildNodes()) {\n",
       "        toolbar.appendChild(buttonGroup);\n",
       "    }\n",
       "\n",
       "    // Add the status bar.\n",
       "    var status_bar = document.createElement('span');\n",
       "    status_bar.classList = 'mpl-message pull-right';\n",
       "    toolbar.appendChild(status_bar);\n",
       "    this.message = status_bar;\n",
       "\n",
       "    // Add the close button to the window.\n",
       "    var buttongrp = document.createElement('div');\n",
       "    buttongrp.classList = 'btn-group inline pull-right';\n",
       "    button = document.createElement('button');\n",
       "    button.classList = 'btn btn-mini btn-primary';\n",
       "    button.href = '#';\n",
       "    button.title = 'Stop Interaction';\n",
       "    button.innerHTML = '<i class=\"fa fa-power-off icon-remove icon-large\"></i>';\n",
       "    button.addEventListener('click', function (_evt) {\n",
       "        fig.handle_close(fig, {});\n",
       "    });\n",
       "    button.addEventListener(\n",
       "        'mouseover',\n",
       "        on_mouseover_closure('Stop Interaction')\n",
       "    );\n",
       "    buttongrp.appendChild(button);\n",
       "    var titlebar = this.root.querySelector('.ui-dialog-titlebar');\n",
       "    titlebar.insertBefore(buttongrp, titlebar.firstChild);\n",
       "};\n",
       "\n",
       "mpl.figure.prototype._remove_fig_handler = function (event) {\n",
       "    var fig = event.data.fig;\n",
       "    fig.close_ws(fig, {});\n",
       "};\n",
       "\n",
       "mpl.figure.prototype._root_extra_style = function (el) {\n",
       "    el.style.boxSizing = 'content-box'; // override notebook setting of border-box.\n",
       "};\n",
       "\n",
       "mpl.figure.prototype._canvas_extra_style = function (el) {\n",
       "    // this is important to make the div 'focusable\n",
       "    el.setAttribute('tabindex', 0);\n",
       "    // reach out to IPython and tell the keyboard manager to turn it's self\n",
       "    // off when our div gets focus\n",
       "\n",
       "    // location in version 3\n",
       "    if (IPython.notebook.keyboard_manager) {\n",
       "        IPython.notebook.keyboard_manager.register_events(el);\n",
       "    } else {\n",
       "        // location in version 2\n",
       "        IPython.keyboard_manager.register_events(el);\n",
       "    }\n",
       "};\n",
       "\n",
       "mpl.figure.prototype._key_event_extra = function (event, _name) {\n",
       "    var manager = IPython.notebook.keyboard_manager;\n",
       "    if (!manager) {\n",
       "        manager = IPython.keyboard_manager;\n",
       "    }\n",
       "\n",
       "    // Check for shift+enter\n",
       "    if (event.shiftKey && event.which === 13) {\n",
       "        this.canvas_div.blur();\n",
       "        // select the cell after this one\n",
       "        var index = IPython.notebook.find_cell_index(this.cell_info[0]);\n",
       "        IPython.notebook.select(index + 1);\n",
       "    }\n",
       "};\n",
       "\n",
       "mpl.figure.prototype.handle_save = function (fig, _msg) {\n",
       "    fig.ondownload(fig, null);\n",
       "};\n",
       "\n",
       "mpl.find_output_cell = function (html_output) {\n",
       "    // Return the cell and output element which can be found *uniquely* in the notebook.\n",
       "    // Note - this is a bit hacky, but it is done because the \"notebook_saving.Notebook\"\n",
       "    // IPython event is triggered only after the cells have been serialised, which for\n",
       "    // our purposes (turning an active figure into a static one), is too late.\n",
       "    var cells = IPython.notebook.get_cells();\n",
       "    var ncells = cells.length;\n",
       "    for (var i = 0; i < ncells; i++) {\n",
       "        var cell = cells[i];\n",
       "        if (cell.cell_type === 'code') {\n",
       "            for (var j = 0; j < cell.output_area.outputs.length; j++) {\n",
       "                var data = cell.output_area.outputs[j];\n",
       "                if (data.data) {\n",
       "                    // IPython >= 3 moved mimebundle to data attribute of output\n",
       "                    data = data.data;\n",
       "                }\n",
       "                if (data['text/html'] === html_output) {\n",
       "                    return [cell, data, j];\n",
       "                }\n",
       "            }\n",
       "        }\n",
       "    }\n",
       "};\n",
       "\n",
       "// Register the function which deals with the matplotlib target/channel.\n",
       "// The kernel may be null if the page has been refreshed.\n",
       "if (IPython.notebook.kernel !== null) {\n",
       "    IPython.notebook.kernel.comm_manager.register_target(\n",
       "        'matplotlib',\n",
       "        mpl.mpl_figure_comm\n",
       "    );\n",
       "}\n"
      ],
      "text/plain": [
       "<IPython.core.display.Javascript object>"
      ]
     },
     "metadata": {},
     "output_type": "display_data"
    },
    {
     "data": {
      "text/html": [
       "<img src=\"data:image/png;base64,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\" width=\"432\">"
      ],
      "text/plain": [
       "<IPython.core.display.HTML object>"
      ]
     },
     "metadata": {},
     "output_type": "display_data"
    },
    {
     "data": {
      "text/plain": [
       "Text(0, 0.5, 'L, solar lum')"
      ]
     },
     "execution_count": 43,
     "metadata": {},
     "output_type": "execute_result"
    }
   ],
   "source": [
    "%matplotlib inline\n",
    "xs = []\n",
    "ys = []\n",
    "lums = []\n",
    "for i in range(len(data[:, 3])):\n",
    "    if data[i, 3] > 4000 and data[i, 3] < 10000: #or data[i, 3] == 0:\n",
    "        xs.append(data[i,1])\n",
    "        ys.append(data[i,2])\n",
    "        lums.append(data[i,4]) \n",
    "\n",
    "plt.figure(figsize = (3,3))\n",
    "plt.plot(xs, ys, '.', c = 'darkslateblue')\n",
    "plt.show()\n",
    "\n",
    "##let's build the ghaph showing dependendence Luminosity - Radii:\n",
    "\n",
    "rho = []\n",
    "phi = []\n",
    "for i in range(len(xs)):\n",
    "    rhoi = np.sqrt(xs[i]**2 + ys[i]**2)\n",
    "    phii = np.arctan2(ys[i], xs[i])\n",
    "    rho.append(rhoi)\n",
    "    phi.append(phii)\n",
    "\n",
    "\n",
    "#creating tuples (r and m)\n",
    "okay = list(zip(rho,lums))\n",
    "for i in range(len(rho)):\n",
    "    okay[i] = list(okay[i])\n",
    "\n",
    "good = sorted(okay) #sorted by r\n",
    "\n",
    "    \n",
    "    \n",
    "lum_inside = []\n",
    "ars = []\n",
    "\n",
    "\n",
    "for r in range(len(rho)):\n",
    "    t = good[r]\n",
    "    ars.append(t[0]) #array of r\n",
    "    m_abs = t[1] + 5 - 5*np.log10(d*(10**6))\n",
    "    tempo = 10**(0.4 * (5.48 - m_abs))#L на окружности\n",
    "    if r!=0:\n",
    "        tempo += lum_inside[r-1] #L на окружности и внутри\n",
    "    lum_inside.append(tempo)\n",
    "\n",
    "plt.figure()\n",
    "plt.hist(ars)\n",
    "plt.xlabel(r'r, arcminutes')\n",
    "plt.ylabel(r'number of galaxies')\n",
    "plt.show()\n",
    "\n",
    "%matplotlib notebook\n",
    "plt.figure()\n",
    "plt.plot(ars, lum_inside)\n",
    "plt.xlabel(r'r, arcminutes')\n",
    "plt.ylabel(r'L, solar lum')\n",
    "\n",
    "\n",
    "\n",
    "pc = []\n",
    "for r in ars:\n",
    "    pcs = d * (r / (60*180) * np.pi)\n",
    "    pc.append(pcs)\n",
    "    \n",
    "    \n",
    "plt.figure()\n",
    "plt.plot(pc, lum_inside)\n",
    "plt.xlabel(r'r, Mpc')\n",
    "plt.ylabel(r'L, solar lum')"
   ]
  },
  {
   "cell_type": "markdown",
   "metadata": {},
   "source": [
    "Now calculate the virial mass of Coma (in solar masses)."
   ]
  },
  {
   "cell_type": "code",
   "execution_count": 44,
   "metadata": {},
   "outputs": [
    {
     "name": "stdout",
     "output_type": "stream",
     "text": [
      "965837163697243.9 roughly 1 *10^15\n"
     ]
    }
   ],
   "source": [
    "R_sup = 2*10**6#d * 10**6 * np.sin(100)\n",
    "#print(R_sup)\n",
    "G = 4.3 * 10**(-3)\n",
    "M = 3 * R_sup * (popt[2])**2 / G\n",
    "print(M, 'roughly', round(M/10**15), '*10^15')"
   ]
  },
  {
   "cell_type": "code",
   "execution_count": 101,
   "metadata": {},
   "outputs": [
    {
     "data": {
      "image/png": "[encoded data removed]",
      "text/plain": [
       "<Figure size 432x288 with 1 Axes>"
      ]
     },
     "metadata": {
      "needs_background": "light"
     },
     "output_type": "display_data"
    },
    {
     "data": {
      "image/png": "[encoded data removed]",
      "text/plain": [
       "<Figure size 432x288 with 1 Axes>"
      ]
     },
     "metadata": {
      "needs_background": "light"
     },
     "output_type": "display_data"
    }
   ],
   "source": [
    "galunit = []\n",
    "lumunit = []\n",
    "newpc = []\n",
    "for i in range(len(pc)):\n",
    "    if pc[i] >= 0.1:\n",
    "        newpc.append(pc[i])\n",
    "        galunit.append(i / (np.pi * pc[i]**2 ))\n",
    "        lumunit.append(lum_inside[i] / (np.pi * pc[i]**2 ))\n",
    "  \n",
    "\n",
    "\n",
    "\n",
    "%matplotlib inline\n",
    "plt. figure()\n",
    "plt.plot(newpc, galunit)\n",
    "plt.xlabel(r'r, Mpc')\n",
    "plt.ylabel(r'number of galaxies per unit area')\n",
    "plt.yscale('log')\n",
    "plt.xscale('log')\n",
    "plt.show()\n",
    "\n",
    "\n",
    "plt. figure()\n",
    "plt.plot(newpc, lumunit)\n",
    "plt.xlabel(r'r, Mpc')\n",
    "plt.ylabel(r'L, luminosity per unit area')\n",
    "plt.yscale('log')\n",
    "plt.xscale('log')\n",
    "plt.show()"
   ]
  },
  {
   "cell_type": "code",
   "execution_count": 102,
   "metadata": {},
   "outputs": [
    {
     "data": {
      "image/png": "[encoded data removed]",
      "text/plain": [
       "<Figure size 432x288 with 1 Axes>"
      ]
     },
     "metadata": {
      "needs_background": "light"
     },
     "output_type": "display_data"
    }
   ],
   "source": [
    "from astropy.modeling.models import Sersic1D\n",
    "\n",
    "\n",
    "plt.figure()\n",
    "plt.xscale('log')\n",
    "plt.yscale('log')\n",
    "sersic = Sersic1D(amplitude= 2.3 * 10**11, r_eff = 2.2 )\n",
    "r = newpc\n",
    "\n",
    "for n in range(2, 5):\n",
    "     sersic.n = n\n",
    "     plt.plot(r, sersic(r), color='teal' )\n",
    "\n",
    "    \n",
    "plt.xlabel(r'log Mpc Radius')\n",
    "plt.ylabel(r'log Surface Brightness')\n",
    "plt.plot(newpc, lumunit, color = 'darkslateblue')\n",
    "plt.show()"
   ]
  },
  {
   "cell_type": "code",
   "execution_count": null,
   "metadata": {},
   "outputs": [],
   "source": []
  }
 ],
 "metadata": {
  "kernelspec": {
   "display_name": "Python 3",
   "language": "python",
   "name": "python3"
  },
  "language_info": {
   "codemirror_mode": {
    "name": "ipython",
    "version": 3
   },
   "file_extension": ".py",
   "mimetype": "text/x-python",
   "name": "python",
   "nbconvert_exporter": "python",
   "pygments_lexer": "ipython3",
   "version": "3.8.5"
  }
 },
 "nbformat": 4,
 "nbformat_minor": 4
}
