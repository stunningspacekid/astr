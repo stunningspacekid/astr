{
 "cells": [
  {
   "cell_type": "code",
   "execution_count": 171,
   "metadata": {},
   "outputs": [],
   "source": [
    "import numpy as np\n",
    "import matplotlib.pyplot as plt\n",
    "import csv"
   ]
  },
  {
   "cell_type": "markdown",
   "metadata": {},
   "source": [
    "Make an x,y plot of the galaxy distribution. (make sure the axes on your plot have a square aspect ratio) See – it’s a cluster!"
   ]
  },
  {
   "cell_type": "code",
   "execution_count": 172,
   "metadata": {
    "scrolled": false
   },
   "outputs": [
    {
     "data": {
      "image/png": "[encoded data removed]",
      "text/plain": [
       "<Figure size 648x648 with 1 Axes>"
      ]
     },
     "metadata": {
      "needs_background": "light"
     },
     "output_type": "display_data"
    }
   ],
   "source": [
    "plt.figure(figsize = (9,9))\n",
    "\n",
    "data = np.loadtxt('coma.txt')\n",
    "\n",
    "plt.plot(data[:,1], data[:,2], '.', c = 'darkslateblue')\n",
    "plt.title('galaxy position in Coma cluster')\n",
    "plt.xlabel('x, arcminutes ')\n",
    "plt.ylabel('y, arcminutes ')\n",
    "plt.show()"
   ]
  },
  {
   "cell_type": "code",
   "execution_count": 173,
   "metadata": {},
   "outputs": [
    {
     "data": {
      "application/vnd.plotly.v1+json": {
       "config": {
        "plotlyServerURL": "https://plot.ly"
       },
       "data": [
        {
         "hovertemplate": "x=%{x}<br>y=%{y}<extra></extra>",
         "legendgroup": "",
         "marker": {
          "color": "#636efa",
          "symbol": "circle"
         },
         "mode": "markers",
         "name": "",
         "orientation": "v",
         "showlegend": false,
         "type": "scatter",
         "x": [
          -286.8,
          -271.1,
          -270,
          -270.2,
          -278.1,
          -270.7,
          -276.6,
          -277.1,
          -278.7,
          -275.4,
          -272.6,
          -275.5,
          -263.9,
          -275.3,
          -277.9,
          -267.9,
          -254.9,
          -267.6,
          -260.9,
          -256.7,
          -257.2,
          -249.8,
          -253.1,
          -252.4,
          -249.3,
          -242.9,
          -238.4,
          -250.6,
          -250.2,
          -248.7,
          -234.3,
          -251,
          -242.5,
          -228.1,
          -226.8,
          -231.3,
          -231.6,
          -232.1,
          -225.6,
          -214.2,
          -216.1,
          -216.6,
          -216.7,
          -203.9,
          -208.2,
          -210.2,
          -200.2,
          -208.7,
          -203.5,
          -206.8,
          -203.3,
          -190.1,
          -197.5,
          -188.3,
          -193.7,
          -191.4,
          -187.3,
          -179.5,
          -179,
          -178.8,
          -173.5,
          -176.6,
          -171.5,
          -172.7,
          -164.4,
          -167.8,
          -165.5,
          -159.7,
          -162.2,
          -160.8,
          -156.3,
          -149.4,
          -152.9,
          -147.5,
          -147.7,
          -141.5,
          -145.6,
          -142.5,
          -134.4,
          -140.6,
          -138.8,
          -130.4,
          -134.1,
          -135.8,
          -132,
          -129.9,
          -130.6,
          -129.2,
          -127.9,
          -122.8,
          -125.9,
          -121.7,
          -118.7,
          -120.1,
          -119.2,
          -117.3,
          -117.2,
          -112.1,
          -115.1,
          -107.8,
          -111.9,
          -110.6,
          -112.1,
          -108.8,
          -106.2,
          -106.4,
          -105.5,
          -105.5,
          -103.8,
          -104,
          -100.2,
          -99.45,
          -98.69,
          -96.72,
          -94.76,
          -88.91,
          -93.88,
          -90.97,
          -85.78,
          -85.52,
          -81.56,
          -81.48,
          -79.42,
          -81.92,
          -78.54,
          -79.99,
          -79.88,
          -78.17,
          -77.47,
          -76.99,
          -72.89,
          -73.38,
          -73.11,
          -70.74,
          -67.97,
          -68.28,
          -68.69,
          -63.77,
          -65.51,
          -63.69,
          -61.89,
          -61.8,
          -61.29,
          -61.09,
          -58.55,
          -52.79,
          -51.85,
          -51.41,
          -50.74,
          -48.86,
          -49.72,
          -48.17,
          -48.34,
          -48.04,
          -48.08,
          -47.38,
          -47.37,
          -46.65,
          -44.48,
          -44.76,
          -42.85,
          -43.43,
          -43.2,
          -42.32,
          -43.12,
          -41.16,
          -39.4,
          -39.86,
          -39.87,
          -38.87,
          -37.7,
          -35.56,
          -35.2,
          -34.36,
          -34.02,
          -34.42,
          -33.45,
          -33.62,
          -33.03,
          -33,
          -30.31,
          -31.64,
          -30.28,
          -30.15,
          -29.9,
          -29.08,
          -27.93,
          -26.35,
          -27.3,
          -27.32,
          -27.13,
          -26.75,
          -26.15,
          -26.38,
          -25.17,
          -23.91,
          -25.18,
          -24.98,
          -24.22,
          -24.36,
          -24.11,
          -23.1,
          -22.63,
          -22.66,
          -21.05,
          -20.8,
          -19.89,
          -19.81,
          -19.69,
          -19.41,
          -19.47,
          -17.7,
          -17.08,
          -16.09,
          -16.8,
          -16.76,
          -16.01,
          -15.14,
          -14,
          -14.06,
          -13.78,
          -13.74,
          -13.33,
          -13.12,
          -12.89,
          -12.61,
          -12.5,
          -12.46,
          -11.33,
          -11.28,
          -11.32,
          -11.13,
          -10.54,
          -10.86,
          -9.823,
          -9.44,
          -9.076,
          -7.86,
          -7.762,
          -7.593,
          -7.433,
          -7.101,
          -7.266,
          -6.988,
          -6.697,
          -6.326,
          -5.858,
          -5.466,
          -5.326,
          -5.266,
          -4.43,
          -3.898,
          -3.7,
          -3.853,
          -2.361,
          -1.854,
          -1.456,
          -1.409,
          -0.305,
          0,
          0.7906,
          0.7924,
          2.167,
          2.265,
          2.925,
          2.963,
          2.984,
          3.907,
          4.706,
          5.402,
          5.822,
          6.447,
          7.383,
          7.567,
          7.786,
          7.759,
          8.029,
          8.453,
          8.784,
          9.757,
          9.799,
          10.05,
          10.38,
          10.4,
          10.51,
          11.05,
          11.41,
          12.1,
          12.82,
          16.15,
          17.28,
          17.57,
          17.74,
          17.73,
          18.03,
          19.3,
          19.56,
          21.71,
          22.63,
          23.37,
          23.8,
          24.17,
          24.96,
          25.56,
          26.22,
          27.3,
          27.35,
          28.29,
          30.21,
          30.65,
          33.96,
          34.43,
          35.29,
          37.18,
          37.95,
          38.93,
          40.48,
          40.72,
          42.33,
          42.62,
          40.8,
          45.65,
          48.64,
          50.13,
          49.7,
          49.96,
          54.13,
          54.76,
          55.49,
          56.66,
          56.71,
          58.1,
          58.18,
          60.05,
          58.82,
          64.29,
          68.2,
          69.86,
          69.88,
          65.99,
          67.29,
          70.05,
          71.98,
          75.93,
          77.56,
          79.3,
          83.46,
          81.55,
          82.21,
          86.93,
          86.61,
          86.26,
          86.27,
          90.19,
          94.59,
          98.78,
          100.4,
          95.71,
          103.7,
          105.8,
          103.3,
          103.9,
          106.8,
          106.4,
          108.5,
          110.7,
          114.9,
          109.4,
          116.8,
          116.1,
          116.9,
          117.8,
          120.3,
          127.7,
          132.8,
          129.3,
          128.9,
          128.9,
          130.2,
          131.7,
          146.8,
          139.8,
          142.9,
          143,
          147.8,
          164.5,
          160.6,
          162.9,
          161.8,
          162.3,
          172.4,
          165.6,
          171.7,
          172.1,
          177.2,
          177.5,
          175.3,
          185.7,
          185.3,
          186.8,
          189.8,
          197.9,
          204.1,
          206.3,
          195.1,
          206.7,
          202.2,
          200.5,
          214.3,
          207.8,
          219.4,
          210,
          210.1,
          210.9,
          227.3,
          213.2,
          214.5,
          214.7,
          221.2,
          222.3,
          224.2,
          235,
          238.5,
          235.2,
          235,
          236.7,
          239,
          238,
          248.3,
          244.1,
          251.2,
          260.8,
          244.5,
          251.3,
          253.9,
          250.2,
          254.3,
          257.9,
          262.9,
          260.2,
          254.1,
          259.7,
          260,
          259.7,
          279,
          263,
          261.7,
          260.3,
          266.6,
          264.6
         ],
         "xaxis": "x",
         "y": [
          57.29,
          233.9,
          246.6,
          240.2,
          19.96,
          145.5,
          1.398,
          -14.33,
          -78.25,
          -4.41,
          55.32,
          -12.52,
          240.5,
          -52.78,
          -138.3,
          -53.55,
          191.7,
          -184.7,
          -87.37,
          -25.06,
          -75.26,
          88.99,
          -0.0583,
          -74.8,
          -7.763,
          128.3,
          210,
          -113.6,
          -116.4,
          -114.6,
          240.6,
          -268.3,
          -60.71,
          275.5,
          273.4,
          -51.92,
          -80.59,
          -211.9,
          -16.12,
          270.5,
          186.1,
          89.02,
          -67.19,
          251.4,
          116,
          55.07,
          257.9,
          -47.43,
          29.33,
          -93.82,
          -5.517,
          187.2,
          -51.5,
          158.5,
          -55.36,
          8.168,
          86.99,
          200.8,
          165,
          164.3,
          105.1,
          -85.17,
          -11.45,
          -76.24,
          108.2,
          -31.57,
          -60.15,
          125.6,
          -45.71,
          -80.3,
          -67.58,
          134.6,
          -94.01,
          -48.34,
          -65.47,
          176.5,
          -36.94,
          -150.9,
          171.7,
          -132.7,
          -65.56,
          245.8,
          -9.735,
          -177.8,
          -72.51,
          -39.65,
          -149,
          -76.55,
          -33.01,
          171.7,
          -33.61,
          -8.58,
          56.6,
          -36.91,
          -10.8,
          48.21,
          -52.74,
          184.5,
          -33.83,
          202.1,
          -21.23,
          -1.347,
          -132.4,
          -109.6,
          -23.34,
          -57.56,
          -30.49,
          -66.67,
          -27.14,
          -54,
          -74.13,
          -97.19,
          -90.9,
          -35.01,
          23.14,
          247.3,
          -162.4,
          -53.46,
          -22.25,
          -12.09,
          96.17,
          59.63,
          187.3,
          -92.51,
          97.07,
          -55.03,
          -50.2,
          6.387,
          -40.93,
          -55.07,
          23.46,
          -21.19,
          -63.07,
          57.17,
          153.6,
          25.85,
          -34.39,
          151.6,
          -14.07,
          95.53,
          28.91,
          -11.31,
          -19.81,
          -27.89,
          -44.14,
          -18.52,
          -8.538,
          -14.47,
          -97.65,
          109.3,
          -14.12,
          -9.348,
          -59.94,
          -41.72,
          -61.78,
          -2.8,
          -55.86,
          -26.86,
          2.032,
          -48.47,
          163.9,
          -53.57,
          -65.27,
          56.59,
          -89.95,
          38.21,
          267.7,
          163.8,
          64.56,
          -31.22,
          63.51,
          -29.34,
          -26.44,
          11.37,
          12.08,
          -88.49,
          29.4,
          -22.59,
          29.72,
          -29.61,
          274.1,
          -68.08,
          197.3,
          -6.225,
          11.61,
          100.1,
          4.462,
          191.2,
          -29.84,
          -67.65,
          -64.26,
          -10.29,
          15.36,
          -218.3,
          43.29,
          241.8,
          -95.42,
          -93.61,
          57.68,
          11.74,
          8.33,
          68.51,
          9.7,
          -1.158,
          97.53,
          1.663,
          -43.35,
          -23.45,
          -52.97,
          7.597,
          -48.66,
          55.39,
          -18.76,
          252.3,
          -10.57,
          -10.61,
          -12.15,
          -9.227,
          196.2,
          -70.3,
          14.29,
          7.705,
          8.187,
          -20.58,
          0.5651,
          -13.17,
          -7.945,
          -12.19,
          -0.635,
          -12.77,
          -35.09,
          5.353,
          186.1,
          -1.002,
          5.822,
          122.2,
          -4.55,
          3.187,
          -8.237,
          -1.868,
          -6.195,
          200.9,
          3.53,
          -0.23,
          -2.433,
          -1.622,
          -4.797,
          54.5,
          56.35,
          38.63,
          -4.495,
          -0.8167,
          243.5,
          -16.63,
          201.9,
          2.836,
          15.56,
          -47.29,
          -65.37,
          0,
          -0.6583,
          5.458,
          50.45,
          3.217,
          -36.02,
          -1.925,
          12.9,
          3.558,
          52.81,
          -78.74,
          21.52,
          -20.98,
          4.193,
          1.61,
          -3.817,
          61.91,
          0.5349,
          -0.9834,
          20.97,
          6.178,
          10.24,
          -34.9,
          3.333,
          3.283,
          22.69,
          1.187,
          -11.83,
          -5.275,
          74.92,
          -10.72,
          12.5,
          79.21,
          41.36,
          79.52,
          -6.108,
          -8.425,
          68.56,
          63.4,
          6.417,
          -5.66,
          59.85,
          -21.81,
          1.075,
          -12.32,
          75.93,
          -20.38,
          23.94,
          13.61,
          14.56,
          60.15,
          7.565,
          22.98,
          3.427,
          -7.305,
          4.952,
          2.64,
          -87.43,
          35.71,
          2.518,
          -39.34,
          284,
          -86.3,
          5.738,
          -113.9,
          11.83,
          -0.0116,
          15.54,
          12.29,
          62.47,
          49.32,
          51.61,
          -41.05,
          -41.06,
          -264.8,
          -79.01,
          67.98,
          -25.16,
          -121.8,
          -121.9,
          240.6,
          207.2,
          78.45,
          68.54,
          -15.31,
          77.37,
          36.21,
          -151.7,
          64.42,
          100.1,
          -49.26,
          -6.993,
          51.48,
          51.53,
          33.5,
          3.433,
          -76.01,
          -29.43,
          287.1,
          -190.8,
          -262.2,
          -39.27,
          43.22,
          -112.2,
          -73.48,
          -28.44,
          19.82,
          -197.4,
          165.5,
          11.61,
          63.02,
          44.59,
          3.847,
          82.61,
          54.93,
          -204.8,
          23.52,
          122.9,
          123,
          269.5,
          207.2,
          -274.7,
          103.1,
          98.73,
          95.23,
          211,
          -233.8,
          -39.67,
          32.76,
          229.1,
          229.3,
          -51.04,
          196,
          154,
          139.7,
          -13.73,
          -11.38,
          122.4,
          -180.6,
          149.5,
          162.8,
          120.3,
          -59.07,
          -202.4,
          -262.2,
          144.7,
          -224.4,
          101,
          231.2,
          -153.2,
          177.4,
          -155.3,
          136.3,
          161.1,
          182.3,
          -215,
          202.4,
          218.2,
          215.3,
          153,
          183.9,
          185.9,
          -25.44,
          45.46,
          208.5,
          227,
          200.6,
          172.3,
          212.9,
          -15.7,
          167.2,
          -6.148,
          -262.1,
          189.2,
          30.76,
          135.7,
          246.2,
          169.9,
          127.5,
          15.14,
          85.96,
          239.2,
          179.6,
          174.3,
          211.2,
          -247.8,
          156.5,
          201.4,
          240.5,
          202.3,
          251.7
         ],
         "yaxis": "y"
        }
       ],
       "layout": {
        "autosize": false,
        "height": 500,
        "legend": {
         "tracegroupgap": 0
        },
        "margin": {
         "t": 60
        },
        "template": {
         "data": {
          "bar": [
           {
            "error_x": {
             "color": "#2a3f5f"
            },
            "error_y": {
             "color": "#2a3f5f"
            },
            "marker": {
             "line": {
              "color": "#E5ECF6",
              "width": 0.5
             }
            },
            "type": "bar"
           }
          ],
          "barpolar": [
           {
            "marker": {
             "line": {
              "color": "#E5ECF6",
              "width": 0.5
             }
            },
            "type": "barpolar"
           }
          ],
          "carpet": [
           {
            "aaxis": {
             "endlinecolor": "#2a3f5f",
             "gridcolor": "white",
             "linecolor": "white",
             "minorgridcolor": "white",
             "startlinecolor": "#2a3f5f"
            },
            "baxis": {
             "endlinecolor": "#2a3f5f",
             "gridcolor": "white",
             "linecolor": "white",
             "minorgridcolor": "white",
             "startlinecolor": "#2a3f5f"
            },
            "type": "carpet"
           }
          ],
          "choropleth": [
           {
            "colorbar": {
             "outlinewidth": 0,
             "ticks": ""
            },
            "type": "choropleth"
           }
          ],
          "contour": [
           {
            "colorbar": {
             "outlinewidth": 0,
             "ticks": ""
            },
            "colorscale": [
             [
              0,
              "#0d0887"
             ],
             [
              0.1111111111111111,
              "#46039f"
             ],
             [
              0.2222222222222222,
              "#7201a8"
             ],
             [
              0.3333333333333333,
              "#9c179e"
             ],
             [
              0.4444444444444444,
              "#bd3786"
             ],
             [
              0.5555555555555556,
              "#d8576b"
             ],
             [
              0.6666666666666666,
              "#ed7953"
             ],
             [
              0.7777777777777778,
              "#fb9f3a"
             ],
             [
              0.8888888888888888,
              "#fdca26"
             ],
             [
              1,
              "#f0f921"
             ]
            ],
            "type": "contour"
           }
          ],
          "contourcarpet": [
           {
            "colorbar": {
             "outlinewidth": 0,
             "ticks": ""
            },
            "type": "contourcarpet"
           }
          ],
          "heatmap": [
           {
            "colorbar": {
             "outlinewidth": 0,
             "ticks": ""
            },
            "colorscale": [
             [
              0,
              "#0d0887"
             ],
             [
              0.1111111111111111,
              "#46039f"
             ],
             [
              0.2222222222222222,
              "#7201a8"
             ],
             [
              0.3333333333333333,
              "#9c179e"
             ],
             [
              0.4444444444444444,
              "#bd3786"
             ],
             [
              0.5555555555555556,
              "#d8576b"
             ],
             [
              0.6666666666666666,
              "#ed7953"
             ],
             [
              0.7777777777777778,
              "#fb9f3a"
             ],
             [
              0.8888888888888888,
              "#fdca26"
             ],
             [
              1,
              "#f0f921"
             ]
            ],
            "type": "heatmap"
           }
          ],
          "heatmapgl": [
           {
            "colorbar": {
             "outlinewidth": 0,
             "ticks": ""
            },
            "colorscale": [
             [
              0,
              "#0d0887"
             ],
             [
              0.1111111111111111,
              "#46039f"
             ],
             [
              0.2222222222222222,
              "#7201a8"
             ],
             [
              0.3333333333333333,
              "#9c179e"
             ],
             [
              0.4444444444444444,
              "#bd3786"
             ],
             [
              0.5555555555555556,
              "#d8576b"
             ],
             [
              0.6666666666666666,
              "#ed7953"
             ],
             [
              0.7777777777777778,
              "#fb9f3a"
             ],
             [
              0.8888888888888888,
              "#fdca26"
             ],
             [
              1,
              "#f0f921"
             ]
            ],
            "type": "heatmapgl"
           }
          ],
          "histogram": [
           {
            "marker": {
             "colorbar": {
              "outlinewidth": 0,
              "ticks": ""
             }
            },
            "type": "histogram"
           }
          ],
          "histogram2d": [
           {
            "colorbar": {
             "outlinewidth": 0,
             "ticks": ""
            },
            "colorscale": [
             [
              0,
              "#0d0887"
             ],
             [
              0.1111111111111111,
              "#46039f"
             ],
             [
              0.2222222222222222,
              "#7201a8"
             ],
             [
              0.3333333333333333,
              "#9c179e"
             ],
             [
              0.4444444444444444,
              "#bd3786"
             ],
             [
              0.5555555555555556,
              "#d8576b"
             ],
             [
              0.6666666666666666,
              "#ed7953"
             ],
             [
              0.7777777777777778,
              "#fb9f3a"
             ],
             [
              0.8888888888888888,
              "#fdca26"
             ],
             [
              1,
              "#f0f921"
             ]
            ],
            "type": "histogram2d"
           }
          ],
          "histogram2dcontour": [
           {
            "colorbar": {
             "outlinewidth": 0,
             "ticks": ""
            },
            "colorscale": [
             [
              0,
              "#0d0887"
             ],
             [
              0.1111111111111111,
              "#46039f"
             ],
             [
              0.2222222222222222,
              "#7201a8"
             ],
             [
              0.3333333333333333,
              "#9c179e"
             ],
             [
              0.4444444444444444,
              "#bd3786"
             ],
             [
              0.5555555555555556,
              "#d8576b"
             ],
             [
              0.6666666666666666,
              "#ed7953"
             ],
             [
              0.7777777777777778,
              "#fb9f3a"
             ],
             [
              0.8888888888888888,
              "#fdca26"
             ],
             [
              1,
              "#f0f921"
             ]
            ],
            "type": "histogram2dcontour"
           }
          ],
          "mesh3d": [
           {
            "colorbar": {
             "outlinewidth": 0,
             "ticks": ""
            },
            "type": "mesh3d"
           }
          ],
          "parcoords": [
           {
            "line": {
             "colorbar": {
              "outlinewidth": 0,
              "ticks": ""
             }
            },
            "type": "parcoords"
           }
          ],
          "pie": [
           {
            "automargin": true,
            "type": "pie"
           }
          ],
          "scatter": [
           {
            "marker": {
             "colorbar": {
              "outlinewidth": 0,
              "ticks": ""
             }
            },
            "type": "scatter"
           }
          ],
          "scatter3d": [
           {
            "line": {
             "colorbar": {
              "outlinewidth": 0,
              "ticks": ""
             }
            },
            "marker": {
             "colorbar": {
              "outlinewidth": 0,
              "ticks": ""
             }
            },
            "type": "scatter3d"
           }
          ],
          "scattercarpet": [
           {
            "marker": {
             "colorbar": {
              "outlinewidth": 0,
              "ticks": ""
             }
            },
            "type": "scattercarpet"
           }
          ],
          "scattergeo": [
           {
            "marker": {
             "colorbar": {
              "outlinewidth": 0,
              "ticks": ""
             }
            },
            "type": "scattergeo"
           }
          ],
          "scattergl": [
           {
            "marker": {
             "colorbar": {
              "outlinewidth": 0,
              "ticks": ""
             }
            },
            "type": "scattergl"
           }
          ],
          "scattermapbox": [
           {
            "marker": {
             "colorbar": {
              "outlinewidth": 0,
              "ticks": ""
             }
            },
            "type": "scattermapbox"
           }
          ],
          "scatterpolar": [
           {
            "marker": {
             "colorbar": {
              "outlinewidth": 0,
              "ticks": ""
             }
            },
            "type": "scatterpolar"
           }
          ],
          "scatterpolargl": [
           {
            "marker": {
             "colorbar": {
              "outlinewidth": 0,
              "ticks": ""
             }
            },
            "type": "scatterpolargl"
           }
          ],
          "scatterternary": [
           {
            "marker": {
             "colorbar": {
              "outlinewidth": 0,
              "ticks": ""
             }
            },
            "type": "scatterternary"
           }
          ],
          "surface": [
           {
            "colorbar": {
             "outlinewidth": 0,
             "ticks": ""
            },
            "colorscale": [
             [
              0,
              "#0d0887"
             ],
             [
              0.1111111111111111,
              "#46039f"
             ],
             [
              0.2222222222222222,
              "#7201a8"
             ],
             [
              0.3333333333333333,
              "#9c179e"
             ],
             [
              0.4444444444444444,
              "#bd3786"
             ],
             [
              0.5555555555555556,
              "#d8576b"
             ],
             [
              0.6666666666666666,
              "#ed7953"
             ],
             [
              0.7777777777777778,
              "#fb9f3a"
             ],
             [
              0.8888888888888888,
              "#fdca26"
             ],
             [
              1,
              "#f0f921"
             ]
            ],
            "type": "surface"
           }
          ],
          "table": [
           {
            "cells": {
             "fill": {
              "color": "#EBF0F8"
             },
             "line": {
              "color": "white"
             }
            },
            "header": {
             "fill": {
              "color": "#C8D4E3"
             },
             "line": {
              "color": "white"
             }
            },
            "type": "table"
           }
          ]
         },
         "layout": {
          "annotationdefaults": {
           "arrowcolor": "#2a3f5f",
           "arrowhead": 0,
           "arrowwidth": 1
          },
          "autotypenumbers": "strict",
          "coloraxis": {
           "colorbar": {
            "outlinewidth": 0,
            "ticks": ""
           }
          },
          "colorscale": {
           "diverging": [
            [
             0,
             "#8e0152"
            ],
            [
             0.1,
             "#c51b7d"
            ],
            [
             0.2,
             "#de77ae"
            ],
            [
             0.3,
             "#f1b6da"
            ],
            [
             0.4,
             "#fde0ef"
            ],
            [
             0.5,
             "#f7f7f7"
            ],
            [
             0.6,
             "#e6f5d0"
            ],
            [
             0.7,
             "#b8e186"
            ],
            [
             0.8,
             "#7fbc41"
            ],
            [
             0.9,
             "#4d9221"
            ],
            [
             1,
             "#276419"
            ]
           ],
           "sequential": [
            [
             0,
             "#0d0887"
            ],
            [
             0.1111111111111111,
             "#46039f"
            ],
            [
             0.2222222222222222,
             "#7201a8"
            ],
            [
             0.3333333333333333,
             "#9c179e"
            ],
            [
             0.4444444444444444,
             "#bd3786"
            ],
            [
             0.5555555555555556,
             "#d8576b"
            ],
            [
             0.6666666666666666,
             "#ed7953"
            ],
            [
             0.7777777777777778,
             "#fb9f3a"
            ],
            [
             0.8888888888888888,
             "#fdca26"
            ],
            [
             1,
             "#f0f921"
            ]
           ],
           "sequentialminus": [
            [
             0,
             "#0d0887"
            ],
            [
             0.1111111111111111,
             "#46039f"
            ],
            [
             0.2222222222222222,
             "#7201a8"
            ],
            [
             0.3333333333333333,
             "#9c179e"
            ],
            [
             0.4444444444444444,
             "#bd3786"
            ],
            [
             0.5555555555555556,
             "#d8576b"
            ],
            [
             0.6666666666666666,
             "#ed7953"
            ],
            [
             0.7777777777777778,
             "#fb9f3a"
            ],
            [
             0.8888888888888888,
             "#fdca26"
            ],
            [
             1,
             "#f0f921"
            ]
           ]
          },
          "colorway": [
           "#636efa",
           "#EF553B",
           "#00cc96",
           "#ab63fa",
           "#FFA15A",
           "#19d3f3",
           "#FF6692",
           "#B6E880",
           "#FF97FF",
           "#FECB52"
          ],
          "font": {
           "color": "#2a3f5f"
          },
          "geo": {
           "bgcolor": "white",
           "lakecolor": "white",
           "landcolor": "#E5ECF6",
           "showlakes": true,
           "showland": true,
           "subunitcolor": "white"
          },
          "hoverlabel": {
           "align": "left"
          },
          "hovermode": "closest",
          "mapbox": {
           "style": "light"
          },
          "paper_bgcolor": "white",
          "plot_bgcolor": "#E5ECF6",
          "polar": {
           "angularaxis": {
            "gridcolor": "white",
            "linecolor": "white",
            "ticks": ""
           },
           "bgcolor": "#E5ECF6",
           "radialaxis": {
            "gridcolor": "white",
            "linecolor": "white",
            "ticks": ""
           }
          },
          "scene": {
           "xaxis": {
            "backgroundcolor": "#E5ECF6",
            "gridcolor": "white",
            "gridwidth": 2,
            "linecolor": "white",
            "showbackground": true,
            "ticks": "",
            "zerolinecolor": "white"
           },
           "yaxis": {
            "backgroundcolor": "#E5ECF6",
            "gridcolor": "white",
            "gridwidth": 2,
            "linecolor": "white",
            "showbackground": true,
            "ticks": "",
            "zerolinecolor": "white"
           },
           "zaxis": {
            "backgroundcolor": "#E5ECF6",
            "gridcolor": "white",
            "gridwidth": 2,
            "linecolor": "white",
            "showbackground": true,
            "ticks": "",
            "zerolinecolor": "white"
           }
          },
          "shapedefaults": {
           "line": {
            "color": "#2a3f5f"
           }
          },
          "ternary": {
           "aaxis": {
            "gridcolor": "white",
            "linecolor": "white",
            "ticks": ""
           },
           "baxis": {
            "gridcolor": "white",
            "linecolor": "white",
            "ticks": ""
           },
           "bgcolor": "#E5ECF6",
           "caxis": {
            "gridcolor": "white",
            "linecolor": "white",
            "ticks": ""
           }
          },
          "title": {
           "x": 0.05
          },
          "xaxis": {
           "automargin": true,
           "gridcolor": "white",
           "linecolor": "white",
           "ticks": "",
           "title": {
            "standoff": 15
           },
           "zerolinecolor": "white",
           "zerolinewidth": 2
          },
          "yaxis": {
           "automargin": true,
           "gridcolor": "white",
           "linecolor": "white",
           "ticks": "",
           "title": {
            "standoff": 15
           },
           "zerolinecolor": "white",
           "zerolinewidth": 2
          }
         }
        },
        "width": 500,
        "xaxis": {
         "anchor": "y",
         "domain": [
          0,
          1
         ],
         "range": [
          -300,
          300
         ],
         "title": {
          "text": "x"
         }
        },
        "yaxis": {
         "anchor": "x",
         "domain": [
          0,
          1
         ],
         "range": [
          -300,
          300
         ],
         "title": {
          "text": "y"
         }
        }
       }
      },
      "text/html": [
       "<div>                            <div id=\"58e7f4f0-1e61-44b0-a79a-ede1fd1c9b29\" class=\"plotly-graph-div\" style=\"height:500px; width:500px;\"></div>            <script type=\"text/javascript\">                require([\"plotly\"], function(Plotly) {                    window.PLOTLYENV=window.PLOTLYENV || {};                                    if (document.getElementById(\"58e7f4f0-1e61-44b0-a79a-ede1fd1c9b29\")) {                    Plotly.newPlot(                        \"58e7f4f0-1e61-44b0-a79a-ede1fd1c9b29\",                        [{\"hovertemplate\": \"x=%{x}<br>y=%{y}<extra></extra>\", \"legendgroup\": \"\", \"marker\": {\"color\": \"#636efa\", \"symbol\": \"circle\"}, \"mode\": \"markers\", \"name\": \"\", \"orientation\": \"v\", \"showlegend\": false, \"type\": \"scatter\", \"x\": [-286.8, -271.1, -270.0, -270.2, -278.1, -270.7, -276.6, -277.1, -278.7, -275.4, -272.6, -275.5, -263.9, -275.3, -277.9, -267.9, -254.9, -267.6, -260.9, -256.7, -257.2, -249.8, -253.1, -252.4, -249.3, -242.9, -238.4, -250.6, -250.2, -248.7, -234.3, -251.0, -242.5, -228.1, -226.8, -231.3, -231.6, -232.1, -225.6, -214.2, -216.1, -216.6, -216.7, -203.9, -208.2, -210.2, -200.2, -208.7, -203.5, -206.8, -203.3, -190.1, -197.5, -188.3, -193.7, -191.4, -187.3, -179.5, -179.0, -178.8, -173.5, -176.6, -171.5, -172.7, -164.4, -167.8, -165.5, -159.7, -162.2, -160.8, -156.3, -149.4, -152.9, -147.5, -147.7, -141.5, -145.6, -142.5, -134.4, -140.6, -138.8, -130.4, -134.1, -135.8, -132.0, -129.9, -130.6, -129.2, -127.9, -122.8, -125.9, -121.7, -118.7, -120.1, -119.2, -117.3, -117.2, -112.1, -115.1, -107.8, -111.9, -110.6, -112.1, -108.8, -106.2, -106.4, -105.5, -105.5, -103.8, -104.0, -100.2, -99.45, -98.69, -96.72, -94.76, -88.91, -93.88, -90.97, -85.78, -85.52, -81.56, -81.48, -79.42, -81.92, -78.54, -79.99, -79.88, -78.17, -77.47, -76.99, -72.89, -73.38, -73.11, -70.74, -67.97, -68.28, -68.69, -63.77, -65.51, -63.69, -61.89, -61.8, -61.29, -61.09, -58.55, -52.79, -51.85, -51.41, -50.74, -48.86, -49.72, -48.17, -48.34, -48.04, -48.08, -47.38, -47.37, -46.65, -44.48, -44.76, -42.85, -43.43, -43.2, -42.32, -43.12, -41.16, -39.4, -39.86, -39.87, -38.87, -37.7, -35.56, -35.2, -34.36, -34.02, -34.42, -33.45, -33.62, -33.03, -33.0, -30.31, -31.64, -30.28, -30.15, -29.9, -29.08, -27.93, -26.35, -27.3, -27.32, -27.13, -26.75, -26.15, -26.38, -25.17, -23.91, -25.18, -24.98, -24.22, -24.36, -24.11, -23.1, -22.63, -22.66, -21.05, -20.8, -19.89, -19.81, -19.69, -19.41, -19.47, -17.7, -17.08, -16.09, -16.8, -16.76, -16.01, -15.14, -14.0, -14.06, -13.78, -13.74, -13.33, -13.12, -12.89, -12.61, -12.5, -12.46, -11.33, -11.28, -11.32, -11.13, -10.54, -10.86, -9.823, -9.44, -9.076, -7.86, -7.762, -7.593, -7.433, -7.101, -7.266, -6.988, -6.697, -6.326, -5.858, -5.466, -5.326, -5.266, -4.43, -3.898, -3.7, -3.853, -2.361, -1.854, -1.456, -1.409, -0.305, 0.0, 0.7906, 0.7924, 2.167, 2.265, 2.925, 2.963, 2.984, 3.907, 4.706, 5.402, 5.822, 6.447, 7.383, 7.567, 7.786, 7.759, 8.029, 8.453, 8.784, 9.757, 9.799, 10.05, 10.38, 10.4, 10.51, 11.05, 11.41, 12.1, 12.82, 16.15, 17.28, 17.57, 17.74, 17.73, 18.03, 19.3, 19.56, 21.71, 22.63, 23.37, 23.8, 24.17, 24.96, 25.56, 26.22, 27.3, 27.35, 28.29, 30.21, 30.65, 33.96, 34.43, 35.29, 37.18, 37.95, 38.93, 40.48, 40.72, 42.33, 42.62, 40.8, 45.65, 48.64, 50.13, 49.7, 49.96, 54.13, 54.76, 55.49, 56.66, 56.71, 58.1, 58.18, 60.05, 58.82, 64.29, 68.2, 69.86, 69.88, 65.99, 67.29, 70.05, 71.98, 75.93, 77.56, 79.3, 83.46, 81.55, 82.21, 86.93, 86.61, 86.26, 86.27, 90.19, 94.59, 98.78, 100.4, 95.71, 103.7, 105.8, 103.3, 103.9, 106.8, 106.4, 108.5, 110.7, 114.9, 109.4, 116.8, 116.1, 116.9, 117.8, 120.3, 127.7, 132.8, 129.3, 128.9, 128.9, 130.2, 131.7, 146.8, 139.8, 142.9, 143.0, 147.8, 164.5, 160.6, 162.9, 161.8, 162.3, 172.4, 165.6, 171.7, 172.1, 177.2, 177.5, 175.3, 185.7, 185.3, 186.8, 189.8, 197.9, 204.1, 206.3, 195.1, 206.7, 202.2, 200.5, 214.3, 207.8, 219.4, 210.0, 210.1, 210.9, 227.3, 213.2, 214.5, 214.7, 221.2, 222.3, 224.2, 235.0, 238.5, 235.2, 235.0, 236.7, 239.0, 238.0, 248.3, 244.1, 251.2, 260.8, 244.5, 251.3, 253.9, 250.2, 254.3, 257.9, 262.9, 260.2, 254.1, 259.7, 260.0, 259.7, 279.0, 263.0, 261.7, 260.3, 266.6, 264.6], \"xaxis\": \"x\", \"y\": [57.29, 233.9, 246.6, 240.2, 19.96, 145.5, 1.398, -14.33, -78.25, -4.41, 55.32, -12.52, 240.5, -52.78, -138.3, -53.55, 191.7, -184.7, -87.37, -25.06, -75.26, 88.99, -0.0583, -74.8, -7.763, 128.3, 210.0, -113.6, -116.4, -114.6, 240.6, -268.3, -60.71, 275.5, 273.4, -51.92, -80.59, -211.9, -16.12, 270.5, 186.1, 89.02, -67.19, 251.4, 116.0, 55.07, 257.9, -47.43, 29.33, -93.82, -5.517, 187.2, -51.5, 158.5, -55.36, 8.168, 86.99, 200.8, 165.0, 164.3, 105.1, -85.17, -11.45, -76.24, 108.2, -31.57, -60.15, 125.6, -45.71, -80.3, -67.58, 134.6, -94.01, -48.34, -65.47, 176.5, -36.94, -150.9, 171.7, -132.7, -65.56, 245.8, -9.735, -177.8, -72.51, -39.65, -149.0, -76.55, -33.01, 171.7, -33.61, -8.58, 56.6, -36.91, -10.8, 48.21, -52.74, 184.5, -33.83, 202.1, -21.23, -1.347, -132.4, -109.6, -23.34, -57.56, -30.49, -66.67, -27.14, -54.0, -74.13, -97.19, -90.9, -35.01, 23.14, 247.3, -162.4, -53.46, -22.25, -12.09, 96.17, 59.63, 187.3, -92.51, 97.07, -55.03, -50.2, 6.387, -40.93, -55.07, 23.46, -21.19, -63.07, 57.17, 153.6, 25.85, -34.39, 151.6, -14.07, 95.53, 28.91, -11.31, -19.81, -27.89, -44.14, -18.52, -8.538, -14.47, -97.65, 109.3, -14.12, -9.348, -59.94, -41.72, -61.78, -2.8, -55.86, -26.86, 2.032, -48.47, 163.9, -53.57, -65.27, 56.59, -89.95, 38.21, 267.7, 163.8, 64.56, -31.22, 63.51, -29.34, -26.44, 11.37, 12.08, -88.49, 29.4, -22.59, 29.72, -29.61, 274.1, -68.08, 197.3, -6.225, 11.61, 100.1, 4.462, 191.2, -29.84, -67.65, -64.26, -10.29, 15.36, -218.3, 43.29, 241.8, -95.42, -93.61, 57.68, 11.74, 8.33, 68.51, 9.7, -1.158, 97.53, 1.663, -43.35, -23.45, -52.97, 7.597, -48.66, 55.39, -18.76, 252.3, -10.57, -10.61, -12.15, -9.227, 196.2, -70.3, 14.29, 7.705, 8.187, -20.58, 0.5651, -13.17, -7.945, -12.19, -0.635, -12.77, -35.09, 5.353, 186.1, -1.002, 5.822, 122.2, -4.55, 3.187, -8.237, -1.868, -6.195, 200.9, 3.53, -0.23, -2.433, -1.622, -4.797, 54.5, 56.35, 38.63, -4.495, -0.8167, 243.5, -16.63, 201.9, 2.836, 15.56, -47.29, -65.37, 0.0, -0.6583, 5.458, 50.45, 3.217, -36.02, -1.925, 12.9, 3.558, 52.81, -78.74, 21.52, -20.98, 4.193, 1.61, -3.817, 61.91, 0.5349, -0.9834, 20.97, 6.178, 10.24, -34.9, 3.333, 3.283, 22.69, 1.187, -11.83, -5.275, 74.92, -10.72, 12.5, 79.21, 41.36, 79.52, -6.108, -8.425, 68.56, 63.4, 6.417, -5.66, 59.85, -21.81, 1.075, -12.32, 75.93, -20.38, 23.94, 13.61, 14.56, 60.15, 7.565, 22.98, 3.427, -7.305, 4.952, 2.64, -87.43, 35.71, 2.518, -39.34, 284.0, -86.3, 5.738, -113.9, 11.83, -0.0116, 15.54, 12.29, 62.47, 49.32, 51.61, -41.05, -41.06, -264.8, -79.01, 67.98, -25.16, -121.8, -121.9, 240.6, 207.2, 78.45, 68.54, -15.31, 77.37, 36.21, -151.7, 64.42, 100.1, -49.26, -6.993, 51.48, 51.53, 33.5, 3.433, -76.01, -29.43, 287.1, -190.8, -262.2, -39.27, 43.22, -112.2, -73.48, -28.44, 19.82, -197.4, 165.5, 11.61, 63.02, 44.59, 3.847, 82.61, 54.93, -204.8, 23.52, 122.9, 123.0, 269.5, 207.2, -274.7, 103.1, 98.73, 95.23, 211.0, -233.8, -39.67, 32.76, 229.1, 229.3, -51.04, 196.0, 154.0, 139.7, -13.73, -11.38, 122.4, -180.6, 149.5, 162.8, 120.3, -59.07, -202.4, -262.2, 144.7, -224.4, 101.0, 231.2, -153.2, 177.4, -155.3, 136.3, 161.1, 182.3, -215.0, 202.4, 218.2, 215.3, 153.0, 183.9, 185.9, -25.44, 45.46, 208.5, 227.0, 200.6, 172.3, 212.9, -15.7, 167.2, -6.148, -262.1, 189.2, 30.76, 135.7, 246.2, 169.9, 127.5, 15.14, 85.96, 239.2, 179.6, 174.3, 211.2, -247.8, 156.5, 201.4, 240.5, 202.3, 251.7], \"yaxis\": \"y\"}],                        {\"autosize\": false, \"height\": 500, \"legend\": {\"tracegroupgap\": 0}, \"margin\": {\"t\": 60}, \"template\": {\"data\": {\"bar\": [{\"error_x\": {\"color\": \"#2a3f5f\"}, \"error_y\": {\"color\": \"#2a3f5f\"}, \"marker\": {\"line\": {\"color\": \"#E5ECF6\", \"width\": 0.5}}, \"type\": \"bar\"}], \"barpolar\": [{\"marker\": {\"line\": {\"color\": \"#E5ECF6\", \"width\": 0.5}}, \"type\": \"barpolar\"}], \"carpet\": [{\"aaxis\": {\"endlinecolor\": \"#2a3f5f\", \"gridcolor\": \"white\", \"linecolor\": \"white\", \"minorgridcolor\": \"white\", \"startlinecolor\": \"#2a3f5f\"}, \"baxis\": {\"endlinecolor\": \"#2a3f5f\", \"gridcolor\": \"white\", \"linecolor\": \"white\", \"minorgridcolor\": \"white\", \"startlinecolor\": \"#2a3f5f\"}, \"type\": \"carpet\"}], \"choropleth\": [{\"colorbar\": {\"outlinewidth\": 0, \"ticks\": \"\"}, \"type\": \"choropleth\"}], \"contour\": [{\"colorbar\": {\"outlinewidth\": 0, \"ticks\": \"\"}, \"colorscale\": [[0.0, \"#0d0887\"], [0.1111111111111111, \"#46039f\"], [0.2222222222222222, \"#7201a8\"], [0.3333333333333333, \"#9c179e\"], [0.4444444444444444, \"#bd3786\"], [0.5555555555555556, \"#d8576b\"], [0.6666666666666666, \"#ed7953\"], [0.7777777777777778, \"#fb9f3a\"], [0.8888888888888888, \"#fdca26\"], [1.0, \"#f0f921\"]], \"type\": \"contour\"}], \"contourcarpet\": [{\"colorbar\": {\"outlinewidth\": 0, \"ticks\": \"\"}, \"type\": \"contourcarpet\"}], \"heatmap\": [{\"colorbar\": {\"outlinewidth\": 0, \"ticks\": \"\"}, \"colorscale\": [[0.0, \"#0d0887\"], [0.1111111111111111, \"#46039f\"], [0.2222222222222222, \"#7201a8\"], [0.3333333333333333, \"#9c179e\"], [0.4444444444444444, \"#bd3786\"], [0.5555555555555556, \"#d8576b\"], [0.6666666666666666, \"#ed7953\"], [0.7777777777777778, \"#fb9f3a\"], [0.8888888888888888, \"#fdca26\"], [1.0, \"#f0f921\"]], \"type\": \"heatmap\"}], \"heatmapgl\": [{\"colorbar\": {\"outlinewidth\": 0, \"ticks\": \"\"}, \"colorscale\": [[0.0, \"#0d0887\"], [0.1111111111111111, \"#46039f\"], [0.2222222222222222, \"#7201a8\"], [0.3333333333333333, \"#9c179e\"], [0.4444444444444444, \"#bd3786\"], [0.5555555555555556, \"#d8576b\"], [0.6666666666666666, \"#ed7953\"], [0.7777777777777778, \"#fb9f3a\"], [0.8888888888888888, \"#fdca26\"], [1.0, \"#f0f921\"]], \"type\": \"heatmapgl\"}], \"histogram\": [{\"marker\": {\"colorbar\": {\"outlinewidth\": 0, \"ticks\": \"\"}}, \"type\": \"histogram\"}], \"histogram2d\": [{\"colorbar\": {\"outlinewidth\": 0, \"ticks\": \"\"}, \"colorscale\": [[0.0, \"#0d0887\"], [0.1111111111111111, \"#46039f\"], [0.2222222222222222, \"#7201a8\"], [0.3333333333333333, \"#9c179e\"], [0.4444444444444444, \"#bd3786\"], [0.5555555555555556, \"#d8576b\"], [0.6666666666666666, \"#ed7953\"], [0.7777777777777778, \"#fb9f3a\"], [0.8888888888888888, \"#fdca26\"], [1.0, \"#f0f921\"]], \"type\": \"histogram2d\"}], \"histogram2dcontour\": [{\"colorbar\": {\"outlinewidth\": 0, \"ticks\": \"\"}, \"colorscale\": [[0.0, \"#0d0887\"], [0.1111111111111111, \"#46039f\"], [0.2222222222222222, \"#7201a8\"], [0.3333333333333333, \"#9c179e\"], [0.4444444444444444, \"#bd3786\"], [0.5555555555555556, \"#d8576b\"], [0.6666666666666666, \"#ed7953\"], [0.7777777777777778, \"#fb9f3a\"], [0.8888888888888888, \"#fdca26\"], [1.0, \"#f0f921\"]], \"type\": \"histogram2dcontour\"}], \"mesh3d\": [{\"colorbar\": {\"outlinewidth\": 0, \"ticks\": \"\"}, \"type\": \"mesh3d\"}], \"parcoords\": [{\"line\": {\"colorbar\": {\"outlinewidth\": 0, \"ticks\": \"\"}}, \"type\": \"parcoords\"}], \"pie\": [{\"automargin\": true, \"type\": \"pie\"}], \"scatter\": [{\"marker\": {\"colorbar\": {\"outlinewidth\": 0, \"ticks\": \"\"}}, \"type\": \"scatter\"}], \"scatter3d\": [{\"line\": {\"colorbar\": {\"outlinewidth\": 0, \"ticks\": \"\"}}, \"marker\": {\"colorbar\": {\"outlinewidth\": 0, \"ticks\": \"\"}}, \"type\": \"scatter3d\"}], \"scattercarpet\": [{\"marker\": {\"colorbar\": {\"outlinewidth\": 0, \"ticks\": \"\"}}, \"type\": \"scattercarpet\"}], \"scattergeo\": [{\"marker\": {\"colorbar\": {\"outlinewidth\": 0, \"ticks\": \"\"}}, \"type\": \"scattergeo\"}], \"scattergl\": [{\"marker\": {\"colorbar\": {\"outlinewidth\": 0, \"ticks\": \"\"}}, \"type\": \"scattergl\"}], \"scattermapbox\": [{\"marker\": {\"colorbar\": {\"outlinewidth\": 0, \"ticks\": \"\"}}, \"type\": \"scattermapbox\"}], \"scatterpolar\": [{\"marker\": {\"colorbar\": {\"outlinewidth\": 0, \"ticks\": \"\"}}, \"type\": \"scatterpolar\"}], \"scatterpolargl\": [{\"marker\": {\"colorbar\": {\"outlinewidth\": 0, \"ticks\": \"\"}}, \"type\": \"scatterpolargl\"}], \"scatterternary\": [{\"marker\": {\"colorbar\": {\"outlinewidth\": 0, \"ticks\": \"\"}}, \"type\": \"scatterternary\"}], \"surface\": [{\"colorbar\": {\"outlinewidth\": 0, \"ticks\": \"\"}, \"colorscale\": [[0.0, \"#0d0887\"], [0.1111111111111111, \"#46039f\"], [0.2222222222222222, \"#7201a8\"], [0.3333333333333333, \"#9c179e\"], [0.4444444444444444, \"#bd3786\"], [0.5555555555555556, \"#d8576b\"], [0.6666666666666666, \"#ed7953\"], [0.7777777777777778, \"#fb9f3a\"], [0.8888888888888888, \"#fdca26\"], [1.0, \"#f0f921\"]], \"type\": \"surface\"}], \"table\": [{\"cells\": {\"fill\": {\"color\": \"#EBF0F8\"}, \"line\": {\"color\": \"white\"}}, \"header\": {\"fill\": {\"color\": \"#C8D4E3\"}, \"line\": {\"color\": \"white\"}}, \"type\": \"table\"}]}, \"layout\": {\"annotationdefaults\": {\"arrowcolor\": \"#2a3f5f\", \"arrowhead\": 0, \"arrowwidth\": 1}, \"autotypenumbers\": \"strict\", \"coloraxis\": {\"colorbar\": {\"outlinewidth\": 0, \"ticks\": \"\"}}, \"colorscale\": {\"diverging\": [[0, \"#8e0152\"], [0.1, \"#c51b7d\"], [0.2, \"#de77ae\"], [0.3, \"#f1b6da\"], [0.4, \"#fde0ef\"], [0.5, \"#f7f7f7\"], [0.6, \"#e6f5d0\"], [0.7, \"#b8e186\"], [0.8, \"#7fbc41\"], [0.9, \"#4d9221\"], [1, \"#276419\"]], \"sequential\": [[0.0, \"#0d0887\"], [0.1111111111111111, \"#46039f\"], [0.2222222222222222, \"#7201a8\"], [0.3333333333333333, \"#9c179e\"], [0.4444444444444444, \"#bd3786\"], [0.5555555555555556, \"#d8576b\"], [0.6666666666666666, \"#ed7953\"], [0.7777777777777778, \"#fb9f3a\"], [0.8888888888888888, \"#fdca26\"], [1.0, \"#f0f921\"]], \"sequentialminus\": [[0.0, \"#0d0887\"], [0.1111111111111111, \"#46039f\"], [0.2222222222222222, \"#7201a8\"], [0.3333333333333333, \"#9c179e\"], [0.4444444444444444, \"#bd3786\"], [0.5555555555555556, \"#d8576b\"], [0.6666666666666666, \"#ed7953\"], [0.7777777777777778, \"#fb9f3a\"], [0.8888888888888888, \"#fdca26\"], [1.0, \"#f0f921\"]]}, \"colorway\": [\"#636efa\", \"#EF553B\", \"#00cc96\", \"#ab63fa\", \"#FFA15A\", \"#19d3f3\", \"#FF6692\", \"#B6E880\", \"#FF97FF\", \"#FECB52\"], \"font\": {\"color\": \"#2a3f5f\"}, \"geo\": {\"bgcolor\": \"white\", \"lakecolor\": \"white\", \"landcolor\": \"#E5ECF6\", \"showlakes\": true, \"showland\": true, \"subunitcolor\": \"white\"}, \"hoverlabel\": {\"align\": \"left\"}, \"hovermode\": \"closest\", \"mapbox\": {\"style\": \"light\"}, \"paper_bgcolor\": \"white\", \"plot_bgcolor\": \"#E5ECF6\", \"polar\": {\"angularaxis\": {\"gridcolor\": \"white\", \"linecolor\": \"white\", \"ticks\": \"\"}, \"bgcolor\": \"#E5ECF6\", \"radialaxis\": {\"gridcolor\": \"white\", \"linecolor\": \"white\", \"ticks\": \"\"}}, \"scene\": {\"xaxis\": {\"backgroundcolor\": \"#E5ECF6\", \"gridcolor\": \"white\", \"gridwidth\": 2, \"linecolor\": \"white\", \"showbackground\": true, \"ticks\": \"\", \"zerolinecolor\": \"white\"}, \"yaxis\": {\"backgroundcolor\": \"#E5ECF6\", \"gridcolor\": \"white\", \"gridwidth\": 2, \"linecolor\": \"white\", \"showbackground\": true, \"ticks\": \"\", \"zerolinecolor\": \"white\"}, \"zaxis\": {\"backgroundcolor\": \"#E5ECF6\", \"gridcolor\": \"white\", \"gridwidth\": 2, \"linecolor\": \"white\", \"showbackground\": true, \"ticks\": \"\", \"zerolinecolor\": \"white\"}}, \"shapedefaults\": {\"line\": {\"color\": \"#2a3f5f\"}}, \"ternary\": {\"aaxis\": {\"gridcolor\": \"white\", \"linecolor\": \"white\", \"ticks\": \"\"}, \"baxis\": {\"gridcolor\": \"white\", \"linecolor\": \"white\", \"ticks\": \"\"}, \"bgcolor\": \"#E5ECF6\", \"caxis\": {\"gridcolor\": \"white\", \"linecolor\": \"white\", \"ticks\": \"\"}}, \"title\": {\"x\": 0.05}, \"xaxis\": {\"automargin\": true, \"gridcolor\": \"white\", \"linecolor\": \"white\", \"ticks\": \"\", \"title\": {\"standoff\": 15}, \"zerolinecolor\": \"white\", \"zerolinewidth\": 2}, \"yaxis\": {\"automargin\": true, \"gridcolor\": \"white\", \"linecolor\": \"white\", \"ticks\": \"\", \"title\": {\"standoff\": 15}, \"zerolinecolor\": \"white\", \"zerolinewidth\": 2}}}, \"width\": 500, \"xaxis\": {\"anchor\": \"y\", \"domain\": [0.0, 1.0], \"range\": [-300, 300], \"title\": {\"text\": \"x\"}}, \"yaxis\": {\"anchor\": \"x\", \"domain\": [0.0, 1.0], \"range\": [-300, 300], \"title\": {\"text\": \"y\"}}},                        {\"responsive\": true}                    ).then(function(){\n",
       "                            \n",
       "var gd = document.getElementById('58e7f4f0-1e61-44b0-a79a-ede1fd1c9b29');\n",
       "var x = new MutationObserver(function (mutations, observer) {{\n",
       "        var display = window.getComputedStyle(gd).display;\n",
       "        if (!display || display === 'none') {{\n",
       "            console.log([gd, 'removed!']);\n",
       "            Plotly.purge(gd);\n",
       "            observer.disconnect();\n",
       "        }}\n",
       "}});\n",
       "\n",
       "// Listen for the removal of the full notebook cells\n",
       "var notebookContainer = gd.closest('#notebook-container');\n",
       "if (notebookContainer) {{\n",
       "    x.observe(notebookContainer, {childList: true});\n",
       "}}\n",
       "\n",
       "// Listen for the clearing of the current output cell\n",
       "var outputEl = gd.closest('.output');\n",
       "if (outputEl) {{\n",
       "    x.observe(outputEl, {childList: true});\n",
       "}}\n",
       "\n",
       "                        })                };                });            </script>        </div>"
      ]
     },
     "metadata": {},
     "output_type": "display_data"
    }
   ],
   "source": [
    "import plotly.express as px\n",
    "\n",
    "\n",
    "fig = px.scatter(x = data[:,1], y = data[:,2])\n",
    "fig.update_yaxes(range=[-300, 300])\n",
    "fig.update_xaxes(range=[-300, 300])\n",
    "fig.update_layout(autosize=False, width=500, height=500)"
   ]
  },
  {
   "cell_type": "markdown",
   "metadata": {},
   "source": []
  },
  {
   "cell_type": "markdown",
   "metadata": {},
   "source": [
    "Make a histogram of the radial velocity of all the galaxies (use bins with width of 250 km/s, and don’t include galaxies without velocity measurements when making your histogram!). How would this help you decide which galaxies actually were part of the Coma cluster?"
   ]
  },
  {
   "cell_type": "code",
   "execution_count": 200,
   "metadata": {},
   "outputs": [
    {
     "data": {
      "application/vnd.plotly.v1+json": {
       "config": {
        "plotlyServerURL": "https://plot.ly"
       },
       "data": [
        {
         "alignmentgroup": "True",
         "bingroup": "x",
         "hovertemplate": "variable=0<br>value=%{x}<br>count=%{y}<extra></extra>",
         "legendgroup": "0",
         "marker": {
          "color": "#636efa"
         },
         "name": "0",
         "nbinsx": 156,
         "offsetgroup": "0",
         "orientation": "v",
         "showlegend": true,
         "type": "histogram",
         "x": [
          7019,
          8041,
          6536,
          6574,
          7321,
          6699,
          6987,
          6559,
          4732,
          9374,
          7885,
          4485,
          7737,
          8184,
          4979,
          4801,
          4716,
          828,
          6528,
          6805,
          7492,
          7101,
          9303,
          7552,
          7265,
          951,
          4544,
          6375,
          1051,
          6938,
          6924,
          6651,
          6517,
          4675,
          808,
          7459,
          6761,
          6739,
          6610,
          7150,
          8018,
          7098,
          8071,
          4379,
          8159,
          7429,
          9604,
          6922,
          1221,
          7858,
          1206,
          6509,
          9186,
          7468,
          6459,
          8354,
          4765,
          5445,
          6937,
          7181,
          6187,
          6984,
          8186,
          6477,
          7981,
          6366,
          7835,
          7036,
          6997,
          1231,
          6150,
          13740,
          7976,
          8944,
          7005,
          6297,
          7635,
          374,
          6459,
          8354,
          7125,
          6202,
          6235,
          7495,
          7838,
          7177,
          7437,
          7087,
          6941,
          7171,
          4968,
          6948,
          6292,
          7096,
          6665,
          6404,
          7487,
          6974,
          6750,
          6134,
          7619,
          7843,
          6849,
          6304,
          8019,
          7774,
          7264,
          7516,
          7336,
          7460,
          7335,
          5517,
          7069,
          7222,
          6784,
          6059,
          6266,
          7512,
          6511,
          7350,
          5304,
          8142,
          15670,
          7410,
          7976,
          7198,
          7227,
          7612,
          8001,
          5885,
          7560,
          7405,
          7837,
          7785,
          6086,
          7242,
          7368,
          7652,
          7867,
          6818,
          7664,
          8077,
          6101,
          7526,
          7055,
          9386,
          7862,
          5458,
          7715,
          6709,
          6350,
          6760,
          6675,
          5627,
          7799,
          4818,
          4660,
          6703,
          5504,
          6950,
          6837,
          4745,
          6871,
          5662,
          7145,
          7176,
          7834,
          6217,
          5901,
          5327,
          6654,
          9371,
          6818,
          8211,
          7961,
          6691,
          5898,
          6218,
          6497,
          7228,
          7386,
          5712,
          6848,
          8446,
          8153,
          6774,
          7208,
          5823,
          7476,
          7633,
          7020,
          7505,
          7275,
          7114,
          8043,
          7997,
          6855,
          5807,
          6925,
          7680,
          4964,
          7973,
          6907,
          7110,
          8909,
          5475,
          5458,
          7500,
          7099,
          5917,
          7616,
          7751,
          7583,
          7203,
          7412,
          7177,
          7613,
          8311,
          5721,
          7443,
          7441,
          6342,
          8170,
          7893,
          5849,
          5965,
          6917,
          6092,
          6677,
          5739,
          11200,
          7111,
          6330,
          5971,
          8050,
          5523,
          10810,
          5919,
          6876,
          6521,
          15530,
          10850,
          7158,
          2533,
          7981,
          7994,
          7279,
          7135,
          7851,
          4837,
          6399,
          11510,
          6655,
          6331,
          7712,
          10340,
          7372,
          6631,
          7127,
          5996,
          9410,
          6258,
          5615,
          7192,
          7092,
          10460,
          7846,
          6364,
          7141,
          7262,
          7002,
          2613,
          6127,
          6918,
          6346,
          6863,
          6073,
          4868,
          6253,
          6325,
          7163,
          6022,
          7507,
          6960,
          3878,
          6936,
          6746,
          5600,
          3781,
          14810,
          5661,
          5823,
          9506,
          5581,
          5568,
          4543,
          13880,
          2458,
          6630,
          2119,
          7021,
          9438,
          7158
         ],
         "xaxis": "x",
         "yaxis": "y"
        }
       ],
       "layout": {
        "barmode": "relative",
        "legend": {
         "title": {
          "text": "variable"
         },
         "tracegroupgap": 0
        },
        "margin": {
         "t": 60
        },
        "template": {
         "data": {
          "bar": [
           {
            "error_x": {
             "color": "#2a3f5f"
            },
            "error_y": {
             "color": "#2a3f5f"
            },
            "marker": {
             "line": {
              "color": "#E5ECF6",
              "width": 0.5
             }
            },
            "type": "bar"
           }
          ],
          "barpolar": [
           {
            "marker": {
             "line": {
              "color": "#E5ECF6",
              "width": 0.5
             }
            },
            "type": "barpolar"
           }
          ],
          "carpet": [
           {
            "aaxis": {
             "endlinecolor": "#2a3f5f",
             "gridcolor": "white",
             "linecolor": "white",
             "minorgridcolor": "white",
             "startlinecolor": "#2a3f5f"
            },
            "baxis": {
             "endlinecolor": "#2a3f5f",
             "gridcolor": "white",
             "linecolor": "white",
             "minorgridcolor": "white",
             "startlinecolor": "#2a3f5f"
            },
            "type": "carpet"
           }
          ],
          "choropleth": [
           {
            "colorbar": {
             "outlinewidth": 0,
             "ticks": ""
            },
            "type": "choropleth"
           }
          ],
          "contour": [
           {
            "colorbar": {
             "outlinewidth": 0,
             "ticks": ""
            },
            "colorscale": [
             [
              0,
              "#0d0887"
             ],
             [
              0.1111111111111111,
              "#46039f"
             ],
             [
              0.2222222222222222,
              "#7201a8"
             ],
             [
              0.3333333333333333,
              "#9c179e"
             ],
             [
              0.4444444444444444,
              "#bd3786"
             ],
             [
              0.5555555555555556,
              "#d8576b"
             ],
             [
              0.6666666666666666,
              "#ed7953"
             ],
             [
              0.7777777777777778,
              "#fb9f3a"
             ],
             [
              0.8888888888888888,
              "#fdca26"
             ],
             [
              1,
              "#f0f921"
             ]
            ],
            "type": "contour"
           }
          ],
          "contourcarpet": [
           {
            "colorbar": {
             "outlinewidth": 0,
             "ticks": ""
            },
            "type": "contourcarpet"
           }
          ],
          "heatmap": [
           {
            "colorbar": {
             "outlinewidth": 0,
             "ticks": ""
            },
            "colorscale": [
             [
              0,
              "#0d0887"
             ],
             [
              0.1111111111111111,
              "#46039f"
             ],
             [
              0.2222222222222222,
              "#7201a8"
             ],
             [
              0.3333333333333333,
              "#9c179e"
             ],
             [
              0.4444444444444444,
              "#bd3786"
             ],
             [
              0.5555555555555556,
              "#d8576b"
             ],
             [
              0.6666666666666666,
              "#ed7953"
             ],
             [
              0.7777777777777778,
              "#fb9f3a"
             ],
             [
              0.8888888888888888,
              "#fdca26"
             ],
             [
              1,
              "#f0f921"
             ]
            ],
            "type": "heatmap"
           }
          ],
          "heatmapgl": [
           {
            "colorbar": {
             "outlinewidth": 0,
             "ticks": ""
            },
            "colorscale": [
             [
              0,
              "#0d0887"
             ],
             [
              0.1111111111111111,
              "#46039f"
             ],
             [
              0.2222222222222222,
              "#7201a8"
             ],
             [
              0.3333333333333333,
              "#9c179e"
             ],
             [
              0.4444444444444444,
              "#bd3786"
             ],
             [
              0.5555555555555556,
              "#d8576b"
             ],
             [
              0.6666666666666666,
              "#ed7953"
             ],
             [
              0.7777777777777778,
              "#fb9f3a"
             ],
             [
              0.8888888888888888,
              "#fdca26"
             ],
             [
              1,
              "#f0f921"
             ]
            ],
            "type": "heatmapgl"
           }
          ],
          "histogram": [
           {
            "marker": {
             "colorbar": {
              "outlinewidth": 0,
              "ticks": ""
             }
            },
            "type": "histogram"
           }
          ],
          "histogram2d": [
           {
            "colorbar": {
             "outlinewidth": 0,
             "ticks": ""
            },
            "colorscale": [
             [
              0,
              "#0d0887"
             ],
             [
              0.1111111111111111,
              "#46039f"
             ],
             [
              0.2222222222222222,
              "#7201a8"
             ],
             [
              0.3333333333333333,
              "#9c179e"
             ],
             [
              0.4444444444444444,
              "#bd3786"
             ],
             [
              0.5555555555555556,
              "#d8576b"
             ],
             [
              0.6666666666666666,
              "#ed7953"
             ],
             [
              0.7777777777777778,
              "#fb9f3a"
             ],
             [
              0.8888888888888888,
              "#fdca26"
             ],
             [
              1,
              "#f0f921"
             ]
            ],
            "type": "histogram2d"
           }
          ],
          "histogram2dcontour": [
           {
            "colorbar": {
             "outlinewidth": 0,
             "ticks": ""
            },
            "colorscale": [
             [
              0,
              "#0d0887"
             ],
             [
              0.1111111111111111,
              "#46039f"
             ],
             [
              0.2222222222222222,
              "#7201a8"
             ],
             [
              0.3333333333333333,
              "#9c179e"
             ],
             [
              0.4444444444444444,
              "#bd3786"
             ],
             [
              0.5555555555555556,
              "#d8576b"
             ],
             [
              0.6666666666666666,
              "#ed7953"
             ],
             [
              0.7777777777777778,
              "#fb9f3a"
             ],
             [
              0.8888888888888888,
              "#fdca26"
             ],
             [
              1,
              "#f0f921"
             ]
            ],
            "type": "histogram2dcontour"
           }
          ],
          "mesh3d": [
           {
            "colorbar": {
             "outlinewidth": 0,
             "ticks": ""
            },
            "type": "mesh3d"
           }
          ],
          "parcoords": [
           {
            "line": {
             "colorbar": {
              "outlinewidth": 0,
              "ticks": ""
             }
            },
            "type": "parcoords"
           }
          ],
          "pie": [
           {
            "automargin": true,
            "type": "pie"
           }
          ],
          "scatter": [
           {
            "marker": {
             "colorbar": {
              "outlinewidth": 0,
              "ticks": ""
             }
            },
            "type": "scatter"
           }
          ],
          "scatter3d": [
           {
            "line": {
             "colorbar": {
              "outlinewidth": 0,
              "ticks": ""
             }
            },
            "marker": {
             "colorbar": {
              "outlinewidth": 0,
              "ticks": ""
             }
            },
            "type": "scatter3d"
           }
          ],
          "scattercarpet": [
           {
            "marker": {
             "colorbar": {
              "outlinewidth": 0,
              "ticks": ""
             }
            },
            "type": "scattercarpet"
           }
          ],
          "scattergeo": [
           {
            "marker": {
             "colorbar": {
              "outlinewidth": 0,
              "ticks": ""
             }
            },
            "type": "scattergeo"
           }
          ],
          "scattergl": [
           {
            "marker": {
             "colorbar": {
              "outlinewidth": 0,
              "ticks": ""
             }
            },
            "type": "scattergl"
           }
          ],
          "scattermapbox": [
           {
            "marker": {
             "colorbar": {
              "outlinewidth": 0,
              "ticks": ""
             }
            },
            "type": "scattermapbox"
           }
          ],
          "scatterpolar": [
           {
            "marker": {
             "colorbar": {
              "outlinewidth": 0,
              "ticks": ""
             }
            },
            "type": "scatterpolar"
           }
          ],
          "scatterpolargl": [
           {
            "marker": {
             "colorbar": {
              "outlinewidth": 0,
              "ticks": ""
             }
            },
            "type": "scatterpolargl"
           }
          ],
          "scatterternary": [
           {
            "marker": {
             "colorbar": {
              "outlinewidth": 0,
              "ticks": ""
             }
            },
            "type": "scatterternary"
           }
          ],
          "surface": [
           {
            "colorbar": {
             "outlinewidth": 0,
             "ticks": ""
            },
            "colorscale": [
             [
              0,
              "#0d0887"
             ],
             [
              0.1111111111111111,
              "#46039f"
             ],
             [
              0.2222222222222222,
              "#7201a8"
             ],
             [
              0.3333333333333333,
              "#9c179e"
             ],
             [
              0.4444444444444444,
              "#bd3786"
             ],
             [
              0.5555555555555556,
              "#d8576b"
             ],
             [
              0.6666666666666666,
              "#ed7953"
             ],
             [
              0.7777777777777778,
              "#fb9f3a"
             ],
             [
              0.8888888888888888,
              "#fdca26"
             ],
             [
              1,
              "#f0f921"
             ]
            ],
            "type": "surface"
           }
          ],
          "table": [
           {
            "cells": {
             "fill": {
              "color": "#EBF0F8"
             },
             "line": {
              "color": "white"
             }
            },
            "header": {
             "fill": {
              "color": "#C8D4E3"
             },
             "line": {
              "color": "white"
             }
            },
            "type": "table"
           }
          ]
         },
         "layout": {
          "annotationdefaults": {
           "arrowcolor": "#2a3f5f",
           "arrowhead": 0,
           "arrowwidth": 1
          },
          "autotypenumbers": "strict",
          "coloraxis": {
           "colorbar": {
            "outlinewidth": 0,
            "ticks": ""
           }
          },
          "colorscale": {
           "diverging": [
            [
             0,
             "#8e0152"
            ],
            [
             0.1,
             "#c51b7d"
            ],
            [
             0.2,
             "#de77ae"
            ],
            [
             0.3,
             "#f1b6da"
            ],
            [
             0.4,
             "#fde0ef"
            ],
            [
             0.5,
             "#f7f7f7"
            ],
            [
             0.6,
             "#e6f5d0"
            ],
            [
             0.7,
             "#b8e186"
            ],
            [
             0.8,
             "#7fbc41"
            ],
            [
             0.9,
             "#4d9221"
            ],
            [
             1,
             "#276419"
            ]
           ],
           "sequential": [
            [
             0,
             "#0d0887"
            ],
            [
             0.1111111111111111,
             "#46039f"
            ],
            [
             0.2222222222222222,
             "#7201a8"
            ],
            [
             0.3333333333333333,
             "#9c179e"
            ],
            [
             0.4444444444444444,
             "#bd3786"
            ],
            [
             0.5555555555555556,
             "#d8576b"
            ],
            [
             0.6666666666666666,
             "#ed7953"
            ],
            [
             0.7777777777777778,
             "#fb9f3a"
            ],
            [
             0.8888888888888888,
             "#fdca26"
            ],
            [
             1,
             "#f0f921"
            ]
           ],
           "sequentialminus": [
            [
             0,
             "#0d0887"
            ],
            [
             0.1111111111111111,
             "#46039f"
            ],
            [
             0.2222222222222222,
             "#7201a8"
            ],
            [
             0.3333333333333333,
             "#9c179e"
            ],
            [
             0.4444444444444444,
             "#bd3786"
            ],
            [
             0.5555555555555556,
             "#d8576b"
            ],
            [
             0.6666666666666666,
             "#ed7953"
            ],
            [
             0.7777777777777778,
             "#fb9f3a"
            ],
            [
             0.8888888888888888,
             "#fdca26"
            ],
            [
             1,
             "#f0f921"
            ]
           ]
          },
          "colorway": [
           "#636efa",
           "#EF553B",
           "#00cc96",
           "#ab63fa",
           "#FFA15A",
           "#19d3f3",
           "#FF6692",
           "#B6E880",
           "#FF97FF",
           "#FECB52"
          ],
          "font": {
           "color": "#2a3f5f"
          },
          "geo": {
           "bgcolor": "white",
           "lakecolor": "white",
           "landcolor": "#E5ECF6",
           "showlakes": true,
           "showland": true,
           "subunitcolor": "white"
          },
          "hoverlabel": {
           "align": "left"
          },
          "hovermode": "closest",
          "mapbox": {
           "style": "light"
          },
          "paper_bgcolor": "white",
          "plot_bgcolor": "#E5ECF6",
          "polar": {
           "angularaxis": {
            "gridcolor": "white",
            "linecolor": "white",
            "ticks": ""
           },
           "bgcolor": "#E5ECF6",
           "radialaxis": {
            "gridcolor": "white",
            "linecolor": "white",
            "ticks": ""
           }
          },
          "scene": {
           "xaxis": {
            "backgroundcolor": "#E5ECF6",
            "gridcolor": "white",
            "gridwidth": 2,
            "linecolor": "white",
            "showbackground": true,
            "ticks": "",
            "zerolinecolor": "white"
           },
           "yaxis": {
            "backgroundcolor": "#E5ECF6",
            "gridcolor": "white",
            "gridwidth": 2,
            "linecolor": "white",
            "showbackground": true,
            "ticks": "",
            "zerolinecolor": "white"
           },
           "zaxis": {
            "backgroundcolor": "#E5ECF6",
            "gridcolor": "white",
            "gridwidth": 2,
            "linecolor": "white",
            "showbackground": true,
            "ticks": "",
            "zerolinecolor": "white"
           }
          },
          "shapedefaults": {
           "line": {
            "color": "#2a3f5f"
           }
          },
          "ternary": {
           "aaxis": {
            "gridcolor": "white",
            "linecolor": "white",
            "ticks": ""
           },
           "baxis": {
            "gridcolor": "white",
            "linecolor": "white",
            "ticks": ""
           },
           "bgcolor": "#E5ECF6",
           "caxis": {
            "gridcolor": "white",
            "linecolor": "white",
            "ticks": ""
           }
          },
          "title": {
           "x": 0.05
          },
          "xaxis": {
           "automargin": true,
           "gridcolor": "white",
           "linecolor": "white",
           "ticks": "",
           "title": {
            "standoff": 15
           },
           "zerolinecolor": "white",
           "zerolinewidth": 2
          },
          "yaxis": {
           "automargin": true,
           "gridcolor": "white",
           "linecolor": "white",
           "ticks": "",
           "title": {
            "standoff": 15
           },
           "zerolinecolor": "white",
           "zerolinewidth": 2
          }
         }
        },
        "xaxis": {
         "anchor": "y",
         "domain": [
          0,
          1
         ],
         "title": {
          "text": "value"
         }
        },
        "yaxis": {
         "anchor": "x",
         "domain": [
          0,
          1
         ],
         "title": {
          "text": "count"
         }
        }
       }
      },
      "text/html": [
       "<div>                            <div id=\"d10a2b24-7254-4063-bdf9-d12f1f5e40b4\" class=\"plotly-graph-div\" style=\"height:525px; width:100%;\"></div>            <script type=\"text/javascript\">                require([\"plotly\"], function(Plotly) {                    window.PLOTLYENV=window.PLOTLYENV || {};                                    if (document.getElementById(\"d10a2b24-7254-4063-bdf9-d12f1f5e40b4\")) {                    Plotly.newPlot(                        \"d10a2b24-7254-4063-bdf9-d12f1f5e40b4\",                        [{\"alignmentgroup\": \"True\", \"bingroup\": \"x\", \"hovertemplate\": \"variable=0<br>value=%{x}<br>count=%{y}<extra></extra>\", \"legendgroup\": \"0\", \"marker\": {\"color\": \"#636efa\"}, \"name\": \"0\", \"nbinsx\": 156, \"offsetgroup\": \"0\", \"orientation\": \"v\", \"showlegend\": true, \"type\": \"histogram\", \"x\": [7019.0, 8041.0, 6536.0, 6574.0, 7321.0, 6699.0, 6987.0, 6559.0, 4732.0, 9374.0, 7885.0, 4485.0, 7737.0, 8184.0, 4979.0, 4801.0, 4716.0, 828.0, 6528.0, 6805.0, 7492.0, 7101.0, 9303.0, 7552.0, 7265.0, 951.0, 4544.0, 6375.0, 1051.0, 6938.0, 6924.0, 6651.0, 6517.0, 4675.0, 808.0, 7459.0, 6761.0, 6739.0, 6610.0, 7150.0, 8018.0, 7098.0, 8071.0, 4379.0, 8159.0, 7429.0, 9604.0, 6922.0, 1221.0, 7858.0, 1206.0, 6509.0, 9186.0, 7468.0, 6459.0, 8354.0, 4765.0, 5445.0, 6937.0, 7181.0, 6187.0, 6984.0, 8186.0, 6477.0, 7981.0, 6366.0, 7835.0, 7036.0, 6997.0, 1231.0, 6150.0, 13740.0, 7976.0, 8944.0, 7005.0, 6297.0, 7635.0, 374.0, 6459.0, 8354.0, 7125.0, 6202.0, 6235.0, 7495.0, 7838.0, 7177.0, 7437.0, 7087.0, 6941.0, 7171.0, 4968.0, 6948.0, 6292.0, 7096.0, 6665.0, 6404.0, 7487.0, 6974.0, 6750.0, 6134.0, 7619.0, 7843.0, 6849.0, 6304.0, 8019.0, 7774.0, 7264.0, 7516.0, 7336.0, 7460.0, 7335.0, 5517.0, 7069.0, 7222.0, 6784.0, 6059.0, 6266.0, 7512.0, 6511.0, 7350.0, 5304.0, 8142.0, 15670.0, 7410.0, 7976.0, 7198.0, 7227.0, 7612.0, 8001.0, 5885.0, 7560.0, 7405.0, 7837.0, 7785.0, 6086.0, 7242.0, 7368.0, 7652.0, 7867.0, 6818.0, 7664.0, 8077.0, 6101.0, 7526.0, 7055.0, 9386.0, 7862.0, 5458.0, 7715.0, 6709.0, 6350.0, 6760.0, 6675.0, 5627.0, 7799.0, 4818.0, 4660.0, 6703.0, 5504.0, 6950.0, 6837.0, 4745.0, 6871.0, 5662.0, 7145.0, 7176.0, 7834.0, 6217.0, 5901.0, 5327.0, 6654.0, 9371.0, 6818.0, 8211.0, 7961.0, 6691.0, 5898.0, 6218.0, 6497.0, 7228.0, 7386.0, 5712.0, 6848.0, 8446.0, 8153.0, 6774.0, 7208.0, 5823.0, 7476.0, 7633.0, 7020.0, 7505.0, 7275.0, 7114.0, 8043.0, 7997.0, 6855.0, 5807.0, 6925.0, 7680.0, 4964.0, 7973.0, 6907.0, 7110.0, 8909.0, 5475.0, 5458.0, 7500.0, 7099.0, 5917.0, 7616.0, 7751.0, 7583.0, 7203.0, 7412.0, 7177.0, 7613.0, 8311.0, 5721.0, 7443.0, 7441.0, 6342.0, 8170.0, 7893.0, 5849.0, 5965.0, 6917.0, 6092.0, 6677.0, 5739.0, 11200.0, 7111.0, 6330.0, 5971.0, 8050.0, 5523.0, 10810.0, 5919.0, 6876.0, 6521.0, 15530.0, 10850.0, 7158.0, 2533.0, 7981.0, 7994.0, 7279.0, 7135.0, 7851.0, 4837.0, 6399.0, 11510.0, 6655.0, 6331.0, 7712.0, 10340.0, 7372.0, 6631.0, 7127.0, 5996.0, 9410.0, 6258.0, 5615.0, 7192.0, 7092.0, 10460.0, 7846.0, 6364.0, 7141.0, 7262.0, 7002.0, 2613.0, 6127.0, 6918.0, 6346.0, 6863.0, 6073.0, 4868.0, 6253.0, 6325.0, 7163.0, 6022.0, 7507.0, 6960.0, 3878.0, 6936.0, 6746.0, 5600.0, 3781.0, 14810.0, 5661.0, 5823.0, 9506.0, 5581.0, 5568.0, 4543.0, 13880.0, 2458.0, 6630.0, 2119.0, 7021.0, 9438.0, 7158.0], \"xaxis\": \"x\", \"yaxis\": \"y\"}],                        {\"barmode\": \"relative\", \"legend\": {\"title\": {\"text\": \"variable\"}, \"tracegroupgap\": 0}, \"margin\": {\"t\": 60}, \"template\": {\"data\": {\"bar\": [{\"error_x\": {\"color\": \"#2a3f5f\"}, \"error_y\": {\"color\": \"#2a3f5f\"}, \"marker\": {\"line\": {\"color\": \"#E5ECF6\", \"width\": 0.5}}, \"type\": \"bar\"}], \"barpolar\": [{\"marker\": {\"line\": {\"color\": \"#E5ECF6\", \"width\": 0.5}}, \"type\": \"barpolar\"}], \"carpet\": [{\"aaxis\": {\"endlinecolor\": \"#2a3f5f\", \"gridcolor\": \"white\", \"linecolor\": \"white\", \"minorgridcolor\": \"white\", \"startlinecolor\": \"#2a3f5f\"}, \"baxis\": {\"endlinecolor\": \"#2a3f5f\", \"gridcolor\": \"white\", \"linecolor\": \"white\", \"minorgridcolor\": \"white\", \"startlinecolor\": \"#2a3f5f\"}, \"type\": \"carpet\"}], \"choropleth\": [{\"colorbar\": {\"outlinewidth\": 0, \"ticks\": \"\"}, \"type\": \"choropleth\"}], \"contour\": [{\"colorbar\": {\"outlinewidth\": 0, \"ticks\": \"\"}, \"colorscale\": [[0.0, \"#0d0887\"], [0.1111111111111111, \"#46039f\"], [0.2222222222222222, \"#7201a8\"], [0.3333333333333333, \"#9c179e\"], [0.4444444444444444, \"#bd3786\"], [0.5555555555555556, \"#d8576b\"], [0.6666666666666666, \"#ed7953\"], [0.7777777777777778, \"#fb9f3a\"], [0.8888888888888888, \"#fdca26\"], [1.0, \"#f0f921\"]], \"type\": \"contour\"}], \"contourcarpet\": [{\"colorbar\": {\"outlinewidth\": 0, \"ticks\": \"\"}, \"type\": \"contourcarpet\"}], \"heatmap\": [{\"colorbar\": {\"outlinewidth\": 0, \"ticks\": \"\"}, \"colorscale\": [[0.0, \"#0d0887\"], [0.1111111111111111, \"#46039f\"], [0.2222222222222222, \"#7201a8\"], [0.3333333333333333, \"#9c179e\"], [0.4444444444444444, \"#bd3786\"], [0.5555555555555556, \"#d8576b\"], [0.6666666666666666, \"#ed7953\"], [0.7777777777777778, \"#fb9f3a\"], [0.8888888888888888, \"#fdca26\"], [1.0, \"#f0f921\"]], \"type\": \"heatmap\"}], \"heatmapgl\": [{\"colorbar\": {\"outlinewidth\": 0, \"ticks\": \"\"}, \"colorscale\": [[0.0, \"#0d0887\"], [0.1111111111111111, \"#46039f\"], [0.2222222222222222, \"#7201a8\"], [0.3333333333333333, \"#9c179e\"], [0.4444444444444444, \"#bd3786\"], [0.5555555555555556, \"#d8576b\"], [0.6666666666666666, \"#ed7953\"], [0.7777777777777778, \"#fb9f3a\"], [0.8888888888888888, \"#fdca26\"], [1.0, \"#f0f921\"]], \"type\": \"heatmapgl\"}], \"histogram\": [{\"marker\": {\"colorbar\": {\"outlinewidth\": 0, \"ticks\": \"\"}}, \"type\": \"histogram\"}], \"histogram2d\": [{\"colorbar\": {\"outlinewidth\": 0, \"ticks\": \"\"}, \"colorscale\": [[0.0, \"#0d0887\"], [0.1111111111111111, \"#46039f\"], [0.2222222222222222, \"#7201a8\"], [0.3333333333333333, \"#9c179e\"], [0.4444444444444444, \"#bd3786\"], [0.5555555555555556, \"#d8576b\"], [0.6666666666666666, \"#ed7953\"], [0.7777777777777778, \"#fb9f3a\"], [0.8888888888888888, \"#fdca26\"], [1.0, \"#f0f921\"]], \"type\": \"histogram2d\"}], \"histogram2dcontour\": [{\"colorbar\": {\"outlinewidth\": 0, \"ticks\": \"\"}, \"colorscale\": [[0.0, \"#0d0887\"], [0.1111111111111111, \"#46039f\"], [0.2222222222222222, \"#7201a8\"], [0.3333333333333333, \"#9c179e\"], [0.4444444444444444, \"#bd3786\"], [0.5555555555555556, \"#d8576b\"], [0.6666666666666666, \"#ed7953\"], [0.7777777777777778, \"#fb9f3a\"], [0.8888888888888888, \"#fdca26\"], [1.0, \"#f0f921\"]], \"type\": \"histogram2dcontour\"}], \"mesh3d\": [{\"colorbar\": {\"outlinewidth\": 0, \"ticks\": \"\"}, \"type\": \"mesh3d\"}], \"parcoords\": [{\"line\": {\"colorbar\": {\"outlinewidth\": 0, \"ticks\": \"\"}}, \"type\": \"parcoords\"}], \"pie\": [{\"automargin\": true, \"type\": \"pie\"}], \"scatter\": [{\"marker\": {\"colorbar\": {\"outlinewidth\": 0, \"ticks\": \"\"}}, \"type\": \"scatter\"}], \"scatter3d\": [{\"line\": {\"colorbar\": {\"outlinewidth\": 0, \"ticks\": \"\"}}, \"marker\": {\"colorbar\": {\"outlinewidth\": 0, \"ticks\": \"\"}}, \"type\": \"scatter3d\"}], \"scattercarpet\": [{\"marker\": {\"colorbar\": {\"outlinewidth\": 0, \"ticks\": \"\"}}, \"type\": \"scattercarpet\"}], \"scattergeo\": [{\"marker\": {\"colorbar\": {\"outlinewidth\": 0, \"ticks\": \"\"}}, \"type\": \"scattergeo\"}], \"scattergl\": [{\"marker\": {\"colorbar\": {\"outlinewidth\": 0, \"ticks\": \"\"}}, \"type\": \"scattergl\"}], \"scattermapbox\": [{\"marker\": {\"colorbar\": {\"outlinewidth\": 0, \"ticks\": \"\"}}, \"type\": \"scattermapbox\"}], \"scatterpolar\": [{\"marker\": {\"colorbar\": {\"outlinewidth\": 0, \"ticks\": \"\"}}, \"type\": \"scatterpolar\"}], \"scatterpolargl\": [{\"marker\": {\"colorbar\": {\"outlinewidth\": 0, \"ticks\": \"\"}}, \"type\": \"scatterpolargl\"}], \"scatterternary\": [{\"marker\": {\"colorbar\": {\"outlinewidth\": 0, \"ticks\": \"\"}}, \"type\": \"scatterternary\"}], \"surface\": [{\"colorbar\": {\"outlinewidth\": 0, \"ticks\": \"\"}, \"colorscale\": [[0.0, \"#0d0887\"], [0.1111111111111111, \"#46039f\"], [0.2222222222222222, \"#7201a8\"], [0.3333333333333333, \"#9c179e\"], [0.4444444444444444, \"#bd3786\"], [0.5555555555555556, \"#d8576b\"], [0.6666666666666666, \"#ed7953\"], [0.7777777777777778, \"#fb9f3a\"], [0.8888888888888888, \"#fdca26\"], [1.0, \"#f0f921\"]], \"type\": \"surface\"}], \"table\": [{\"cells\": {\"fill\": {\"color\": \"#EBF0F8\"}, \"line\": {\"color\": \"white\"}}, \"header\": {\"fill\": {\"color\": \"#C8D4E3\"}, \"line\": {\"color\": \"white\"}}, \"type\": \"table\"}]}, \"layout\": {\"annotationdefaults\": {\"arrowcolor\": \"#2a3f5f\", \"arrowhead\": 0, \"arrowwidth\": 1}, \"autotypenumbers\": \"strict\", \"coloraxis\": {\"colorbar\": {\"outlinewidth\": 0, \"ticks\": \"\"}}, \"colorscale\": {\"diverging\": [[0, \"#8e0152\"], [0.1, \"#c51b7d\"], [0.2, \"#de77ae\"], [0.3, \"#f1b6da\"], [0.4, \"#fde0ef\"], [0.5, \"#f7f7f7\"], [0.6, \"#e6f5d0\"], [0.7, \"#b8e186\"], [0.8, \"#7fbc41\"], [0.9, \"#4d9221\"], [1, \"#276419\"]], \"sequential\": [[0.0, \"#0d0887\"], [0.1111111111111111, \"#46039f\"], [0.2222222222222222, \"#7201a8\"], [0.3333333333333333, \"#9c179e\"], [0.4444444444444444, \"#bd3786\"], [0.5555555555555556, \"#d8576b\"], [0.6666666666666666, \"#ed7953\"], [0.7777777777777778, \"#fb9f3a\"], [0.8888888888888888, \"#fdca26\"], [1.0, \"#f0f921\"]], \"sequentialminus\": [[0.0, \"#0d0887\"], [0.1111111111111111, \"#46039f\"], [0.2222222222222222, \"#7201a8\"], [0.3333333333333333, \"#9c179e\"], [0.4444444444444444, \"#bd3786\"], [0.5555555555555556, \"#d8576b\"], [0.6666666666666666, \"#ed7953\"], [0.7777777777777778, \"#fb9f3a\"], [0.8888888888888888, \"#fdca26\"], [1.0, \"#f0f921\"]]}, \"colorway\": [\"#636efa\", \"#EF553B\", \"#00cc96\", \"#ab63fa\", \"#FFA15A\", \"#19d3f3\", \"#FF6692\", \"#B6E880\", \"#FF97FF\", \"#FECB52\"], \"font\": {\"color\": \"#2a3f5f\"}, \"geo\": {\"bgcolor\": \"white\", \"lakecolor\": \"white\", \"landcolor\": \"#E5ECF6\", \"showlakes\": true, \"showland\": true, \"subunitcolor\": \"white\"}, \"hoverlabel\": {\"align\": \"left\"}, \"hovermode\": \"closest\", \"mapbox\": {\"style\": \"light\"}, \"paper_bgcolor\": \"white\", \"plot_bgcolor\": \"#E5ECF6\", \"polar\": {\"angularaxis\": {\"gridcolor\": \"white\", \"linecolor\": \"white\", \"ticks\": \"\"}, \"bgcolor\": \"#E5ECF6\", \"radialaxis\": {\"gridcolor\": \"white\", \"linecolor\": \"white\", \"ticks\": \"\"}}, \"scene\": {\"xaxis\": {\"backgroundcolor\": \"#E5ECF6\", \"gridcolor\": \"white\", \"gridwidth\": 2, \"linecolor\": \"white\", \"showbackground\": true, \"ticks\": \"\", \"zerolinecolor\": \"white\"}, \"yaxis\": {\"backgroundcolor\": \"#E5ECF6\", \"gridcolor\": \"white\", \"gridwidth\": 2, \"linecolor\": \"white\", \"showbackground\": true, \"ticks\": \"\", \"zerolinecolor\": \"white\"}, \"zaxis\": {\"backgroundcolor\": \"#E5ECF6\", \"gridcolor\": \"white\", \"gridwidth\": 2, \"linecolor\": \"white\", \"showbackground\": true, \"ticks\": \"\", \"zerolinecolor\": \"white\"}}, \"shapedefaults\": {\"line\": {\"color\": \"#2a3f5f\"}}, \"ternary\": {\"aaxis\": {\"gridcolor\": \"white\", \"linecolor\": \"white\", \"ticks\": \"\"}, \"baxis\": {\"gridcolor\": \"white\", \"linecolor\": \"white\", \"ticks\": \"\"}, \"bgcolor\": \"#E5ECF6\", \"caxis\": {\"gridcolor\": \"white\", \"linecolor\": \"white\", \"ticks\": \"\"}}, \"title\": {\"x\": 0.05}, \"xaxis\": {\"automargin\": true, \"gridcolor\": \"white\", \"linecolor\": \"white\", \"ticks\": \"\", \"title\": {\"standoff\": 15}, \"zerolinecolor\": \"white\", \"zerolinewidth\": 2}, \"yaxis\": {\"automargin\": true, \"gridcolor\": \"white\", \"linecolor\": \"white\", \"ticks\": \"\", \"title\": {\"standoff\": 15}, \"zerolinecolor\": \"white\", \"zerolinewidth\": 2}}}, \"xaxis\": {\"anchor\": \"y\", \"domain\": [0.0, 1.0], \"title\": {\"text\": \"value\"}}, \"yaxis\": {\"anchor\": \"x\", \"domain\": [0.0, 1.0], \"title\": {\"text\": \"count\"}}},                        {\"responsive\": true}                    ).then(function(){\n",
       "                            \n",
       "var gd = document.getElementById('d10a2b24-7254-4063-bdf9-d12f1f5e40b4');\n",
       "var x = new MutationObserver(function (mutations, observer) {{\n",
       "        var display = window.getComputedStyle(gd).display;\n",
       "        if (!display || display === 'none') {{\n",
       "            console.log([gd, 'removed!']);\n",
       "            Plotly.purge(gd);\n",
       "            observer.disconnect();\n",
       "        }}\n",
       "}});\n",
       "\n",
       "// Listen for the removal of the full notebook cells\n",
       "var notebookContainer = gd.closest('#notebook-container');\n",
       "if (notebookContainer) {{\n",
       "    x.observe(notebookContainer, {childList: true});\n",
       "}}\n",
       "\n",
       "// Listen for the clearing of the current output cell\n",
       "var outputEl = gd.closest('.output');\n",
       "if (outputEl) {{\n",
       "    x.observe(outputEl, {childList: true});\n",
       "}}\n",
       "\n",
       "                        })                };                });            </script>        </div>"
      ]
     },
     "metadata": {},
     "output_type": "display_data"
    },
    {
     "data": {
      "text/plain": [
       "<Figure size 432x288 with 0 Axes>"
      ]
     },
     "metadata": {},
     "output_type": "display_data"
    }
   ],
   "source": [
    "plt.figure()\n",
    "\n",
    "\n",
    "vel = []\n",
    "for v in data[:, 3]:\n",
    "    if v!=0:\n",
    "        vel.append(v)\n",
    "\n",
    "        \n",
    "m = max(vel)\n",
    "n = int(m / 100)\n",
    "binBoundaries = np.linspace(0, m, n)\n",
    "fig = px.histogram(df, nbins=n)\n",
    "fig.show()"
   ]
  },
  {
   "cell_type": "markdown",
   "metadata": {},
   "source": []
  },
  {
   "cell_type": "markdown",
   "metadata": {},
   "source": [
    "Looking only at galaxies with 4000 < cz < 10000 km/s (why?), calculate the mean velocity and velocity dispersion of the galaxy sample."
   ]
  },
  {
   "cell_type": "code",
   "execution_count": 220,
   "metadata": {},
   "outputs": [
    {
     "name": "stdout",
     "output_type": "stream",
     "text": [
      "mean velocity: 6925.482014388489 dispersion example 1009874.278453496\n"
     ]
    }
   ],
   "source": [
    "cz = []\n",
    "for c in data[:, 3]:\n",
    "    if c>4000 and c<10000:\n",
    "        cz.append(c)\n",
    "                \n",
    "    \n",
    "v_mean = np.mean(cz)\n",
    "    \n",
    "disp_ar = []\n",
    "for v in vel:\n",
    "    vv = v - v_mean\n",
    "    disp_ar.append(vv)\n",
    "    \n",
    "disp_mean = np.var(cz)  \n",
    "\n",
    "print('mean velocity:', v_mean,  'dispersion example', disp_mean)"
   ]
  },
  {
   "cell_type": "code",
   "execution_count": 217,
   "metadata": {},
   "outputs": [
    {
     "name": "stdout",
     "output_type": "stream",
     "text": [
      "[  12.68109184 7037.98685912  831.9755409 ]\n"
     ]
    },
    {
     "data": {
      "image/png": "[encoded data removed]",
      "text/plain": [
       "<Figure size 432x288 with 1 Axes>"
      ]
     },
     "metadata": {
      "needs_background": "light"
     },
     "output_type": "display_data"
    },
    {
     "name": "stdout",
     "output_type": "stream",
     "text": [
      "mean velocity: 7037.986859120244 \n",
      " dispersion 831.9755408963002\n"
     ]
    },
    {
     "data": {
      "text/plain": [
       "<Figure size 432x288 with 0 Axes>"
      ]
     },
     "metadata": {},
     "output_type": "display_data"
    }
   ],
   "source": [
    "from scipy.optimize import curve_fit\n",
    "\n",
    "def fit_function(x, B, mu, sigma):\n",
    "    return ( B * np.exp(-1.0 * (x - mu)**2 / (2 * sigma**2)))\n",
    "\n",
    "\n",
    "\n",
    "cz = []\n",
    "for c in data[:, 3]:\n",
    "    if c>4000 and c<10000:\n",
    "        cz.append(c)\n",
    "datt = cz\n",
    "bins = binBoundaries\n",
    "data_entries, bins = np.histogram(datt, bins=bins)\n",
    "binscenters = np.array([0.5 * (bins[i] + bins[i+1]) for i in range(len(bins)-1)])\n",
    "\n",
    "popt, pcov = curve_fit(fit_function, xdata=binscenters, ydata=data_entries, p0=[20, 6000, 700])\n",
    "print(popt)\n",
    "\n",
    "xspace = np.linspace(0, 16000, len(datt))\n",
    "\n",
    "plt.bar(binscenters, data_entries, width = bins[1] - bins[0], color='cornflowerblue', label='Histogram entries')\n",
    "plt.plot(xspace, fit_function(xspace, *popt), color='teal', linewidth=3, label=r'Fitted function')\n",
    "\n",
    "plt.ylim(0,25)\n",
    "plt.xlabel(r'velocity')\n",
    "plt.ylabel(r'Number of entries')\n",
    "plt.legend(loc='best')\n",
    "plt.show()\n",
    "plt.clf()\n",
    "\n",
    "print('mean velocity:', popt[1], '\\n', 'dispersion', popt[2])"
   ]
  },
  {
   "cell_type": "markdown",
   "metadata": {},
   "source": [
    "From your data, how far away is Coma?"
   ]
  },
  {
   "cell_type": "markdown",
   "metadata": {},
   "source": [
    "v = H_o*d, so:"
   ]
  },
  {
   "cell_type": "code",
   "execution_count": 26,
   "metadata": {},
   "outputs": [
    {
     "name": "stdout",
     "output_type": "stream",
     "text": [
      "96.18725019984012 Mpc\n",
      "313.72433525179855 million light years\n"
     ]
    }
   ],
   "source": [
    "d = v_mean / 72 \n",
    "print(d, 'Mpc')\n",
    "dist = d * 3.2616\n",
    "print(dist, 'million light years')"
   ]
  },
  {
   "cell_type": "markdown",
   "metadata": {},
   "source": [
    "Calculate the total blue luminosity (in solar luminosities) for the Coma cluster. Ignore galaxies with cz < 4000 and cz >10000, but include galaxies with unmeasured redshifts. For reference, the absolute blue magnitude of the Sun is MB = +5.48."
   ]
  },
  {
   "cell_type": "code",
   "execution_count": 222,
   "metadata": {},
   "outputs": [
    {
     "ename": "IndexError",
     "evalue": "only integers, slices (`:`), ellipsis (`...`), numpy.newaxis (`None`) and integer or boolean arrays are valid indices",
     "output_type": "error",
     "traceback": [
      "\u001b[0;31m---------------------------------------------------------------------------\u001b[0m",
      "\u001b[0;31mIndexError\u001b[0m                                Traceback (most recent call last)",
      "\u001b[0;32m<ipython-input-222-e1661a259c4c>\u001b[0m in \u001b[0;36m<module>\u001b[0;34m\u001b[0m\n\u001b[1;32m      2\u001b[0m \u001b[0;32mfor\u001b[0m \u001b[0mc\u001b[0m \u001b[0;32min\u001b[0m \u001b[0mdata\u001b[0m\u001b[0;34m[\u001b[0m\u001b[0;34m:\u001b[0m\u001b[0;34m,\u001b[0m \u001b[0;36m3\u001b[0m\u001b[0;34m]\u001b[0m\u001b[0;34m:\u001b[0m\u001b[0;34m\u001b[0m\u001b[0;34m\u001b[0m\u001b[0m\n\u001b[1;32m      3\u001b[0m     \u001b[0;32mif\u001b[0m \u001b[0mc\u001b[0m\u001b[0;34m>\u001b[0m\u001b[0;36m4000\u001b[0m \u001b[0;32mand\u001b[0m \u001b[0mc\u001b[0m\u001b[0;34m<\u001b[0m\u001b[0;36m10000\u001b[0m \u001b[0;32mor\u001b[0m \u001b[0mc\u001b[0m \u001b[0;34m==\u001b[0m \u001b[0;36m0\u001b[0m\u001b[0;34m:\u001b[0m\u001b[0;34m\u001b[0m\u001b[0;34m\u001b[0m\u001b[0m\n\u001b[0;32m----> 4\u001b[0;31m         \u001b[0mlumi\u001b[0m \u001b[0;34m=\u001b[0m \u001b[0mint\u001b[0m\u001b[0;34m(\u001b[0m\u001b[0mdata\u001b[0m\u001b[0;34m[\u001b[0m\u001b[0mc\u001b[0m\u001b[0;34m,\u001b[0m \u001b[0;36m4\u001b[0m\u001b[0;34m]\u001b[0m\u001b[0;34m)\u001b[0m\u001b[0;34m\u001b[0m\u001b[0;34m\u001b[0m\u001b[0m\n\u001b[0m\u001b[1;32m      5\u001b[0m         \u001b[0mlum\u001b[0m\u001b[0;34m.\u001b[0m\u001b[0mappend\u001b[0m\u001b[0;34m(\u001b[0m\u001b[0mlumi\u001b[0m\u001b[0;34m)\u001b[0m\u001b[0;34m\u001b[0m\u001b[0;34m\u001b[0m\u001b[0m\n",
      "\u001b[0;31mIndexError\u001b[0m: only integers, slices (`:`), ellipsis (`...`), numpy.newaxis (`None`) and integer or boolean arrays are valid indices"
     ]
    }
   ],
   "source": [
    "lum = []\n",
    "for i in len(data[:, 3]:\n",
    "    if c>4000 and c<10000 or c == 0:\n",
    "        print\n",
    "        #lumi = int(data[c, 4])\n",
    "        #lum.append(lumi)"
   ]
  },
  {
   "cell_type": "markdown",
   "metadata": {},
   "source": [
    "Figure out the radius (in arcminutes) which contains roughly half the total blue luminosity (it doesn’t have to be an exact solution, but you should get it to +/- 20 arcminutes or so). This is called the half-light radius, which is our estimate of the size of the Coma cluster."
   ]
  },
  {
   "cell_type": "code",
   "execution_count": null,
   "metadata": {},
   "outputs": [],
   "source": []
  }
 ],
 "metadata": {
  "kernelspec": {
   "display_name": "Python 3",
   "language": "python",
   "name": "python3"
  },
  "language_info": {
   "codemirror_mode": {
    "name": "ipython",
    "version": 3
   },
   "file_extension": ".py",
   "mimetype": "text/x-python",
   "name": "python",
   "nbconvert_exporter": "python",
   "pygments_lexer": "ipython3",
   "version": "3.8.5"
  }
 },
 "nbformat": 4,
 "nbformat_minor": 4
}
